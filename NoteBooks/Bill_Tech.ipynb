{
 "cells": [
  {
   "cell_type": "code",
   "execution_count": 17,
   "source": [
    "# library import\r\n",
    "import sys\r\n",
    "sys.path.append('../Custom Library/') \r\n",
    "import datetime as dt\r\n",
    "import HR_Analytics as hr\r\n",
    "import pandas as pd"
   ],
   "outputs": [],
   "metadata": {}
  },
  {
   "cell_type": "code",
   "execution_count": 18,
   "source": [
    "# init db engine\r\n",
    "engine = hr.setEngine('credentials','HRODS')"
   ],
   "outputs": [],
   "metadata": {}
  },
  {
   "cell_type": "code",
   "execution_count": 19,
   "source": [
    "# get excel data\r\n",
    "path = 'C:\\\\Users\\\\garciand\\OneDrive - HP Inc\\\\Desktop\\\\ETL\\\\Input Data Sources\\\\PD\\\\'\r\n",
    "excelFile = 'Bil_Tech.xlsx'\r\n",
    "bilData =  pd.read_excel(path + excelFile)\r\n",
    "\r\n",
    "# email into tuple\r\n",
    "emails = tuple(bilData['Email'].tolist())"
   ],
   "outputs": [],
   "metadata": {}
  },
  {
   "cell_type": "code",
   "execution_count": 20,
   "source": [
    "# create bill report\r\n",
    "\r\n",
    "#query\r\n",
    "bilQuery = \"\"\"\r\n",
    "Select Distinct\r\n",
    "    WD.\"Email - Primary Work\" As \"Email\",\r\n",
    "    Case\r\n",
    "        When TT.\"Job Family Code\" Is Null Then 'No'\r\n",
    "        Else 'Yes'\r\n",
    "\tEnd As \"Technical Yes/No\"\r\n",
    "From\r\n",
    "    \"HPW_DATA\" As WD\r\n",
    "Left Join\r\n",
    "    \"TECHNICAL_JOBS\" AS TT ON TT.\"Job Family Code\" = WD.\"Job Family Code\"\r\n",
    "Where\r\n",
    "    WD.\"Email - Primary Work\" In {0}\r\n",
    "And\r\n",
    "    \"Report Date\" = '2021-06-30'\r\n",
    "\"\"\"\r\n",
    "\r\n",
    "# run query\r\n",
    "bilQueryData = hr.internalQuery(bilQuery.format(emails), engine)"
   ],
   "outputs": [],
   "metadata": {}
  },
  {
   "cell_type": "code",
   "execution_count": 21,
   "source": [
    "hr.exportData(bilQueryData,'Bil_Tech',2)"
   ],
   "outputs": [],
   "metadata": {}
  },
  {
   "cell_type": "code",
   "execution_count": null,
   "source": [],
   "outputs": [],
   "metadata": {}
  }
 ],
 "metadata": {
  "orig_nbformat": 4,
  "language_info": {
   "name": "python"
  }
 },
 "nbformat": 4,
 "nbformat_minor": 2
}