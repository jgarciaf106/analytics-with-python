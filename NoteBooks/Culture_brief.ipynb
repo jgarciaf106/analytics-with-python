{
 "cells": [
  {
   "cell_type": "code",
   "execution_count": 3,
   "source": [
    "import sys\r\n",
    "sys.path.append('../Custom Library/') \r\n",
    "import datetime as dt\r\n",
    "import HR_Analytics as hr\r\n",
    "import pandas as pd"
   ],
   "outputs": [],
   "metadata": {}
  },
  {
   "cell_type": "code",
   "execution_count": 4,
   "source": [
    "# start postgress engine\r\n",
    "engine = hr.setEngine('credentials','HRODS')"
   ],
   "outputs": [],
   "metadata": {}
  },
  {
   "cell_type": "code",
   "execution_count": 5,
   "source": [
    "# headcount by gender get data\r\n",
    "genderQuery = \"\"\"\r\n",
    "Select\r\n",
    "    Count(*) As Headcount,\r\n",
    "    \"Gender Code\"\r\n",
    "From\r\n",
    "    \"HPW_DATA\"\r\n",
    "Where\r\n",
    "    \"Report Date\" = '2020-10-31'\r\n",
    "And\r\n",
    "    \"Pay Group Country Code\" = 'USA'\r\n",
    "And\r\n",
    "    \"Worker Reg / Temp Code\" = 'R'\r\n",
    "And\r\n",
    "    \"Worker Status Category Code\" = 'A'\r\n",
    "Group By\r\n",
    "    \"Gender Code\"\r\n",
    "\"\"\"\r\n",
    "\r\n",
    "genderDF = hr.internalQuery(genderQuery, engine)"
   ],
   "outputs": [],
   "metadata": {}
  },
  {
   "cell_type": "code",
   "execution_count": 6,
   "source": [
    "# headcount by gender data transformation\r\n",
    "genderDF"
   ],
   "outputs": [
    {
     "output_type": "execute_result",
     "data": {
      "text/plain": [
       "   headcount Gender Code\n",
       "0          1        None\n",
       "1          9           U\n",
       "2       7902           M\n",
       "3       3705           F"
      ],
      "text/html": [
       "<div>\n",
       "<style scoped>\n",
       "    .dataframe tbody tr th:only-of-type {\n",
       "        vertical-align: middle;\n",
       "    }\n",
       "\n",
       "    .dataframe tbody tr th {\n",
       "        vertical-align: top;\n",
       "    }\n",
       "\n",
       "    .dataframe thead th {\n",
       "        text-align: right;\n",
       "    }\n",
       "</style>\n",
       "<table border=\"1\" class=\"dataframe\">\n",
       "  <thead>\n",
       "    <tr style=\"text-align: right;\">\n",
       "      <th></th>\n",
       "      <th>headcount</th>\n",
       "      <th>Gender Code</th>\n",
       "    </tr>\n",
       "  </thead>\n",
       "  <tbody>\n",
       "    <tr>\n",
       "      <th>0</th>\n",
       "      <td>1</td>\n",
       "      <td>None</td>\n",
       "    </tr>\n",
       "    <tr>\n",
       "      <th>1</th>\n",
       "      <td>9</td>\n",
       "      <td>U</td>\n",
       "    </tr>\n",
       "    <tr>\n",
       "      <th>2</th>\n",
       "      <td>7902</td>\n",
       "      <td>M</td>\n",
       "    </tr>\n",
       "    <tr>\n",
       "      <th>3</th>\n",
       "      <td>3705</td>\n",
       "      <td>F</td>\n",
       "    </tr>\n",
       "  </tbody>\n",
       "</table>\n",
       "</div>"
      ]
     },
     "metadata": {},
     "execution_count": 6
    }
   ],
   "metadata": {}
  },
  {
   "cell_type": "code",
   "execution_count": 7,
   "source": [
    "# By Age\r\n",
    "ageQuery = \"\"\"\r\n",
    "Select\r\n",
    "    Count(*) As Headcount,\r\n",
    "    Case\r\n",
    "        When \"Age\" >= 55 Then '55 Years or Older'\r\n",
    "        When \"Age\" >= 45 Then '45 to 54 Years'\r\n",
    "        When \"Age\" >= 35 Then '35 to 44 Years'\r\n",
    "        When \"Age\" >= 26 Then '26 to 34 Years'\r\n",
    "        Else '25 Years or Younger'\r\n",
    "    End As \"Age Groups\"\r\n",
    "From\r\n",
    "    \"HPW_DATA\"\r\n",
    "Where\r\n",
    "    \"Report Date\" = '2020-10-31'\r\n",
    "And\r\n",
    "     \"Pay Group Country Code\" = 'USA'\r\n",
    "And\r\n",
    "    \"Worker Reg / Temp Code\" = 'R'\r\n",
    "And\r\n",
    "    \"Worker Status Category Code\" = 'A'\r\n",
    "Group By\r\n",
    "    Case\r\n",
    "        When \"Age\" >= 55 Then '55 Years or Older'\r\n",
    "        When \"Age\" >= 45 Then '45 to 54 Years'\r\n",
    "        When \"Age\" >= 35 Then '35 to 44 Years'\r\n",
    "        When \"Age\" >= 26 Then '26 to 34 Years'\r\n",
    "        Else '25 Years or Younger'\r\n",
    "    End\r\n",
    "\"\"\"\r\n",
    "\r\n",
    "ageDF = hr.internalQuery(ageQuery, engine)"
   ],
   "outputs": [],
   "metadata": {}
  },
  {
   "cell_type": "code",
   "execution_count": 8,
   "source": [
    "# headcount by age data transformation\r\n",
    "ageDF"
   ],
   "outputs": [
    {
     "output_type": "execute_result",
     "data": {
      "text/plain": [
       "   headcount           Age Groups\n",
       "0       1650       26 to 34 Years\n",
       "1       2448       35 to 44 Years\n",
       "2        360  25 Years or Younger\n",
       "3       3202    55 Years or Older\n",
       "4       3957       45 to 54 Years"
      ],
      "text/html": [
       "<div>\n",
       "<style scoped>\n",
       "    .dataframe tbody tr th:only-of-type {\n",
       "        vertical-align: middle;\n",
       "    }\n",
       "\n",
       "    .dataframe tbody tr th {\n",
       "        vertical-align: top;\n",
       "    }\n",
       "\n",
       "    .dataframe thead th {\n",
       "        text-align: right;\n",
       "    }\n",
       "</style>\n",
       "<table border=\"1\" class=\"dataframe\">\n",
       "  <thead>\n",
       "    <tr style=\"text-align: right;\">\n",
       "      <th></th>\n",
       "      <th>headcount</th>\n",
       "      <th>Age Groups</th>\n",
       "    </tr>\n",
       "  </thead>\n",
       "  <tbody>\n",
       "    <tr>\n",
       "      <th>0</th>\n",
       "      <td>1650</td>\n",
       "      <td>26 to 34 Years</td>\n",
       "    </tr>\n",
       "    <tr>\n",
       "      <th>1</th>\n",
       "      <td>2448</td>\n",
       "      <td>35 to 44 Years</td>\n",
       "    </tr>\n",
       "    <tr>\n",
       "      <th>2</th>\n",
       "      <td>360</td>\n",
       "      <td>25 Years or Younger</td>\n",
       "    </tr>\n",
       "    <tr>\n",
       "      <th>3</th>\n",
       "      <td>3202</td>\n",
       "      <td>55 Years or Older</td>\n",
       "    </tr>\n",
       "    <tr>\n",
       "      <th>4</th>\n",
       "      <td>3957</td>\n",
       "      <td>45 to 54 Years</td>\n",
       "    </tr>\n",
       "  </tbody>\n",
       "</table>\n",
       "</div>"
      ]
     },
     "metadata": {},
     "execution_count": 8
    }
   ],
   "metadata": {}
  },
  {
   "cell_type": "code",
   "execution_count": 69,
   "source": [
    "# By Management Level\r\n",
    "mgntQuery = \"\"\"\r\n",
    "Select\r\n",
    "    \"Worker ID\",\r\n",
    "    \"Management Level\",\r\n",
    "    \"Ethnicity\",\r\n",
    "    \"Gender Code\",\r\n",
    "    \"Sales Job Indicator\",\r\n",
    "    \"Exempt\"\r\n",
    "From\r\n",
    "    \"HPW_DATA\"\r\n",
    "Where\r\n",
    "    \"Report Date\" = '2020-10-31'\r\n",
    "And\r\n",
    "    \"Pay Group Country Code\" = 'USA'\r\n",
    "And\r\n",
    "    \"Worker Reg / Temp Code\" = 'R'\r\n",
    "And\r\n",
    "    \"Worker Status Category Code\" = 'A'\r\n",
    "\"\"\"\r\n",
    "\r\n",
    "mgntDF = hr.internalQuery(mgntQuery, engine)"
   ],
   "outputs": [],
   "metadata": {}
  },
  {
   "cell_type": "code",
   "execution_count": 70,
   "source": [
    "#mgtDF = mgntDF.drop(\"Ethnicity\", axis=1)\r\n",
    "hr.exportData(mgntDF)"
   ],
   "outputs": [],
   "metadata": {}
  },
  {
   "cell_type": "code",
   "execution_count": null,
   "source": [],
   "outputs": [],
   "metadata": {}
  }
 ],
 "metadata": {
  "orig_nbformat": 4,
  "language_info": {
   "name": "python"
  }
 },
 "nbformat": 4,
 "nbformat_minor": 2
}