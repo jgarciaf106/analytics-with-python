{
 "cells": [
  {
   "cell_type": "code",
   "execution_count": 1,
   "source": [
    "# Library import\r\n",
    "import sys\r\n",
    "sys.path.append('./HR_Library/') \r\n",
    "import datetime as dt\r\n",
    "import get_data as gd\r\n",
    "import pandas as pd"
   ],
   "outputs": [],
   "metadata": {}
  },
  {
   "cell_type": "code",
   "execution_count": 2,
   "source": [
    "# init db engine\r\n",
    "ods = gd.Get_Data(\r\n",
    "    'postgres',\r\n",
    "    'HRODS',\r\n",
    "    'DEI')"
   ],
   "outputs": [],
   "metadata": {}
  },
  {
   "cell_type": "code",
   "execution_count": 3,
   "source": [
    "# set engine\r\n",
    "engine = ods.set_engine()\r\n",
    "\r\n",
    "#set paths\r\n",
    "ods.set_output_path(\"C:\\\\Users\\\\garciand\\\\OneDrive - HP Inc\\\\Desktop\\\\Deliverables\\\\DEI\\\\\")"
   ],
   "outputs": [],
   "metadata": {}
  },
  {
   "cell_type": "code",
   "execution_count": 4,
   "source": [
    "# query\r\n",
    "query = \"\"\"\r\n",
    "Select \r\n",
    "\r\n",
    "    1 As \"Headcount\",\r\n",
    "    CASE\r\n",
    "        WHEN wd.\"Pay Group Country Desc\" IN (\r\n",
    "        'Austria',\r\n",
    "        'Belgium',\r\n",
    "        'Bulgaria',\r\n",
    "        'Croatia',\r\n",
    "        'Czechia',\r\n",
    "        'Denmark',\r\n",
    "        'FinlAnd',\r\n",
    "        'Greece',\r\n",
    "        'Hungary',\r\n",
    "        'IrelAnd',\r\n",
    "        'Israel',\r\n",
    "        'Kazakhstan',\r\n",
    "        'Luxembourg',\r\n",
    "        'Morocco',\r\n",
    "        'NetherlAnds',\r\n",
    "        'Nigeria',\r\n",
    "        'Norway',\r\n",
    "        'PolAnd',\r\n",
    "        'Portugal',\r\n",
    "        'Russian FederatiOn',\r\n",
    "        'Saudi Arabia',\r\n",
    "        'Serbia',\r\n",
    "        'Slovakia',\r\n",
    "        'South Africa',\r\n",
    "        'Sweden',\r\n",
    "        'Tunisia',\r\n",
    "        'Turkey',\r\n",
    "        'United Arab Emirates') THEN 'U'\r\n",
    "        WHEN pwd.\"Employee ID\" IS NULL THEN 'N'\r\n",
    "        ELSE pwd.\"Is PWD?\"\r\n",
    "\tEND AS \"PWD Status\",\r\n",
    "\t\r\n",
    "    CASE\r\n",
    "        WHEN WD.\"Pay Group Country Code\" = N'USA' THEN WD.\"Pay Group Country Desc\"\r\n",
    "        ELSE 'Other'\r\n",
    "    END AS \"Pay Group Country Desc\"     \r\n",
    "\r\n",
    "From\r\n",
    "    \"HPW_DAILY\" wd\r\n",
    "Left Join \r\n",
    "    \"HPW_W_DISABILITIES\" AS pwd ON pwd.\"Employee ID\" = wd.\"Worker ID\" AND pwd.\"Report Date\" = (Select Max(\"Report Date\") From \"HPW_W_DISABILITIES\")\r\n",
    "Where \r\n",
    "    wd.\"Worker Reg / Temp Code\" = 'R'\r\n",
    "And \r\n",
    "    wd.\"Worker Status Category Code\" = 'A'\r\n",
    "And\r\n",
    "    wd.\"Report Date\" = (Select Max(\"Report Date\") From \"HPW_DAILY\")\r\n",
    "\"\"\""
   ],
   "outputs": [],
   "metadata": {}
  },
  {
   "cell_type": "code",
   "execution_count": 5,
   "source": [
    "data = ods.internal_query(query, engine)\r\n",
    "\r\n",
    "# Headcount\r\n",
    "ww_headcount = data[\"Headcount\"].sum()\r\n",
    "us_headcount = data.loc[data[\"Pay Group Country Desc\"] == \"United States of America\"][\r\n",
    "    \"Headcount\"\r\n",
    "].sum()\r\n",
    "\r\n",
    "# people with disabilities\r\n",
    "ww_pwd_headcount = data.loc[data[\"PWD Status\"] == \"Y\"][\"Headcount\"].sum()\r\n",
    "us_pwd_headcount = data.loc[\r\n",
    "    (data[\"Pay Group Country Desc\"] == \"United States of America\")\r\n",
    "    & (data[\"PWD Status\"] == \"Y\")\r\n",
    "][\"Headcount\"].sum()\r\n",
    "\r\n",
    "# % people with disabilities\r\n",
    "ww_pwd_headcount_p = round((ww_pwd_headcount / ww_headcount) * 100, 1).astype(str) + \"%\"\r\n",
    "us_pwd_headcount_p = round((us_pwd_headcount / us_headcount) * 100, 1).astype(str) + \"%\"\r\n"
   ],
   "outputs": [],
   "metadata": {}
  },
  {
   "cell_type": "code",
   "execution_count": 6,
   "source": [
    "# data to dataframe\r\n",
    "kpi = [\r\n",
    "    \"• WW + U.S. Total employment in-scope\",\r\n",
    "    \"• WW + U.S. Number of employees with disabilities\",\r\n",
    "    \"• WW + U.S. Percentage of employees with disabilities\",\r\n",
    "]\r\n",
    "\r\n",
    "kpi_data = [\r\n",
    "    \"WW: \" + str(ww_headcount) + \", US: \" + str(us_headcount),\r\n",
    "    \"WW: \" + str(ww_pwd_headcount) + \", US: \" + str(us_pwd_headcount),\r\n",
    "    \"WW: \" + str(ww_pwd_headcount_p) + \", US: \" + str(us_pwd_headcount_p),\r\n",
    "]\r\n",
    "\r\n",
    "kpi_to_list = list(zip(kpi, kpi_data))\r\n",
    "\r\n",
    "# Converting lists of tuples into\r\n",
    "# pandas Dataframe.\r\n",
    "df = pd.DataFrame(kpi_to_list, columns=[\"Metric\", \"Result\"])\r\n",
    "\r\n",
    "# Print data.\r\n",
    "df\r\n"
   ],
   "outputs": [
    {
     "output_type": "execute_result",
     "data": {
      "text/html": [
       "<div>\n",
       "<style scoped>\n",
       "    .dataframe tbody tr th:only-of-type {\n",
       "        vertical-align: middle;\n",
       "    }\n",
       "\n",
       "    .dataframe tbody tr th {\n",
       "        vertical-align: top;\n",
       "    }\n",
       "\n",
       "    .dataframe thead th {\n",
       "        text-align: right;\n",
       "    }\n",
       "</style>\n",
       "<table border=\"1\" class=\"dataframe\">\n",
       "  <thead>\n",
       "    <tr style=\"text-align: right;\">\n",
       "      <th></th>\n",
       "      <th>Metric</th>\n",
       "      <th>Result</th>\n",
       "    </tr>\n",
       "  </thead>\n",
       "  <tbody>\n",
       "    <tr>\n",
       "      <th>0</th>\n",
       "      <td>• WW + U.S. Total employment in-scope</td>\n",
       "      <td>WW: 50583, US: 11745</td>\n",
       "    </tr>\n",
       "    <tr>\n",
       "      <th>1</th>\n",
       "      <td>• WW + U.S. Number of employees with disabilities</td>\n",
       "      <td>WW: 293, US: 80</td>\n",
       "    </tr>\n",
       "    <tr>\n",
       "      <th>2</th>\n",
       "      <td>• WW + U.S. Percentage of employees with disab...</td>\n",
       "      <td>WW: 0.6%, US: 0.7%</td>\n",
       "    </tr>\n",
       "  </tbody>\n",
       "</table>\n",
       "</div>"
      ],
      "text/plain": [
       "                                              Metric                Result\n",
       "0              • WW + U.S. Total employment in-scope  WW: 50583, US: 11745\n",
       "1  • WW + U.S. Number of employees with disabilities       WW: 293, US: 80\n",
       "2  • WW + U.S. Percentage of employees with disab...    WW: 0.6%, US: 0.7%"
      ]
     },
     "metadata": {},
     "execution_count": 6
    }
   ],
   "metadata": {}
  },
  {
   "cell_type": "code",
   "execution_count": 7,
   "source": [
    "ods.export_data(df,\"WBA\",\"Yes\")"
   ],
   "outputs": [],
   "metadata": {}
  },
  {
   "cell_type": "code",
   "execution_count": null,
   "source": [],
   "outputs": [],
   "metadata": {}
  }
 ],
 "metadata": {
  "orig_nbformat": 4,
  "language_info": {
   "name": "python",
   "version": "3.8.12",
   "mimetype": "text/x-python",
   "codemirror_mode": {
    "name": "ipython",
    "version": 3
   },
   "pygments_lexer": "ipython3",
   "nbconvert_exporter": "python",
   "file_extension": ".py"
  },
  "kernelspec": {
   "name": "python3",
   "display_name": "Python 3.8.12 64-bit ('base': conda)"
  },
  "interpreter": {
   "hash": "4a29cd43a4810d6a942ce6e84a00941e922630dc546f381ebde2ea5a8fbeadeb"
  }
 },
 "nbformat": 4,
 "nbformat_minor": 2
}