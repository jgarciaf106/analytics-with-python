{
 "cells": [
  {
   "cell_type": "code",
   "execution_count": 5,
   "source": [
    "import sys\r\n",
    "sys.path.append('../Custom Library/') \r\n",
    "import datetime as dt\r\n",
    "import HR_Analytics as hr\r\n",
    "import pandas as pd"
   ],
   "outputs": [],
   "metadata": {}
  },
  {
   "cell_type": "code",
   "execution_count": 6,
   "source": [
    "# start postgress engine\r\n",
    "engine = hr.setEngine('credentials','HRODS')"
   ],
   "outputs": [],
   "metadata": {}
  },
  {
   "cell_type": "code",
   "execution_count": 7,
   "source": [
    "# By Management Level\r\n",
    "query = \"\"\"\r\n",
    "Select\r\n",
    "    \"Worker ID\",\r\n",
    "    \"Preferred Name\",\r\n",
    "    \"Gender Code\",\r\n",
    "    \"Business Lvl 1 (Group) Code\",\r\n",
    "    \"Email - Primary Work\",\r\n",
    "    \"Management Level\",\r\n",
    "    \"Length of Service in Years\",\r\n",
    "    \"Time in Job Profile\" / 12 As \"Time in Role in Years\"\r\n",
    "From\r\n",
    "    \"HPW_DATA\"\r\n",
    "Where\r\n",
    "    \"Report Date\" = (Select Max(\"Report Date\") From \"HPW_DATA\")\r\n",
    "And\r\n",
    "    \"Pay Group Country Code\" = 'USA'\r\n",
    "And\r\n",
    "    \"Worker Reg / Temp Code\" = 'R'\r\n",
    "And\r\n",
    "    \"Worker Status Category Code\" = 'A'\r\n",
    "And\r\n",
    "    \"Management Level\" In ('DIR','EXE')\r\n",
    "And\r\n",
    "    \"Ethnicity\" = 'Black/African American (United States of America)'\r\n",
    "\"\"\"\r\n",
    "\r\n",
    "baaDF = hr.internalQuery(query, engine)"
   ],
   "outputs": [],
   "metadata": {}
  },
  {
   "cell_type": "code",
   "execution_count": 8,
   "source": [
    "hr.exportData(baaDF, 'Black AA Employees', 1)"
   ],
   "outputs": [],
   "metadata": {}
  }
 ],
 "metadata": {
  "orig_nbformat": 4,
  "language_info": {
   "name": "python",
   "version": "3.8.10",
   "mimetype": "text/x-python",
   "codemirror_mode": {
    "name": "ipython",
    "version": 3
   },
   "pygments_lexer": "ipython3",
   "nbconvert_exporter": "python",
   "file_extension": ".py"
  },
  "kernelspec": {
   "name": "python3",
   "display_name": "Python 3.8.8 64-bit ('base': conda)"
  },
  "interpreter": {
   "hash": "4a29cd43a4810d6a942ce6e84a00941e922630dc546f381ebde2ea5a8fbeadeb"
  }
 },
 "nbformat": 4,
 "nbformat_minor": 2
}