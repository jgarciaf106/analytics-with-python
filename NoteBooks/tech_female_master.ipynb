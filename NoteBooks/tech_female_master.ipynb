{
 "metadata": {
  "language_info": {
   "codemirror_mode": {
    "name": "ipython",
    "version": 3
   },
   "file_extension": ".py",
   "mimetype": "text/x-python",
   "name": "python",
   "nbconvert_exporter": "python",
   "pygments_lexer": "ipython3",
   "version": "3.8.8"
  },
  "orig_nbformat": 2,
  "kernelspec": {
   "name": "python388jvsc74a57bd04a29cd43a4810d6a942ce6e84a00941e922630dc546f381ebde2ea5a8fbeadeb",
   "display_name": "Python 3.8.8 64-bit ('base': conda)"
  }
 },
 "nbformat": 4,
 "nbformat_minor": 2,
 "cells": [
  {
   "cell_type": "code",
   "execution_count": 2,
   "metadata": {},
   "outputs": [],
   "source": [
    "import sys\n",
    "sys.path.append('../Custom Library/') \n",
    "import datetime as dt\n",
    "import HR_Analytics as hr"
   ]
  },
  {
   "cell_type": "code",
   "execution_count": 3,
   "metadata": {},
   "outputs": [],
   "source": [
    "engine = hr.setEngine('credentials','BIHRDW')"
   ]
  },
  {
   "cell_type": "code",
   "execution_count": 6,
   "metadata": {},
   "outputs": [],
   "source": [
    "# add query result to data frame\n",
    "tfm = hr.externalQuery('tech female master',engine)\n",
    "\n",
    "filename = 'Tech Female Master as of '\n",
    "asOf = dt.datetime.now().strftime(\"%m-%d-%Y\")\n",
    "hr.exportData(tfm,filename + asOf,'data_export')\n"
   ]
  },
  {
   "cell_type": "code",
   "execution_count": null,
   "metadata": {},
   "outputs": [],
   "source": []
  }
 ]
}