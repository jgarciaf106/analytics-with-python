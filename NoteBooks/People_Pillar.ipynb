{
 "cells": [
  {
   "cell_type": "code",
   "execution_count": 10,
   "source": [
    "import sys\r\n",
    "sys.path.append('./HR_Library/') \r\n",
    "import datetime as dt\r\n",
    "import get_data as gd\r\n",
    "import pandas as pd"
   ],
   "outputs": [],
   "metadata": {}
  },
  {
   "cell_type": "code",
   "execution_count": 11,
   "source": [
    "# start postgress engine\r\n",
    "ods = gd.Get_Data(\r\n",
    "    'postgres',\r\n",
    "    'HRODS',\r\n",
    "    'C:\\\\Users\\\\garciand/OneDrive - HP Inc\\\\Desktop\\\\Deliverables\\\\',\r\n",
    "    'DEI',\r\n",
    "    'C:\\\\Users\\\\garciand\\\\OneDrive - HP Inc\\\\Desktop\\\\Python_Analytics\\\\NoteBooks\\\\Queries\\\\',\r\n",
    "    'C:\\\\Users\\\\garciand\\\\OneDrive - HP Inc\\\\Desktop\\\\ETL\\\\Input Data Sources\\\\DEI\\\\')"
   ],
   "outputs": [],
   "metadata": {}
  },
  {
   "cell_type": "code",
   "execution_count": 12,
   "source": [
    "engine = ods.set_engine()"
   ],
   "outputs": [],
   "metadata": {}
  },
  {
   "cell_type": "code",
   "execution_count": 13,
   "source": [
    "# People Pillar queries\r\n",
    "\r\n",
    "# Update query tables from query\r\n",
    "\r\n",
    "# Exempt + Non-Exempt Representation\r\n",
    "rep_exempt_non_exempt = ods.external_query('DEI_PEOPLE_PILLAR_EXEMPT_NONEXEMPT',engine)\r\n",
    "rep_exempt = ods.external_query('DEI_PEOPLE_PILLAR_EXEMPT',engine)\r\n",
    "\r\n",
    "# Exempt + Non-Exempt Headcount\r\n",
    "hc_exempt_non_exempt = ods.external_query('DEI_PEOPLE_PILLAR_EXEMPT_NONEXEMPT_HC',engine)\r\n",
    "hc_exempt = ods.external_query('DEI_PEOPLE_PILLAR_EXEMPT_HC',engine)\r\n",
    "\r\n",
    "# Non-Exempt hires\r\n",
    "hire_non_exempt = ods.external_query('DEI_PEOPLE_PILLAR_NON_EXEMPT_HIRES',engine)\r\n",
    "\r\n"
   ],
   "outputs": [],
   "metadata": {}
  },
  {
   "cell_type": "code",
   "execution_count": 14,
   "source": [
    "# Merge Dataframes\r\n",
    "representation_data = rep_exempt_non_exempt.append(rep_exempt, sort=False)\r\n",
    "headcount_data = hc_exempt_non_exempt.append(hc_exempt, sort=False)\r\n",
    "peoplePillar_data = pd.merge(representation_data,headcount_data, on=['Table','Metric'])\r\n",
    "peoplePillar_data['%'] = round((peoplePillar_data['Rep Headcount'] / peoplePillar_data['Headcount']) * 100,1)\r\n"
   ],
   "outputs": [],
   "metadata": {}
  },
  {
   "cell_type": "code",
   "execution_count": 15,
   "source": [
    "# People Pillar updates\r\n",
    "print(\"\")\r\n",
    "print(\"#################################\")\r\n",
    "print(peoplePillar_data)\r\n",
    "print(\"\")\r\n",
    "print(\"#################################\")\r\n",
    "print(hire_non_exempt)"
   ],
   "outputs": [
    {
     "output_type": "stream",
     "name": "stdout",
     "text": [
      "\n",
      "#################################\n",
      "               Table               Metric  Rep Headcount  Headcount    %\n",
      "0  Exempt+Non-Exempt  B/AA Representation            514      11735  4.4\n",
      "1  Exempt+Non-Exempt       B/AA Technical            246       5088  4.8\n",
      "2  Exempt+Non-Exempt       B/AA VP+ level              8        196  4.1\n",
      "3             Exempt  B/AA Representation            338       9675  3.5\n",
      "4             Exempt       B/AA Technical            105       4056  2.6\n",
      "5             Exempt       B/AA VP+ level              8        196  4.1\n",
      "\n",
      "#################################\n",
      "        Table Metric  BAA Non-Exempt New Hires  Total Non-Exempt New Hires\n",
      "0  Non-Exempt  Hires                        20                         190\n"
     ]
    }
   ],
   "metadata": {}
  },
  {
   "cell_type": "code",
   "execution_count": null,
   "source": [],
   "outputs": [],
   "metadata": {}
  }
 ],
 "metadata": {
  "orig_nbformat": 4,
  "language_info": {
   "name": "python",
   "version": "3.8.12",
   "mimetype": "text/x-python",
   "codemirror_mode": {
    "name": "ipython",
    "version": 3
   },
   "pygments_lexer": "ipython3",
   "nbconvert_exporter": "python",
   "file_extension": ".py"
  },
  "kernelspec": {
   "name": "python3",
   "display_name": "Python 3.8.12 64-bit ('base': conda)"
  },
  "interpreter": {
   "hash": "4a29cd43a4810d6a942ce6e84a00941e922630dc546f381ebde2ea5a8fbeadeb"
  }
 },
 "nbformat": 4,
 "nbformat_minor": 2
}