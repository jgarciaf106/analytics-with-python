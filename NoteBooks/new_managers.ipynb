{
 "metadata": {
  "language_info": {
   "codemirror_mode": {
    "name": "ipython",
    "version": 3
   },
   "file_extension": ".py",
   "mimetype": "text/x-python",
   "name": "python",
   "nbconvert_exporter": "python",
   "pygments_lexer": "ipython3",
   "version": "3.8.8"
  },
  "orig_nbformat": 2,
  "kernelspec": {
   "name": "python388jvsc74a57bd04a29cd43a4810d6a942ce6e84a00941e922630dc546f381ebde2ea5a8fbeadeb",
   "display_name": "Python 3.8.8 64-bit ('base': conda)"
  }
 },
 "nbformat": 4,
 "nbformat_minor": 2,
 "cells": [
  {
   "cell_type": "code",
   "execution_count": 1,
   "metadata": {},
   "outputs": [],
   "source": [
    "import datetime as dt\n",
    "import HR_Analytics as hr"
   ]
  },
  {
   "cell_type": "code",
   "execution_count": 2,
   "metadata": {},
   "outputs": [],
   "source": [
    "engine = hr.setEngine('credentials','BIHRDW')"
   ]
  },
  {
   "cell_type": "code",
   "execution_count": 3,
   "metadata": {},
   "outputs": [],
   "source": [
    "# query statement\n",
    "dateFrom = \"'2021-04-04'\"\n",
    "dateTo = \"'2021-05-03'\"\n",
    "query =\"EXEC SP_NEW_MANAGERS {0},{1}\".format(dateFrom,dateTo)\n",
    "\n",
    "# add query result to data frame\n",
    "nm = hr.internalQuery(query,engine)\n",
    "\n",
    "#export data to excel\n",
    "nameFrom = dt.datetime.strptime(dateFrom.replace(\"'\",\"\"),'%Y-%m-%d').strftime('%b %d %Y')\n",
    "nameTo = dt.datetime.strptime(dateTo.replace(\"'\",\"\"),'%Y-%m-%d').strftime('%b %d %Y')\n",
    "filename = 'New Managers {0} - {1}'.format(nameFrom, nameTo)\n",
    "hr.exportData(nm,filename)\n"
   ]
  }
 ]
}