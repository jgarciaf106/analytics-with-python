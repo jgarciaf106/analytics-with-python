{
 "cells": [
  {
   "cell_type": "code",
   "execution_count": 1,
   "source": [
    "import sys\r\n",
    "sys.path.append('../Custom Library/') \r\n",
    "import datetime as dt\r\n",
    "import HR_Analytics as hr"
   ],
   "outputs": [],
   "metadata": {}
  },
  {
   "cell_type": "code",
   "execution_count": null,
   "source": [
    "engine = hr.setEngine('credentials','HRODS')"
   ],
   "outputs": [],
   "metadata": {}
  },
  {
   "cell_type": "code",
   "execution_count": null,
   "source": [
    "# query statement\r\n",
    "dateFrom = \"'2021-08-04'\"\r\n",
    "dateTo = \"'2021-09-03'\"\r\n",
    "queryPath = 'C:/Users/garciand/OneDrive - HP Inc/Desktop/Python Analytics/Queries/PD_New_Managers.sql'\r\n",
    "\r\n",
    "with open(queryPath) as get:\r\n",
    "    query = get.read()\r\n",
    "\r\n",
    "# add query result to data frame\r\n",
    "nm = hr.internalQuery(query.format(dateFrom, dateTo),engine)\r\n",
    "\r\n",
    "#export data to excel\r\n",
    "nameFrom = dt.datetime.strptime(dateFrom.replace(\"'\",\"\"),'%Y-%m-%d').strftime('%b %d %Y')\r\n",
    "nameTo = dt.datetime.strptime(dateTo.replace(\"'\",\"\"),'%Y-%m-%d').strftime('%b %d %Y')\r\n",
    "filename = 'New Managers {0} - {1}'.format(nameFrom, nameTo)\r\n",
    "hr.exportData(nm,filename,2)\r\n"
   ],
   "outputs": [],
   "metadata": {}
  },
  {
   "cell_type": "code",
   "execution_count": null,
   "source": [],
   "outputs": [],
   "metadata": {}
  }
 ],
 "metadata": {
  "interpreter": {
   "hash": "4a29cd43a4810d6a942ce6e84a00941e922630dc546f381ebde2ea5a8fbeadeb"
  },
  "kernelspec": {
   "name": "python3",
   "display_name": "Python 3.8.10 64-bit ('base': conda)"
  },
  "language_info": {
   "codemirror_mode": {
    "name": "ipython",
    "version": 3
   },
   "file_extension": ".py",
   "mimetype": "text/x-python",
   "name": "python",
   "nbconvert_exporter": "python",
   "pygments_lexer": "ipython3",
   "version": "3.8.10"
  },
  "orig_nbformat": 2
 },
 "nbformat": 4,
 "nbformat_minor": 2
}