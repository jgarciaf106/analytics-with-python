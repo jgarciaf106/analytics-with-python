{
 "cells": [
  {
   "cell_type": "code",
   "execution_count": 62,
   "source": [
    "# libraries import\r\n",
    "import HR_Library.HR_Analytics as hr\r\n",
    "import datetime as dt\r\n",
    "import numpy as np\r\n",
    "import matplotlib.pyplot as pp\r\n",
    "import pandas as pd\r\n",
    "import seaborn\r\n",
    "import datetime\r\n",
    "import random"
   ],
   "outputs": [],
   "metadata": {}
  },
  {
   "cell_type": "code",
   "execution_count": 63,
   "source": [
    "# start postgress engine\r\n",
    "engine = hr.setEngine('credentials','HRODS')"
   ],
   "outputs": [],
   "metadata": {}
  },
  {
   "cell_type": "code",
   "execution_count": 64,
   "source": [
    "# diversity data fetch\r\n",
    "div_data = hr.externalQuery('DEI_New_HP', engine)"
   ],
   "outputs": [],
   "metadata": {}
  },
  {
   "cell_type": "code",
   "execution_count": 65,
   "source": [
    "# data transformation\r\n",
    "## format date field\r\n",
    "div_data['Date'] = div_data['Report Date'].dt.strftime('%Y/%m/%d')\r\n",
    "## remove unformatted date field\r\n",
    "del div_data['Report Date']\r\n",
    "## reorder formatted date column\r\n",
    "col = div_data.pop('Date')\r\n",
    "div_data.insert(0, col.name, col)\r\n",
    "## rename date field\r\n",
    "div_data = div_data.rename(columns={'Date': 'Report Date'})"
   ],
   "outputs": [],
   "metadata": {}
  },
  {
   "cell_type": "markdown",
   "source": [
    "# HP Worldwide Headcount"
   ],
   "metadata": {}
  },
  {
   "cell_type": "code",
   "execution_count": 66,
   "source": [
    "# HP Inc headcount\r\n",
    "hp_hc = div_data.loc[div_data[\"Report Date\"] >= \"2020/10/31\"].pivot_table(\r\n",
    "    columns=\"Report Date\", values=\"HC\", aggfunc=pd.Series.sum\r\n",
    ")\r\n",
    "hp_hc.style.format(\"{:,}\")\r\n"
   ],
   "outputs": [
    {
     "output_type": "execute_result",
     "data": {
      "text/html": [
       "<style type=\"text/css\">\n",
       "</style>\n",
       "<table id=\"T_d091e_\">\n",
       "  <thead>\n",
       "    <tr>\n",
       "      <th class=\"index_name level0\" >Report Date</th>\n",
       "      <th class=\"col_heading level0 col0\" >2020/10/31</th>\n",
       "      <th class=\"col_heading level0 col1\" >2020/11/30</th>\n",
       "      <th class=\"col_heading level0 col2\" >2020/12/31</th>\n",
       "      <th class=\"col_heading level0 col3\" >2021/01/31</th>\n",
       "      <th class=\"col_heading level0 col4\" >2021/02/28</th>\n",
       "      <th class=\"col_heading level0 col5\" >2021/03/31</th>\n",
       "      <th class=\"col_heading level0 col6\" >2021/04/30</th>\n",
       "      <th class=\"col_heading level0 col7\" >2021/05/31</th>\n",
       "      <th class=\"col_heading level0 col8\" >2021/06/30</th>\n",
       "      <th class=\"col_heading level0 col9\" >2021/07/31</th>\n",
       "      <th class=\"col_heading level0 col10\" >2021/08/31</th>\n",
       "    </tr>\n",
       "  </thead>\n",
       "  <tbody>\n",
       "    <tr>\n",
       "      <th id=\"T_d091e_level0_row0\" class=\"row_heading level0 row0\" >HC</th>\n",
       "      <td id=\"T_d091e_row0_col0\" class=\"data row0 col0\" >48,580</td>\n",
       "      <td id=\"T_d091e_row0_col1\" class=\"data row0 col1\" >48,412</td>\n",
       "      <td id=\"T_d091e_row0_col2\" class=\"data row0 col2\" >48,364</td>\n",
       "      <td id=\"T_d091e_row0_col3\" class=\"data row0 col3\" >47,954</td>\n",
       "      <td id=\"T_d091e_row0_col4\" class=\"data row0 col4\" >47,818</td>\n",
       "      <td id=\"T_d091e_row0_col5\" class=\"data row0 col5\" >47,794</td>\n",
       "      <td id=\"T_d091e_row0_col6\" class=\"data row0 col6\" >47,790</td>\n",
       "      <td id=\"T_d091e_row0_col7\" class=\"data row0 col7\" >47,620</td>\n",
       "      <td id=\"T_d091e_row0_col8\" class=\"data row0 col8\" >48,077</td>\n",
       "      <td id=\"T_d091e_row0_col9\" class=\"data row0 col9\" >48,380</td>\n",
       "      <td id=\"T_d091e_row0_col10\" class=\"data row0 col10\" >48,745</td>\n",
       "    </tr>\n",
       "  </tbody>\n",
       "</table>\n"
      ],
      "text/plain": [
       "<pandas.io.formats.style.Styler at 0x1e8735ff640>"
      ]
     },
     "metadata": {},
     "execution_count": 66
    }
   ],
   "metadata": {}
  },
  {
   "cell_type": "markdown",
   "source": [
    "# US Headcount (Exempt)"
   ],
   "metadata": {}
  },
  {
   "cell_type": "code",
   "execution_count": 67,
   "source": [
    "# US Exempt headcount\r\n",
    "use_hc = div_data.loc[\r\n",
    "    (div_data[\"Report Date\"] >= \"2020/10/31\")\r\n",
    "    & (div_data[\"Pay Group Country Desc\"] >= \"United States of America\")\r\n",
    "    & (div_data[\"Is Professional\"] >= \"Yes\")\r\n",
    "].pivot_table(columns=\"Report Date\", values=\"HC\", aggfunc=pd.Series.sum)\r\n",
    "use_hc.style.format(\"{:,}\")\r\n"
   ],
   "outputs": [
    {
     "output_type": "execute_result",
     "data": {
      "text/html": [
       "<style type=\"text/css\">\n",
       "</style>\n",
       "<table id=\"T_f1c1c_\">\n",
       "  <thead>\n",
       "    <tr>\n",
       "      <th class=\"index_name level0\" >Report Date</th>\n",
       "      <th class=\"col_heading level0 col0\" >2020/10/31</th>\n",
       "      <th class=\"col_heading level0 col1\" >2020/11/30</th>\n",
       "      <th class=\"col_heading level0 col2\" >2020/12/31</th>\n",
       "      <th class=\"col_heading level0 col3\" >2021/01/31</th>\n",
       "      <th class=\"col_heading level0 col4\" >2021/02/28</th>\n",
       "      <th class=\"col_heading level0 col5\" >2021/03/31</th>\n",
       "      <th class=\"col_heading level0 col6\" >2021/04/30</th>\n",
       "      <th class=\"col_heading level0 col7\" >2021/05/31</th>\n",
       "      <th class=\"col_heading level0 col8\" >2021/06/30</th>\n",
       "      <th class=\"col_heading level0 col9\" >2021/07/31</th>\n",
       "      <th class=\"col_heading level0 col10\" >2021/08/31</th>\n",
       "    </tr>\n",
       "  </thead>\n",
       "  <tbody>\n",
       "    <tr>\n",
       "      <th id=\"T_f1c1c_level0_row0\" class=\"row_heading level0 row0\" >HC</th>\n",
       "      <td id=\"T_f1c1c_row0_col0\" class=\"data row0 col0\" >9,526</td>\n",
       "      <td id=\"T_f1c1c_row0_col1\" class=\"data row0 col1\" >9,495</td>\n",
       "      <td id=\"T_f1c1c_row0_col2\" class=\"data row0 col2\" >9,526</td>\n",
       "      <td id=\"T_f1c1c_row0_col3\" class=\"data row0 col3\" >9,505</td>\n",
       "      <td id=\"T_f1c1c_row0_col4\" class=\"data row0 col4\" >9,459</td>\n",
       "      <td id=\"T_f1c1c_row0_col5\" class=\"data row0 col5\" >9,460</td>\n",
       "      <td id=\"T_f1c1c_row0_col6\" class=\"data row0 col6\" >9,465</td>\n",
       "      <td id=\"T_f1c1c_row0_col7\" class=\"data row0 col7\" >9,475</td>\n",
       "      <td id=\"T_f1c1c_row0_col8\" class=\"data row0 col8\" >9,591</td>\n",
       "      <td id=\"T_f1c1c_row0_col9\" class=\"data row0 col9\" >9,611</td>\n",
       "      <td id=\"T_f1c1c_row0_col10\" class=\"data row0 col10\" >9,675</td>\n",
       "    </tr>\n",
       "  </tbody>\n",
       "</table>\n"
      ],
      "text/plain": [
       "<pandas.io.formats.style.Styler at 0x1e8792a0e80>"
      ]
     },
     "metadata": {},
     "execution_count": 67
    }
   ],
   "metadata": {}
  },
  {
   "cell_type": "markdown",
   "source": [
    "# US Headcount (All)"
   ],
   "metadata": {}
  },
  {
   "cell_type": "code",
   "execution_count": 68,
   "source": [
    "# US All headcount\r\n",
    "usa_hc = div_data.loc[\r\n",
    "    (div_data[\"Report Date\"] >= \"2020/10/31\")\r\n",
    "    & (div_data[\"Pay Group Country Desc\"] >= \"United States of America\")\r\n",
    "].pivot_table(columns=\"Report Date\", values=\"HC\", aggfunc=pd.Series.sum)\r\n",
    "usa_hc.style.format(\"{:,}\")\r\n"
   ],
   "outputs": [
    {
     "output_type": "execute_result",
     "data": {
      "text/html": [
       "<style type=\"text/css\">\n",
       "</style>\n",
       "<table id=\"T_8de87_\">\n",
       "  <thead>\n",
       "    <tr>\n",
       "      <th class=\"index_name level0\" >Report Date</th>\n",
       "      <th class=\"col_heading level0 col0\" >2020/10/31</th>\n",
       "      <th class=\"col_heading level0 col1\" >2020/11/30</th>\n",
       "      <th class=\"col_heading level0 col2\" >2020/12/31</th>\n",
       "      <th class=\"col_heading level0 col3\" >2021/01/31</th>\n",
       "      <th class=\"col_heading level0 col4\" >2021/02/28</th>\n",
       "      <th class=\"col_heading level0 col5\" >2021/03/31</th>\n",
       "      <th class=\"col_heading level0 col6\" >2021/04/30</th>\n",
       "      <th class=\"col_heading level0 col7\" >2021/05/31</th>\n",
       "      <th class=\"col_heading level0 col8\" >2021/06/30</th>\n",
       "      <th class=\"col_heading level0 col9\" >2021/07/31</th>\n",
       "      <th class=\"col_heading level0 col10\" >2021/08/31</th>\n",
       "    </tr>\n",
       "  </thead>\n",
       "  <tbody>\n",
       "    <tr>\n",
       "      <th id=\"T_8de87_level0_row0\" class=\"row_heading level0 row0\" >HC</th>\n",
       "      <td id=\"T_8de87_row0_col0\" class=\"data row0 col0\" >11,617</td>\n",
       "      <td id=\"T_8de87_row0_col1\" class=\"data row0 col1\" >11,537</td>\n",
       "      <td id=\"T_8de87_row0_col2\" class=\"data row0 col2\" >11,576</td>\n",
       "      <td id=\"T_8de87_row0_col3\" class=\"data row0 col3\" >11,537</td>\n",
       "      <td id=\"T_8de87_row0_col4\" class=\"data row0 col4\" >11,475</td>\n",
       "      <td id=\"T_8de87_row0_col5\" class=\"data row0 col5\" >11,478</td>\n",
       "      <td id=\"T_8de87_row0_col6\" class=\"data row0 col6\" >11,474</td>\n",
       "      <td id=\"T_8de87_row0_col7\" class=\"data row0 col7\" >11,475</td>\n",
       "      <td id=\"T_8de87_row0_col8\" class=\"data row0 col8\" >11,618</td>\n",
       "      <td id=\"T_8de87_row0_col9\" class=\"data row0 col9\" >11,645</td>\n",
       "      <td id=\"T_8de87_row0_col10\" class=\"data row0 col10\" >11,735</td>\n",
       "    </tr>\n",
       "  </tbody>\n",
       "</table>\n"
      ],
      "text/plain": [
       "<pandas.io.formats.style.Styler at 0x1e87961bd00>"
      ]
     },
     "metadata": {},
     "execution_count": 68
    }
   ],
   "metadata": {}
  },
  {
   "cell_type": "markdown",
   "source": [
    "# % Worldwide Women"
   ],
   "metadata": {}
  },
  {
   "cell_type": "code",
   "execution_count": 69,
   "source": [
    "# % World wide women\r\n",
    "ww_hc = div_data.loc[\r\n",
    "    (div_data[\"Report Date\"] >= \"2020/10/31\") & (div_data[\"Gender Code\"] == \"F\")\r\n",
    "].pivot_table(columns=\"Report Date\", values=\"HC\", aggfunc=pd.Series.sum) / div_data.loc[\r\n",
    "    div_data[\"Report Date\"] >= \"2020/10/31\"\r\n",
    "].pivot_table(\r\n",
    "    columns=\"Report Date\", values=\"HC\", aggfunc=pd.Series.sum\r\n",
    ")\r\n",
    "ww_hc.style.format(\"{:.1%}\")\r\n"
   ],
   "outputs": [
    {
     "output_type": "execute_result",
     "data": {
      "text/html": [
       "<style type=\"text/css\">\n",
       "</style>\n",
       "<table id=\"T_090cf_\">\n",
       "  <thead>\n",
       "    <tr>\n",
       "      <th class=\"index_name level0\" >Report Date</th>\n",
       "      <th class=\"col_heading level0 col0\" >2020/10/31</th>\n",
       "      <th class=\"col_heading level0 col1\" >2020/11/30</th>\n",
       "      <th class=\"col_heading level0 col2\" >2020/12/31</th>\n",
       "      <th class=\"col_heading level0 col3\" >2021/01/31</th>\n",
       "      <th class=\"col_heading level0 col4\" >2021/02/28</th>\n",
       "      <th class=\"col_heading level0 col5\" >2021/03/31</th>\n",
       "      <th class=\"col_heading level0 col6\" >2021/04/30</th>\n",
       "      <th class=\"col_heading level0 col7\" >2021/05/31</th>\n",
       "      <th class=\"col_heading level0 col8\" >2021/06/30</th>\n",
       "      <th class=\"col_heading level0 col9\" >2021/07/31</th>\n",
       "      <th class=\"col_heading level0 col10\" >2021/08/31</th>\n",
       "    </tr>\n",
       "  </thead>\n",
       "  <tbody>\n",
       "    <tr>\n",
       "      <th id=\"T_090cf_level0_row0\" class=\"row_heading level0 row0\" >HC</th>\n",
       "      <td id=\"T_090cf_row0_col0\" class=\"data row0 col0\" >36.8%</td>\n",
       "      <td id=\"T_090cf_row0_col1\" class=\"data row0 col1\" >36.9%</td>\n",
       "      <td id=\"T_090cf_row0_col2\" class=\"data row0 col2\" >36.9%</td>\n",
       "      <td id=\"T_090cf_row0_col3\" class=\"data row0 col3\" >37.1%</td>\n",
       "      <td id=\"T_090cf_row0_col4\" class=\"data row0 col4\" >37.1%</td>\n",
       "      <td id=\"T_090cf_row0_col5\" class=\"data row0 col5\" >37.1%</td>\n",
       "      <td id=\"T_090cf_row0_col6\" class=\"data row0 col6\" >37.1%</td>\n",
       "      <td id=\"T_090cf_row0_col7\" class=\"data row0 col7\" >37.2%</td>\n",
       "      <td id=\"T_090cf_row0_col8\" class=\"data row0 col8\" >37.2%</td>\n",
       "      <td id=\"T_090cf_row0_col9\" class=\"data row0 col9\" >37.3%</td>\n",
       "      <td id=\"T_090cf_row0_col10\" class=\"data row0 col10\" >37.3%</td>\n",
       "    </tr>\n",
       "  </tbody>\n",
       "</table>\n"
      ],
      "text/plain": [
       "<pandas.io.formats.style.Styler at 0x1e8792a0b80>"
      ]
     },
     "metadata": {},
     "execution_count": 69
    }
   ],
   "metadata": {}
  },
  {
   "cell_type": "markdown",
   "source": [
    "# % Women on Leadership"
   ],
   "metadata": {}
  },
  {
   "cell_type": "code",
   "execution_count": 70,
   "source": [
    "# % Women on Leadership\r\n",
    "wl_hc = div_data.loc[\r\n",
    "    (div_data[\"Report Date\"] >= \"2020/10/31\")\r\n",
    "    & (div_data[\"Gender Code\"] == \"F\")\r\n",
    "    & (div_data[\"Is Leader\"] == \"Yes\")\r\n",
    "].pivot_table(columns=\"Report Date\", values=\"HC\", aggfunc=pd.Series.sum) / div_data.loc[\r\n",
    "    (div_data[\"Report Date\"] >= \"2020/10/31\") & (div_data[\"Is Leader\"] == \"Yes\")\r\n",
    "].pivot_table(\r\n",
    "    columns=\"Report Date\", values=\"HC\", aggfunc=pd.Series.sum\r\n",
    ")\r\n",
    "wl_hc.style.format(\"{:.1%}\")\r\n"
   ],
   "outputs": [
    {
     "output_type": "execute_result",
     "data": {
      "text/html": [
       "<style type=\"text/css\">\n",
       "</style>\n",
       "<table id=\"T_e912c_\">\n",
       "  <thead>\n",
       "    <tr>\n",
       "      <th class=\"index_name level0\" >Report Date</th>\n",
       "      <th class=\"col_heading level0 col0\" >2020/10/31</th>\n",
       "      <th class=\"col_heading level0 col1\" >2020/11/30</th>\n",
       "      <th class=\"col_heading level0 col2\" >2020/12/31</th>\n",
       "      <th class=\"col_heading level0 col3\" >2021/01/31</th>\n",
       "      <th class=\"col_heading level0 col4\" >2021/02/28</th>\n",
       "      <th class=\"col_heading level0 col5\" >2021/03/31</th>\n",
       "      <th class=\"col_heading level0 col6\" >2021/04/30</th>\n",
       "      <th class=\"col_heading level0 col7\" >2021/05/31</th>\n",
       "      <th class=\"col_heading level0 col8\" >2021/06/30</th>\n",
       "      <th class=\"col_heading level0 col9\" >2021/07/31</th>\n",
       "      <th class=\"col_heading level0 col10\" >2021/08/31</th>\n",
       "    </tr>\n",
       "  </thead>\n",
       "  <tbody>\n",
       "    <tr>\n",
       "      <th id=\"T_e912c_level0_row0\" class=\"row_heading level0 row0\" >HC</th>\n",
       "      <td id=\"T_e912c_row0_col0\" class=\"data row0 col0\" >31.7%</td>\n",
       "      <td id=\"T_e912c_row0_col1\" class=\"data row0 col1\" >31.9%</td>\n",
       "      <td id=\"T_e912c_row0_col2\" class=\"data row0 col2\" >32.2%</td>\n",
       "      <td id=\"T_e912c_row0_col3\" class=\"data row0 col3\" >32.2%</td>\n",
       "      <td id=\"T_e912c_row0_col4\" class=\"data row0 col4\" >32.0%</td>\n",
       "      <td id=\"T_e912c_row0_col5\" class=\"data row0 col5\" >32.1%</td>\n",
       "      <td id=\"T_e912c_row0_col6\" class=\"data row0 col6\" >32.1%</td>\n",
       "      <td id=\"T_e912c_row0_col7\" class=\"data row0 col7\" >32.2%</td>\n",
       "      <td id=\"T_e912c_row0_col8\" class=\"data row0 col8\" >31.6%</td>\n",
       "      <td id=\"T_e912c_row0_col9\" class=\"data row0 col9\" >31.9%</td>\n",
       "      <td id=\"T_e912c_row0_col10\" class=\"data row0 col10\" >32.1%</td>\n",
       "    </tr>\n",
       "  </tbody>\n",
       "</table>\n"
      ],
      "text/plain": [
       "<pandas.io.formats.style.Styler at 0x1e87f2721c0>"
      ]
     },
     "metadata": {},
     "execution_count": 70
    }
   ],
   "metadata": {}
  },
  {
   "cell_type": "markdown",
   "source": [
    "# % Women on Tech"
   ],
   "metadata": {}
  },
  {
   "cell_type": "code",
   "execution_count": 71,
   "source": [
    "# % Women on Tech\r\n",
    "wt_hc = div_data.loc[\r\n",
    "    (div_data[\"Report Date\"] >= \"2020/10/31\")\r\n",
    "    & (div_data[\"Gender Code\"] == \"F\")\r\n",
    "    & (div_data[\"Technical Job Family\"] == \"Yes\")\r\n",
    "].pivot_table(columns=\"Report Date\", values=\"HC\", aggfunc=pd.Series.sum) / div_data.loc[\r\n",
    "    (div_data[\"Report Date\"] >= \"2020/10/31\") & (div_data[\"Technical Job Family\"] == \"Yes\")\r\n",
    "].pivot_table(\r\n",
    "    columns=\"Report Date\", values=\"HC\", aggfunc=pd.Series.sum\r\n",
    ")\r\n",
    "wt_hc.style.format(\"{:.1%}\")"
   ],
   "outputs": [
    {
     "output_type": "execute_result",
     "data": {
      "text/html": [
       "<style type=\"text/css\">\n",
       "</style>\n",
       "<table id=\"T_b1512_\">\n",
       "  <thead>\n",
       "    <tr>\n",
       "      <th class=\"index_name level0\" >Report Date</th>\n",
       "      <th class=\"col_heading level0 col0\" >2020/10/31</th>\n",
       "      <th class=\"col_heading level0 col1\" >2020/11/30</th>\n",
       "      <th class=\"col_heading level0 col2\" >2020/12/31</th>\n",
       "      <th class=\"col_heading level0 col3\" >2021/01/31</th>\n",
       "      <th class=\"col_heading level0 col4\" >2021/02/28</th>\n",
       "      <th class=\"col_heading level0 col5\" >2021/03/31</th>\n",
       "      <th class=\"col_heading level0 col6\" >2021/04/30</th>\n",
       "      <th class=\"col_heading level0 col7\" >2021/05/31</th>\n",
       "      <th class=\"col_heading level0 col8\" >2021/06/30</th>\n",
       "      <th class=\"col_heading level0 col9\" >2021/07/31</th>\n",
       "      <th class=\"col_heading level0 col10\" >2021/08/31</th>\n",
       "    </tr>\n",
       "  </thead>\n",
       "  <tbody>\n",
       "    <tr>\n",
       "      <th id=\"T_b1512_level0_row0\" class=\"row_heading level0 row0\" >HC</th>\n",
       "      <td id=\"T_b1512_row0_col0\" class=\"data row0 col0\" >22.3%</td>\n",
       "      <td id=\"T_b1512_row0_col1\" class=\"data row0 col1\" >22.4%</td>\n",
       "      <td id=\"T_b1512_row0_col2\" class=\"data row0 col2\" >22.4%</td>\n",
       "      <td id=\"T_b1512_row0_col3\" class=\"data row0 col3\" >22.5%</td>\n",
       "      <td id=\"T_b1512_row0_col4\" class=\"data row0 col4\" >22.6%</td>\n",
       "      <td id=\"T_b1512_row0_col5\" class=\"data row0 col5\" >22.5%</td>\n",
       "      <td id=\"T_b1512_row0_col6\" class=\"data row0 col6\" >22.6%</td>\n",
       "      <td id=\"T_b1512_row0_col7\" class=\"data row0 col7\" >22.6%</td>\n",
       "      <td id=\"T_b1512_row0_col8\" class=\"data row0 col8\" >22.6%</td>\n",
       "      <td id=\"T_b1512_row0_col9\" class=\"data row0 col9\" >22.8%</td>\n",
       "      <td id=\"T_b1512_row0_col10\" class=\"data row0 col10\" >22.9%</td>\n",
       "    </tr>\n",
       "  </tbody>\n",
       "</table>\n"
      ],
      "text/plain": [
       "<pandas.io.formats.style.Styler at 0x1e877800e80>"
      ]
     },
     "metadata": {},
     "execution_count": 71
    }
   ],
   "metadata": {}
  }
 ],
 "metadata": {
  "orig_nbformat": 4,
  "language_info": {
   "name": "python",
   "version": "3.8.12",
   "mimetype": "text/x-python",
   "codemirror_mode": {
    "name": "ipython",
    "version": 3
   },
   "pygments_lexer": "ipython3",
   "nbconvert_exporter": "python",
   "file_extension": ".py"
  },
  "kernelspec": {
   "name": "python3",
   "display_name": "Python 3.8.12 64-bit ('base': conda)"
  },
  "interpreter": {
   "hash": "4a29cd43a4810d6a942ce6e84a00941e922630dc546f381ebde2ea5a8fbeadeb"
  }
 },
 "nbformat": 4,
 "nbformat_minor": 2
}