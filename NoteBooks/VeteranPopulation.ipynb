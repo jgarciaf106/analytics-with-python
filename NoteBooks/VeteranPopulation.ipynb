{
 "metadata": {
  "language_info": {
   "codemirror_mode": {
    "name": "ipython",
    "version": 3
   },
   "file_extension": ".py",
   "mimetype": "text/x-python",
   "name": "python",
   "nbconvert_exporter": "python",
   "pygments_lexer": "ipython3",
   "version": "3.8.8"
  },
  "orig_nbformat": 2,
  "kernelspec": {
   "name": "python388jvsc74a57bd04a29cd43a4810d6a942ce6e84a00941e922630dc546f381ebde2ea5a8fbeadeb",
   "display_name": "Python 3.8.8 64-bit ('base': conda)"
  }
 },
 "nbformat": 4,
 "nbformat_minor": 2,
 "cells": [
  {
   "cell_type": "code",
   "execution_count": 1,
   "metadata": {},
   "outputs": [],
   "source": [
    "# import libraries\n",
    "import HR_Analytics as hr"
   ]
  },
  {
   "cell_type": "code",
   "execution_count": 2,
   "metadata": {},
   "outputs": [],
   "source": [
    "# set db engine\n",
    "engine = hr.setEngine('credentials','BIHRDW')"
   ]
  },
  {
   "cell_type": "code",
   "execution_count": 3,
   "metadata": {},
   "outputs": [],
   "source": [
    "df = hr.externalQuery('DEI_data_query',engine)"
   ]
  },
  {
   "source": [
    "## Veteran Population"
   ],
   "cell_type": "markdown",
   "metadata": {}
  },
  {
   "cell_type": "code",
   "execution_count": 19,
   "metadata": {},
   "outputs": [
    {
     "output_type": "execute_result",
     "data": {
      "text/plain": [
       "      Report Date Hybrid L1 Hybrid L2 Technical Job Family Veteran Status  \\\n",
       "62     2021-04-30      HPIP       PHS                  Yes              Y   \n",
       "91     2021-04-30      HPIP       PHS                   No              Y   \n",
       "176    2021-04-30      HPCS       CS1                   No              Y   \n",
       "478    2021-04-30      HPIT       TOF                   No              Y   \n",
       "664    2021-04-30      HPIB       PIN                   No              Y   \n",
       "...           ...       ...       ...                  ...            ...   \n",
       "37580  2021-04-30      HCCO       NA1                   No              Y   \n",
       "37621  2021-04-30      HCCO       NA1                   No              Y   \n",
       "37675  2021-04-30      HCCO       SD1                   No              Y   \n",
       "37980  2021-04-30      HPIB       PIN                  Yes              Y   \n",
       "38389  2021-04-30      PSYS       CID                  Yes              Y   \n",
       "\n",
       "         Pay Group Country Desc Ethnicity Group Gender Code Is ProfessiOnal  \\\n",
       "62     United States of America           9_USA           M             Yes   \n",
       "91     United States of America       WHITE_USA           M              No   \n",
       "176    United States of America       WHITE_USA           M             Yes   \n",
       "478    United States of America             UNK           M             Yes   \n",
       "664    United States of America       NSPEC_USA           M             Yes   \n",
       "...                         ...             ...         ...             ...   \n",
       "37580  United States of America       BLACK_USA           M             Yes   \n",
       "37621  United States of America       ASIAN_USA           M             Yes   \n",
       "37675  United States of America       HISPA_USA           M             Yes   \n",
       "37980  United States of America       BLACK_USA           M              No   \n",
       "38389  United States of America             UNK           M             Yes   \n",
       "\n",
       "      Is New Hire Management Level Category  HC  Voluntary Attrits  \n",
       "62             No                       MGR   1                  0  \n",
       "91             No                      NONE   2                  0  \n",
       "176            No                       MGR   2                  0  \n",
       "478            No                      PROF   1                  0  \n",
       "664            No                       MGR   1                  0  \n",
       "...           ...                       ...  ..                ...  \n",
       "37580          No                      PROF   2                  0  \n",
       "37621          No                      PROF   2                  0  \n",
       "37675          No                      PROF   1                  0  \n",
       "37980          No                      NONE   1                  0  \n",
       "38389          No                      PROF   1                  0  \n",
       "\n",
       "[223 rows x 13 columns]"
      ],
      "text/html": "<div>\n<style scoped>\n    .dataframe tbody tr th:only-of-type {\n        vertical-align: middle;\n    }\n\n    .dataframe tbody tr th {\n        vertical-align: top;\n    }\n\n    .dataframe thead th {\n        text-align: right;\n    }\n</style>\n<table border=\"1\" class=\"dataframe\">\n  <thead>\n    <tr style=\"text-align: right;\">\n      <th></th>\n      <th>Report Date</th>\n      <th>Hybrid L1</th>\n      <th>Hybrid L2</th>\n      <th>Technical Job Family</th>\n      <th>Veteran Status</th>\n      <th>Pay Group Country Desc</th>\n      <th>Ethnicity Group</th>\n      <th>Gender Code</th>\n      <th>Is ProfessiOnal</th>\n      <th>Is New Hire</th>\n      <th>Management Level Category</th>\n      <th>HC</th>\n      <th>Voluntary Attrits</th>\n    </tr>\n  </thead>\n  <tbody>\n    <tr>\n      <th>62</th>\n      <td>2021-04-30</td>\n      <td>HPIP</td>\n      <td>PHS</td>\n      <td>Yes</td>\n      <td>Y</td>\n      <td>United States of America</td>\n      <td>9_USA</td>\n      <td>M</td>\n      <td>Yes</td>\n      <td>No</td>\n      <td>MGR</td>\n      <td>1</td>\n      <td>0</td>\n    </tr>\n    <tr>\n      <th>91</th>\n      <td>2021-04-30</td>\n      <td>HPIP</td>\n      <td>PHS</td>\n      <td>No</td>\n      <td>Y</td>\n      <td>United States of America</td>\n      <td>WHITE_USA</td>\n      <td>M</td>\n      <td>No</td>\n      <td>No</td>\n      <td>NONE</td>\n      <td>2</td>\n      <td>0</td>\n    </tr>\n    <tr>\n      <th>176</th>\n      <td>2021-04-30</td>\n      <td>HPCS</td>\n      <td>CS1</td>\n      <td>No</td>\n      <td>Y</td>\n      <td>United States of America</td>\n      <td>WHITE_USA</td>\n      <td>M</td>\n      <td>Yes</td>\n      <td>No</td>\n      <td>MGR</td>\n      <td>2</td>\n      <td>0</td>\n    </tr>\n    <tr>\n      <th>478</th>\n      <td>2021-04-30</td>\n      <td>HPIT</td>\n      <td>TOF</td>\n      <td>No</td>\n      <td>Y</td>\n      <td>United States of America</td>\n      <td>UNK</td>\n      <td>M</td>\n      <td>Yes</td>\n      <td>No</td>\n      <td>PROF</td>\n      <td>1</td>\n      <td>0</td>\n    </tr>\n    <tr>\n      <th>664</th>\n      <td>2021-04-30</td>\n      <td>HPIB</td>\n      <td>PIN</td>\n      <td>No</td>\n      <td>Y</td>\n      <td>United States of America</td>\n      <td>NSPEC_USA</td>\n      <td>M</td>\n      <td>Yes</td>\n      <td>No</td>\n      <td>MGR</td>\n      <td>1</td>\n      <td>0</td>\n    </tr>\n    <tr>\n      <th>...</th>\n      <td>...</td>\n      <td>...</td>\n      <td>...</td>\n      <td>...</td>\n      <td>...</td>\n      <td>...</td>\n      <td>...</td>\n      <td>...</td>\n      <td>...</td>\n      <td>...</td>\n      <td>...</td>\n      <td>...</td>\n      <td>...</td>\n    </tr>\n    <tr>\n      <th>37580</th>\n      <td>2021-04-30</td>\n      <td>HCCO</td>\n      <td>NA1</td>\n      <td>No</td>\n      <td>Y</td>\n      <td>United States of America</td>\n      <td>BLACK_USA</td>\n      <td>M</td>\n      <td>Yes</td>\n      <td>No</td>\n      <td>PROF</td>\n      <td>2</td>\n      <td>0</td>\n    </tr>\n    <tr>\n      <th>37621</th>\n      <td>2021-04-30</td>\n      <td>HCCO</td>\n      <td>NA1</td>\n      <td>No</td>\n      <td>Y</td>\n      <td>United States of America</td>\n      <td>ASIAN_USA</td>\n      <td>M</td>\n      <td>Yes</td>\n      <td>No</td>\n      <td>PROF</td>\n      <td>2</td>\n      <td>0</td>\n    </tr>\n    <tr>\n      <th>37675</th>\n      <td>2021-04-30</td>\n      <td>HCCO</td>\n      <td>SD1</td>\n      <td>No</td>\n      <td>Y</td>\n      <td>United States of America</td>\n      <td>HISPA_USA</td>\n      <td>M</td>\n      <td>Yes</td>\n      <td>No</td>\n      <td>PROF</td>\n      <td>1</td>\n      <td>0</td>\n    </tr>\n    <tr>\n      <th>37980</th>\n      <td>2021-04-30</td>\n      <td>HPIB</td>\n      <td>PIN</td>\n      <td>Yes</td>\n      <td>Y</td>\n      <td>United States of America</td>\n      <td>BLACK_USA</td>\n      <td>M</td>\n      <td>No</td>\n      <td>No</td>\n      <td>NONE</td>\n      <td>1</td>\n      <td>0</td>\n    </tr>\n    <tr>\n      <th>38389</th>\n      <td>2021-04-30</td>\n      <td>PSYS</td>\n      <td>CID</td>\n      <td>Yes</td>\n      <td>Y</td>\n      <td>United States of America</td>\n      <td>UNK</td>\n      <td>M</td>\n      <td>Yes</td>\n      <td>No</td>\n      <td>PROF</td>\n      <td>1</td>\n      <td>0</td>\n    </tr>\n  </tbody>\n</table>\n<p>223 rows × 13 columns</p>\n</div>"
     },
     "metadata": {},
     "execution_count": 19
    }
   ],
   "source": [
    "vet = df[df['Veteran Status'] == 'Y']\n",
    "vet = vet[vet['Pay Group Country Desc'] == 'United States of America']\n",
    "vet = vet[vet['Report Date'] == vet['Report Date'].max()]\n",
    "vet"
   ]
  },
  {
   "source": [
    "## US Population"
   ],
   "cell_type": "markdown",
   "metadata": {}
  },
  {
   "cell_type": "code",
   "execution_count": 22,
   "metadata": {},
   "outputs": [
    {
     "output_type": "execute_result",
     "data": {
      "text/plain": [
       "      Report Date Hybrid L1 Hybrid L2 Technical Job Family Veteran Status  \\\n",
       "35     2021-04-30      HPIP       PFT                  Yes              U   \n",
       "51     2021-04-30      PSYS       SER                   No              U   \n",
       "62     2021-04-30      HPIP       PHS                  Yes              Y   \n",
       "72     2021-04-30      HPIT       ITO                   No              U   \n",
       "91     2021-04-30      HPIP       PHS                   No              Y   \n",
       "...           ...       ...       ...                  ...            ...   \n",
       "39796  2021-04-30      HPCS       CS1                   No              U   \n",
       "39799  2021-04-30      HPCS       CS1                  Yes              U   \n",
       "39802  2021-04-30      HPIP       PHS                   No              U   \n",
       "39805  2021-04-30      OPER       SNL                   No              U   \n",
       "39806  2021-04-30      PSYS       SWE                  Yes              U   \n",
       "\n",
       "         Pay Group Country Desc Ethnicity Group Gender Code Is ProfessiOnal  \\\n",
       "35     United States of America       WHITE_USA           M             Yes   \n",
       "51     United States of America       ASIAN_USA           M              No   \n",
       "62     United States of America           9_USA           M             Yes   \n",
       "72     United States of America       BLACK_USA           F             Yes   \n",
       "91     United States of America       WHITE_USA           M              No   \n",
       "...                         ...             ...         ...             ...   \n",
       "39796  United States of America       WHITE_USA           F             Yes   \n",
       "39799  United States of America       HISPA_USA           M              No   \n",
       "39802  United States of America       WHITE_USA           M             Yes   \n",
       "39805  United States of America       WHITE_USA           M             Yes   \n",
       "39806  United States of America       WHITE_USA           M             Yes   \n",
       "\n",
       "      Is New Hire Management Level Category  HC  Voluntary Attrits  \n",
       "35            Yes                      PROF   3                  0  \n",
       "51             No                      NONE   1                  0  \n",
       "62             No                       MGR   1                  0  \n",
       "72             No                       DIR   1                  0  \n",
       "91             No                      NONE   2                  0  \n",
       "...           ...                       ...  ..                ...  \n",
       "39796          No                      PROF   0                  1  \n",
       "39799          No                      NONE   0                  1  \n",
       "39802          No                       MGR   0                  1  \n",
       "39805          No                      PROF   0                  1  \n",
       "39806          No                      PROF   0                  1  \n",
       "\n",
       "[2455 rows x 13 columns]"
      ],
      "text/html": "<div>\n<style scoped>\n    .dataframe tbody tr th:only-of-type {\n        vertical-align: middle;\n    }\n\n    .dataframe tbody tr th {\n        vertical-align: top;\n    }\n\n    .dataframe thead th {\n        text-align: right;\n    }\n</style>\n<table border=\"1\" class=\"dataframe\">\n  <thead>\n    <tr style=\"text-align: right;\">\n      <th></th>\n      <th>Report Date</th>\n      <th>Hybrid L1</th>\n      <th>Hybrid L2</th>\n      <th>Technical Job Family</th>\n      <th>Veteran Status</th>\n      <th>Pay Group Country Desc</th>\n      <th>Ethnicity Group</th>\n      <th>Gender Code</th>\n      <th>Is ProfessiOnal</th>\n      <th>Is New Hire</th>\n      <th>Management Level Category</th>\n      <th>HC</th>\n      <th>Voluntary Attrits</th>\n    </tr>\n  </thead>\n  <tbody>\n    <tr>\n      <th>35</th>\n      <td>2021-04-30</td>\n      <td>HPIP</td>\n      <td>PFT</td>\n      <td>Yes</td>\n      <td>U</td>\n      <td>United States of America</td>\n      <td>WHITE_USA</td>\n      <td>M</td>\n      <td>Yes</td>\n      <td>Yes</td>\n      <td>PROF</td>\n      <td>3</td>\n      <td>0</td>\n    </tr>\n    <tr>\n      <th>51</th>\n      <td>2021-04-30</td>\n      <td>PSYS</td>\n      <td>SER</td>\n      <td>No</td>\n      <td>U</td>\n      <td>United States of America</td>\n      <td>ASIAN_USA</td>\n      <td>M</td>\n      <td>No</td>\n      <td>No</td>\n      <td>NONE</td>\n      <td>1</td>\n      <td>0</td>\n    </tr>\n    <tr>\n      <th>62</th>\n      <td>2021-04-30</td>\n      <td>HPIP</td>\n      <td>PHS</td>\n      <td>Yes</td>\n      <td>Y</td>\n      <td>United States of America</td>\n      <td>9_USA</td>\n      <td>M</td>\n      <td>Yes</td>\n      <td>No</td>\n      <td>MGR</td>\n      <td>1</td>\n      <td>0</td>\n    </tr>\n    <tr>\n      <th>72</th>\n      <td>2021-04-30</td>\n      <td>HPIT</td>\n      <td>ITO</td>\n      <td>No</td>\n      <td>U</td>\n      <td>United States of America</td>\n      <td>BLACK_USA</td>\n      <td>F</td>\n      <td>Yes</td>\n      <td>No</td>\n      <td>DIR</td>\n      <td>1</td>\n      <td>0</td>\n    </tr>\n    <tr>\n      <th>91</th>\n      <td>2021-04-30</td>\n      <td>HPIP</td>\n      <td>PHS</td>\n      <td>No</td>\n      <td>Y</td>\n      <td>United States of America</td>\n      <td>WHITE_USA</td>\n      <td>M</td>\n      <td>No</td>\n      <td>No</td>\n      <td>NONE</td>\n      <td>2</td>\n      <td>0</td>\n    </tr>\n    <tr>\n      <th>...</th>\n      <td>...</td>\n      <td>...</td>\n      <td>...</td>\n      <td>...</td>\n      <td>...</td>\n      <td>...</td>\n      <td>...</td>\n      <td>...</td>\n      <td>...</td>\n      <td>...</td>\n      <td>...</td>\n      <td>...</td>\n      <td>...</td>\n    </tr>\n    <tr>\n      <th>39796</th>\n      <td>2021-04-30</td>\n      <td>HPCS</td>\n      <td>CS1</td>\n      <td>No</td>\n      <td>U</td>\n      <td>United States of America</td>\n      <td>WHITE_USA</td>\n      <td>F</td>\n      <td>Yes</td>\n      <td>No</td>\n      <td>PROF</td>\n      <td>0</td>\n      <td>1</td>\n    </tr>\n    <tr>\n      <th>39799</th>\n      <td>2021-04-30</td>\n      <td>HPCS</td>\n      <td>CS1</td>\n      <td>Yes</td>\n      <td>U</td>\n      <td>United States of America</td>\n      <td>HISPA_USA</td>\n      <td>M</td>\n      <td>No</td>\n      <td>No</td>\n      <td>NONE</td>\n      <td>0</td>\n      <td>1</td>\n    </tr>\n    <tr>\n      <th>39802</th>\n      <td>2021-04-30</td>\n      <td>HPIP</td>\n      <td>PHS</td>\n      <td>No</td>\n      <td>U</td>\n      <td>United States of America</td>\n      <td>WHITE_USA</td>\n      <td>M</td>\n      <td>Yes</td>\n      <td>No</td>\n      <td>MGR</td>\n      <td>0</td>\n      <td>1</td>\n    </tr>\n    <tr>\n      <th>39805</th>\n      <td>2021-04-30</td>\n      <td>OPER</td>\n      <td>SNL</td>\n      <td>No</td>\n      <td>U</td>\n      <td>United States of America</td>\n      <td>WHITE_USA</td>\n      <td>M</td>\n      <td>Yes</td>\n      <td>No</td>\n      <td>PROF</td>\n      <td>0</td>\n      <td>1</td>\n    </tr>\n    <tr>\n      <th>39806</th>\n      <td>2021-04-30</td>\n      <td>PSYS</td>\n      <td>SWE</td>\n      <td>Yes</td>\n      <td>U</td>\n      <td>United States of America</td>\n      <td>WHITE_USA</td>\n      <td>M</td>\n      <td>Yes</td>\n      <td>No</td>\n      <td>PROF</td>\n      <td>0</td>\n      <td>1</td>\n    </tr>\n  </tbody>\n</table>\n<p>2455 rows × 13 columns</p>\n</div>"
     },
     "metadata": {},
     "execution_count": 22
    }
   ],
   "source": [
    "us = df[df['Pay Group Country Desc'] == 'United States of America']\n",
    "us = us[us['Report Date'] == us['Report Date'].max()]\n",
    "us"
   ]
  },
  {
   "cell_type": "code",
   "execution_count": 9,
   "metadata": {},
   "outputs": [],
   "source": [
    "vetIndicator['US Veterans (%)'] = (vetIndicator['US Veteran Population'] / vetIndicator['US Population']).astype(float).map(\"{:.2%}\".format)"
   ]
  },
  {
   "cell_type": "code",
   "execution_count": 10,
   "metadata": {},
   "outputs": [
    {
     "output_type": "execute_result",
     "data": {
      "text/plain": [
       "  Hybrid L1 Code  US Population  US Veteran Population US Veterans (%)\n",
       "0           HPIT            428                     24           5.61%\n",
       "1           HTMO             78                      3           3.85%\n",
       "2            SBM             74                      5           6.76%"
      ],
      "text/html": "<div>\n<style scoped>\n    .dataframe tbody tr th:only-of-type {\n        vertical-align: middle;\n    }\n\n    .dataframe tbody tr th {\n        vertical-align: top;\n    }\n\n    .dataframe thead th {\n        text-align: right;\n    }\n</style>\n<table border=\"1\" class=\"dataframe\">\n  <thead>\n    <tr style=\"text-align: right;\">\n      <th></th>\n      <th>Hybrid L1 Code</th>\n      <th>US Population</th>\n      <th>US Veteran Population</th>\n      <th>US Veterans (%)</th>\n    </tr>\n  </thead>\n  <tbody>\n    <tr>\n      <th>0</th>\n      <td>HPIT</td>\n      <td>428</td>\n      <td>24</td>\n      <td>5.61%</td>\n    </tr>\n    <tr>\n      <th>1</th>\n      <td>HTMO</td>\n      <td>78</td>\n      <td>3</td>\n      <td>3.85%</td>\n    </tr>\n    <tr>\n      <th>2</th>\n      <td>SBM</td>\n      <td>74</td>\n      <td>5</td>\n      <td>6.76%</td>\n    </tr>\n  </tbody>\n</table>\n</div>"
     },
     "metadata": {},
     "execution_count": 10
    }
   ],
   "source": [
    "vetIndicator"
   ]
  },
  {
   "cell_type": "code",
   "execution_count": 11,
   "metadata": {},
   "outputs": [],
   "source": [
    "outputPath = 'C:/Users/garciand/OneDrive - HP Inc/Desktop/Ad-hoc Requests/'\n",
    "fileName = 'veteran_population'\n",
    "vetIndicator.to_excel(outputPath + fileName + '.xlsx', engine='xlsxwriter')"
   ]
  },
  {
   "cell_type": "code",
   "execution_count": null,
   "metadata": {},
   "outputs": [],
   "source": []
  }
 ]
}