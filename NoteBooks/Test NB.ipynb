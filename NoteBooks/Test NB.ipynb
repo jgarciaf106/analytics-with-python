{
 "cells": [
  {
   "cell_type": "code",
   "execution_count": 1,
   "source": [
    "# Library import\r\n",
    "import sys\r\n",
    "sys.path.append('./HR_Library/') \r\n",
    "import datetime as dt\r\n",
    "import get_data as gd"
   ],
   "outputs": [],
   "metadata": {}
  },
  {
   "cell_type": "code",
   "execution_count": 2,
   "source": [
    "# init db engine\r\n",
    "ods = gd.Get_Data(\r\n",
    "    'postgres',\r\n",
    "    'HRODS',\r\n",
    "    'C:\\\\Users\\\\garciand/OneDrive - HP Inc\\\\Desktop\\\\Deliverables\\\\',\r\n",
    "    'DEI',\r\n",
    "    'C:\\\\Users\\\\garciand\\\\OneDrive - HP Inc\\\\Desktop\\\\Python_Analytics\\\\NoteBooks\\\\Queries\\\\',\r\n",
    "    'C:\\\\Users\\\\garciand\\\\OneDrive - HP Inc\\\\Desktop\\\\ETL\\\\Input Data Sources\\\\DEI\\\\')\r\n"
   ],
   "outputs": [],
   "metadata": {}
  },
  {
   "cell_type": "code",
   "execution_count": 3,
   "source": [
    "engine = ods.set_engine()"
   ],
   "outputs": [],
   "metadata": {}
  },
  {
   "cell_type": "code",
   "execution_count": 4,
   "source": [
    "# query\r\n",
    "query = \"\"\"\r\n",
    "SELECT \r\n",
    "        \"Ethnicity\",\r\n",
    "        Count(*) AS \"HC\"\r\n",
    "    FROM \r\n",
    "        \"HPW_DATA\"\r\n",
    "    WHERE \r\n",
    "        \"Report Date\" = '{0}'\r\n",
    "    AND \r\n",
    "        \"Worker Reg / Temp Code\" = 'R'\r\n",
    "    AND \r\n",
    "        \"Worker Status Category Code\" = 'A'\r\n",
    "    AND\r\n",
    "        \"Pay Group Country Code\" = 'USA'\r\n",
    "    AND \r\n",
    "        \"Management Level Category\" IN ('EXEC')\r\n",
    "    GROUP BY \r\n",
    "        \"Ethnicity\"\r\n",
    "\"\"\""
   ],
   "outputs": [],
   "metadata": {}
  },
  {
   "cell_type": "code",
   "execution_count": 5,
   "source": [
    "# report date\r\n",
    "data_date = '2019-10-31'\r\n",
    "# run query\r\n",
    "data = ods.internal_query(query.format(data_date), engine)\r\n",
    "\r\n",
    "# process data\r\n",
    "data['%']  = round((data['HC'] / data['HC'].sum()) * 100,1).astype(str) + '%'\r\n",
    "data.sort_values(by='Ethnicity',ascending=False)"
   ],
   "outputs": [
    {
     "output_type": "execute_result",
     "data": {
      "text/html": [
       "<div>\n",
       "<style scoped>\n",
       "    .dataframe tbody tr th:only-of-type {\n",
       "        vertical-align: middle;\n",
       "    }\n",
       "\n",
       "    .dataframe tbody tr th {\n",
       "        vertical-align: top;\n",
       "    }\n",
       "\n",
       "    .dataframe thead th {\n",
       "        text-align: right;\n",
       "    }\n",
       "</style>\n",
       "<table border=\"1\" class=\"dataframe\">\n",
       "  <thead>\n",
       "    <tr style=\"text-align: right;\">\n",
       "      <th></th>\n",
       "      <th>Ethnicity</th>\n",
       "      <th>HC</th>\n",
       "      <th>%</th>\n",
       "    </tr>\n",
       "  </thead>\n",
       "  <tbody>\n",
       "    <tr>\n",
       "      <th>6</th>\n",
       "      <td>White (United States of America)</td>\n",
       "      <td>150</td>\n",
       "      <td>69.4%</td>\n",
       "    </tr>\n",
       "    <tr>\n",
       "      <th>5</th>\n",
       "      <td>Unknown</td>\n",
       "      <td>14</td>\n",
       "      <td>6.5%</td>\n",
       "    </tr>\n",
       "    <tr>\n",
       "      <th>4</th>\n",
       "      <td>Two or More Races (United States of America)</td>\n",
       "      <td>2</td>\n",
       "      <td>0.9%</td>\n",
       "    </tr>\n",
       "    <tr>\n",
       "      <th>3</th>\n",
       "      <td>I choose not to disclose (United States of Ame...</td>\n",
       "      <td>10</td>\n",
       "      <td>4.6%</td>\n",
       "    </tr>\n",
       "    <tr>\n",
       "      <th>2</th>\n",
       "      <td>Hispanic/Latino (United States of America)</td>\n",
       "      <td>15</td>\n",
       "      <td>6.9%</td>\n",
       "    </tr>\n",
       "    <tr>\n",
       "      <th>1</th>\n",
       "      <td>Black/African American (United States of America)</td>\n",
       "      <td>6</td>\n",
       "      <td>2.8%</td>\n",
       "    </tr>\n",
       "    <tr>\n",
       "      <th>0</th>\n",
       "      <td>Asian (United States of America)</td>\n",
       "      <td>19</td>\n",
       "      <td>8.8%</td>\n",
       "    </tr>\n",
       "  </tbody>\n",
       "</table>\n",
       "</div>"
      ],
      "text/plain": [
       "                                           Ethnicity   HC      %\n",
       "6                   White (United States of America)  150  69.4%\n",
       "5                                            Unknown   14   6.5%\n",
       "4       Two or More Races (United States of America)    2   0.9%\n",
       "3  I choose not to disclose (United States of Ame...   10   4.6%\n",
       "2         Hispanic/Latino (United States of America)   15   6.9%\n",
       "1  Black/African American (United States of America)    6   2.8%\n",
       "0                   Asian (United States of America)   19   8.8%"
      ]
     },
     "metadata": {},
     "execution_count": 5
    }
   ],
   "metadata": {}
  },
  {
   "cell_type": "code",
   "execution_count": 6,
   "source": [
    "ods.export_data(data,\"EcoVadis_Demographics\",\"Yes\")"
   ],
   "outputs": [],
   "metadata": {}
  }
 ],
 "metadata": {
  "orig_nbformat": 4,
  "language_info": {
   "name": "python",
   "version": "3.8.12",
   "mimetype": "text/x-python",
   "codemirror_mode": {
    "name": "ipython",
    "version": 3
   },
   "pygments_lexer": "ipython3",
   "nbconvert_exporter": "python",
   "file_extension": ".py"
  },
  "kernelspec": {
   "name": "python3",
   "display_name": "Python 3.8.12 64-bit ('base': conda)"
  },
  "interpreter": {
   "hash": "4a29cd43a4810d6a942ce6e84a00941e922630dc546f381ebde2ea5a8fbeadeb"
  }
 },
 "nbformat": 4,
 "nbformat_minor": 2
}