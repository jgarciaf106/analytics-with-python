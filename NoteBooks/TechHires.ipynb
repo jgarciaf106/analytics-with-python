{
 "cells": [
  {
   "cell_type": "code",
   "execution_count": 1,
   "metadata": {},
   "outputs": [],
   "source": [
    "# import libraries\n",
    "import pyodbc\n",
    "import pandas as pd\n",
    "import numpy as np\n",
    "from datetime import date"
   ]
  },
  {
   "cell_type": "code",
   "execution_count": 2,
   "metadata": {},
   "outputs": [],
   "source": [
    "# fetch historical files.\n",
    "conn = pyodbc.connect('Driver={ODBC Driver 17 for SQL Server};'\n",
    "                      'Server=ulloadia25;'\n",
    "                      'Database=HRAnalytics;'\n",
    "                      'Trusted_Connection=yes;')\n",
    "\n",
    "# read query\n",
    "queryPath = 'C:/Users/garciand/OneDrive - HP Inc/Desktop/Python/DEI_Query.sql'\n",
    "with open(queryPath, 'r') as getQuery:\n",
    "    query = getQuery.read()\n"
   ]
  },
  {
   "cell_type": "code",
   "execution_count": 13,
   "metadata": {},
   "outputs": [],
   "source": [
    "# run query\n",
    "df = pd.read_sql_query(query,conn)"
   ]
  },
  {
   "cell_type": "code",
   "execution_count": 12,
   "metadata": {},
   "outputs": [
    {
     "name": "stdout",
     "output_type": "stream",
     "text": [
      "Empty DataFrame\n",
      "Columns: [Report Date, Hybrid L1, Hybrid L2, Work Address - City, Technical Job Family, Business Lvl 4 (MRU) Code, Veteran Status, PWD Status, Pay Group Country Desc, Ethnicity Group, Gender Code, Is Professional, Is New Hire, Management Level Category, HC, Voluntary Attrits]\n",
      "Index: []\n"
     ]
    }
   ],
   "source": [
    "filterDate = pd.Timestamp(2020, 3, 31)\n",
    "df = df.sort_values(by = \"Report Date\")\n",
    "print(df)\n",
    "# df.loc[df['Is New Hire'] == \"Yes\"]\n",
    "# df.loc[df['Technical Job Family'] == \"Yes\"]\n",
    "# df.loc[df['Report Date'] == filterDate]\n"
   ]
  },
  {
   "cell_type": "code",
   "execution_count": null,
   "metadata": {},
   "outputs": [],
   "source": []
  },
  {
   "cell_type": "code",
   "execution_count": null,
   "metadata": {},
   "outputs": [],
   "source": []
  }
 ],
 "metadata": {
  "kernelspec": {
   "display_name": "Python 3",
   "language": "python",
   "name": "python3"
  },
  "language_info": {
   "codemirror_mode": {
    "name": "ipython",
    "version": 3
   },
   "file_extension": ".py",
   "mimetype": "text/x-python",
   "name": "python",
   "nbconvert_exporter": "python",
   "pygments_lexer": "ipython3",
   "version": "3.8.8"
  }
 },
 "nbformat": 4,
 "nbformat_minor": 4
}
