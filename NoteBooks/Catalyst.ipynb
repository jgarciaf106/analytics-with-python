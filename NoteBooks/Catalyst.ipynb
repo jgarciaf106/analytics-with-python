{
 "cells": [
  {
   "cell_type": "code",
   "execution_count": null,
   "metadata": {},
   "outputs": [],
   "source": [
    "# libraries import\n",
    "import os\n",
    "import json\n",
    "import pandas as pd\n",
    "import pyodbc\n",
    "from sqlalchemy import create_engine"
   ]
  },
  {
   "cell_type": "code",
   "execution_count": null,
   "metadata": {},
   "outputs": [],
   "source": [
    "# db variables\n",
    "dsn = \"BIHRDW\"\n",
    "credentials = 'C:/Users/garciand/OneDrive - HP Inc/Desktop/Python/credentials.json'\n",
    "\n",
    "# get credentials\n",
    "with open(credentials) as get:\n",
    "  credentials = json.load(get)\n",
    "userName = credentials['userName']\n",
    "passWord = credentials['password']\n",
    "\n",
    "# db connection properties\n",
    "engine = create_engine('mssql+pyodbc://{0}:{1}@{2}'.format(userName, passWord, dsn))"
   ]
  },
  {
   "cell_type": "code",
   "execution_count": null,
   "metadata": {},
   "outputs": [],
   "source": [
    "# select query\n",
    "queriesPath = 'C:/Users/garciand/OneDrive - HP Inc/Desktop/Queries/'\n",
    "catalystHeadcount = 'catalyst_headcount_query.sql'\n",
    "catalystSuccessor = 'catalyst_successors_query.sql'\n",
    "\n",
    "# query Headcount\n",
    "with open(queriesPath + catalystSuccessor) as get:\n",
    "   queryH = get.read()\n",
    "\n",
    "# query Successors\n",
    "with open(queriesPath + catalystHeadcount) as get:\n",
    "   queryS = get.read()\n",
    "\n",
    "dfH = pd.read_sql_query(queryH,engine)\n",
    "dfS = pd.read_sql_query(queryS,engine)"
   ]
  },
  {
   "cell_type": "code",
   "execution_count": null,
   "metadata": {},
   "outputs": [],
   "source": [
    "dfH"
   ]
  },
  {
   "cell_type": "code",
   "execution_count": null,
   "metadata": {},
   "outputs": [],
   "source": [
    "dfS"
   ]
  },
  {
   "cell_type": "code",
   "execution_count": null,
   "metadata": {},
   "outputs": [],
   "source": [
    "# output path\n",
    "outputPath = 'C:/Users/garciand/OneDrive - HP Inc/Desktop/'\n",
    "\n",
    "# export data to excel.\n",
    "dfh.to_excel(outputPath + 'Catalyst_Headcount.xlsx', engine='xlsxwriter')\n",
    "dfs.to_excel(outputPath + 'Catalyst_Successors.xlsx', engine='xlsxwriter')"
   ]
  },
  {
   "cell_type": "code",
   "execution_count": null,
   "metadata": {},
   "outputs": [],
   "source": []
  },
  {
   "cell_type": "code",
   "execution_count": 1,
   "metadata": {},
   "outputs": [],
   "source": []
  },
  {
   "cell_type": "code",
   "execution_count": 3,
   "metadata": {},
   "outputs": [
    {
     "output_type": "stream",
     "name": "stdout",
     "text": [
      "0\n1\n2\n3\n4\n5\n6\n7\n8\n9\n10\n11\n12\n13\n14\n15\n16\n17\n18\n19\n"
     ]
    }
   ],
   "source": []
  },
  {
   "cell_type": "code",
   "execution_count": null,
   "metadata": {},
   "outputs": [],
   "source": []
  }
 ],
 "metadata": {
  "kernelspec": {
   "name": "python3",
   "display_name": "Python 3.8.8 64-bit ('base': conda)"
  },
  "language_info": {
   "codemirror_mode": {
    "name": "ipython",
    "version": 3
   },
   "file_extension": ".py",
   "mimetype": "text/x-python",
   "name": "python",
   "nbconvert_exporter": "python",
   "pygments_lexer": "ipython3",
   "version": "3.8.8"
  },
  "interpreter": {
   "hash": "4a29cd43a4810d6a942ce6e84a00941e922630dc546f381ebde2ea5a8fbeadeb"
  }
 },
 "nbformat": 4,
 "nbformat_minor": 4
}