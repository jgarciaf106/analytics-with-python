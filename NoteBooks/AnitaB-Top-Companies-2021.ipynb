{
 "metadata": {
  "language_info": {
   "codemirror_mode": {
    "name": "ipython",
    "version": 3
   },
   "file_extension": ".py",
   "mimetype": "text/x-python",
   "name": "python",
   "nbconvert_exporter": "python",
   "pygments_lexer": "ipython3",
   "version": "3.8.8"
  },
  "orig_nbformat": 2,
  "kernelspec": {
   "name": "python3",
   "display_name": "Python 3.8.8 64-bit ('base': conda)"
  },
  "interpreter": {
   "hash": "4a29cd43a4810d6a942ce6e84a00941e922630dc546f381ebde2ea5a8fbeadeb"
  }
 },
 "nbformat": 4,
 "nbformat_minor": 2,
 "cells": [
  {
   "source": [
    "## Back-end settings"
   ],
   "cell_type": "markdown",
   "metadata": {}
  },
  {
   "cell_type": "code",
   "execution_count": 1,
   "metadata": {},
   "outputs": [],
   "source": [
    "import sys\n",
    "sys.path.append('../Custom Library/') \n",
    "import datetime as dt\n",
    "import HR_Analytics as hr\n",
    "import pandas as pd"
   ]
  },
  {
   "cell_type": "code",
   "execution_count": 2,
   "metadata": {},
   "outputs": [],
   "source": [
    "engine = hr.setEngine('credentials','BIHRDW')"
   ]
  },
  {
   "source": [
    "## Step 0\t\t\n",
    "## Representation by Career Level\t\t"
   ],
   "cell_type": "markdown",
   "metadata": {}
  },
  {
   "source": [
    "## Data Period: Between April 1, 2019, and March 31, 2020 \n",
    "### Q1. Total number of intern/co-op U.S. technical employees (each employee should be measured in one and only one category):\t\n"
   ],
   "cell_type": "markdown",
   "metadata": {}
  },
  {
   "cell_type": "code",
   "execution_count": 3,
   "metadata": {},
   "outputs": [
    {
     "output_type": "stream",
     "name": "stderr",
     "text": [
      "ERROR:root:Internal Python error in the inspect module.\n",
      "Below is the traceback from this internal error.\n",
      "\n",
      "Traceback (most recent call last):\n",
      "  File \"C:\\Users\\garciand\\Anaconda3\\lib\\site-packages\\sqlalchemy\\engine\\base.py\", line 1705, in _execute_context\n",
      "    self.dialect.do_execute(\n",
      "  File \"C:\\Users\\garciand\\Anaconda3\\lib\\site-packages\\sqlalchemy\\engine\\default.py\", line 692, in do_execute\n",
      "    cursor.execute(statement, parameters)\n",
      "pyodbc.ProgrammingError: ('42S02', \"[42S02] [Microsoft][ODBC SQL Server Driver][SQL Server]Invalid object name 'HP_WORKER_DATA'. (208) (SQLExecDirectW)\")\n",
      "\n",
      "The above exception was the direct cause of the following exception:\n",
      "\n",
      "Traceback (most recent call last):\n",
      "  File \"C:\\Users\\garciand\\Anaconda3\\lib\\site-packages\\IPython\\core\\interactiveshell.py\", line 3437, in run_code\n",
      "    exec(code_obj, self.user_global_ns, self.user_ns)\n",
      "  File \"<ipython-input-3-742127ffffea>\", line 2, in <module>\n",
      "    interns = hr.externalQuery('intern co-op us tech',engine)\n",
      "  File \"../Custom Library\\HR_Analytics.py\", line 27, in externalQuery\n",
      "    return pd.read_sql_query(query,engine)\n",
      "  File \"C:\\Users\\garciand\\Anaconda3\\lib\\site-packages\\pandas\\io\\sql.py\", line 377, in read_sql_query\n",
      "    return pandas_sql.read_query(\n",
      "  File \"C:\\Users\\garciand\\Anaconda3\\lib\\site-packages\\pandas\\io\\sql.py\", line 1294, in read_query\n",
      "    result = self.execute(*args)\n",
      "  File \"C:\\Users\\garciand\\Anaconda3\\lib\\site-packages\\pandas\\io\\sql.py\", line 1162, in execute\n",
      "    return self.connectable.execution_options().execute(*args, **kwargs)\n",
      "  File \"<string>\", line 2, in execute\n",
      "  File \"C:\\Users\\garciand\\Anaconda3\\lib\\site-packages\\sqlalchemy\\util\\deprecations.py\", line 390, in warned\n",
      "    return fn(*args, **kwargs)\n",
      "  File \"C:\\Users\\garciand\\Anaconda3\\lib\\site-packages\\sqlalchemy\\engine\\base.py\", line 3037, in execute\n",
      "    return connection.execute(statement, *multiparams, **params)\n",
      "  File \"C:\\Users\\garciand\\Anaconda3\\lib\\site-packages\\sqlalchemy\\engine\\base.py\", line 1185, in execute\n",
      "    return self._exec_driver_sql(\n",
      "  File \"C:\\Users\\garciand\\Anaconda3\\lib\\site-packages\\sqlalchemy\\engine\\base.py\", line 1484, in _exec_driver_sql\n",
      "    ret = self._execute_context(\n",
      "  File \"C:\\Users\\garciand\\Anaconda3\\lib\\site-packages\\sqlalchemy\\engine\\base.py\", line 1748, in _execute_context\n",
      "    self._handle_dbapi_exception(\n",
      "  File \"C:\\Users\\garciand\\Anaconda3\\lib\\site-packages\\sqlalchemy\\engine\\base.py\", line 1929, in _handle_dbapi_exception\n",
      "    util.raise_(\n",
      "  File \"C:\\Users\\garciand\\Anaconda3\\lib\\site-packages\\sqlalchemy\\util\\compat.py\", line 211, in raise_\n",
      "    raise exception\n",
      "  File \"C:\\Users\\garciand\\Anaconda3\\lib\\site-packages\\sqlalchemy\\engine\\base.py\", line 1705, in _execute_context\n",
      "    self.dialect.do_execute(\n",
      "  File \"C:\\Users\\garciand\\Anaconda3\\lib\\site-packages\\sqlalchemy\\engine\\default.py\", line 692, in do_execute\n",
      "    cursor.execute(statement, parameters)\n",
      "sqlalchemy.exc.ProgrammingError: (pyodbc.ProgrammingError) ('42S02', \"[42S02] [Microsoft][ODBC SQL Server Driver][SQL Server]Invalid object name 'HP_WORKER_DATA'. (208) (SQLExecDirectW)\")\n",
      "[SQL: Select Distinct\n",
      "    HWD.[Worker ID],\n",
      "    Case\n",
      "    When \n",
      "        HWD.[Gender Code] Is Null Then 'U'\n",
      "    Else\n",
      "        HWD.[Gender Code]\n",
      "    End As [Gender Code]\n",
      "     \n",
      "From \n",
      "    HP_WORKER_DATA As HWD\n",
      "Left Join \n",
      "    TECH_JOBS_FAM As TT on TT.[Job Family Code] = HWD.[Job Family Code]\n",
      "Where \n",
      "    HWD.[Report Date] Between '2019-04-01' And '2020-03-31' \n",
      "And \n",
      "    HWD.[Job Family] Like 'College'\n",
      "And\n",
      "   HWD.[Job Title] Like '%Intern Tech%'\n",
      "And\n",
      "    HWD.[Pay Group Country Desc] Like 'United States of America']\n",
      "(Background on this error at: http://sqlalche.me/e/14/f405)\n",
      "\n",
      "During handling of the above exception, another exception occurred:\n",
      "\n",
      "Traceback (most recent call last):\n",
      "  File \"C:\\Users\\garciand\\Anaconda3\\lib\\site-packages\\IPython\\core\\interactiveshell.py\", line 2061, in showtraceback\n",
      "    stb = value._render_traceback_()\n",
      "AttributeError: 'ProgrammingError' object has no attribute '_render_traceback_'\n",
      "\n",
      "During handling of the above exception, another exception occurred:\n",
      "\n",
      "Traceback (most recent call last):\n",
      "  File \"C:\\Users\\garciand\\Anaconda3\\lib\\site-packages\\IPython\\core\\ultratb.py\", line 1101, in get_records\n",
      "    return _fixed_getinnerframes(etb, number_of_lines_of_context, tb_offset)\n",
      "  File \"C:\\Users\\garciand\\Anaconda3\\lib\\site-packages\\IPython\\core\\ultratb.py\", line 248, in wrapped\n",
      "    return f(*args, **kwargs)\n",
      "  File \"C:\\Users\\garciand\\Anaconda3\\lib\\site-packages\\IPython\\core\\ultratb.py\", line 281, in _fixed_getinnerframes\n",
      "    records = fix_frame_records_filenames(inspect.getinnerframes(etb, context))\n",
      "  File \"C:\\Users\\garciand\\Anaconda3\\lib\\inspect.py\", line 1515, in getinnerframes\n",
      "    frameinfo = (tb.tb_frame,) + getframeinfo(tb, context)\n",
      "  File \"C:\\Users\\garciand\\Anaconda3\\lib\\inspect.py\", line 1473, in getframeinfo\n",
      "    filename = getsourcefile(frame) or getfile(frame)\n",
      "  File \"C:\\Users\\garciand\\Anaconda3\\lib\\inspect.py\", line 708, in getsourcefile\n",
      "    if getattr(getmodule(object, filename), '__loader__', None) is not None:\n",
      "  File \"C:\\Users\\garciand\\Anaconda3\\lib\\inspect.py\", line 751, in getmodule\n",
      "    f = getabsfile(module)\n",
      "  File \"C:\\Users\\garciand\\Anaconda3\\lib\\inspect.py\", line 720, in getabsfile\n",
      "    _filename = getsourcefile(object) or getfile(object)\n",
      "  File \"C:\\Users\\garciand\\Anaconda3\\lib\\inspect.py\", line 705, in getsourcefile\n",
      "    if os.path.exists(filename):\n",
      "  File \"C:\\Users\\garciand\\Anaconda3\\lib\\genericpath.py\", line 19, in exists\n",
      "    os.stat(path)\n",
      "KeyboardInterrupt\n"
     ]
    },
    {
     "output_type": "error",
     "ename": "TypeError",
     "evalue": "object of type 'NoneType' has no len()",
     "traceback": [
      "\u001b[1;31m---------------------------------------------------------------------------\u001b[0m",
      "\u001b[1;31mProgrammingError\u001b[0m                          Traceback (most recent call last)",
      "\u001b[1;32m~\\Anaconda3\\lib\\site-packages\\sqlalchemy\\engine\\base.py\u001b[0m in \u001b[0;36m_execute_context\u001b[1;34m(self, dialect, constructor, statement, parameters, execution_options, *args, **kw)\u001b[0m\n\u001b[0;32m   1704\u001b[0m                 \u001b[1;32mif\u001b[0m \u001b[1;32mnot\u001b[0m \u001b[0mevt_handled\u001b[0m\u001b[1;33m:\u001b[0m\u001b[1;33m\u001b[0m\u001b[1;33m\u001b[0m\u001b[0m\n\u001b[1;32m-> 1705\u001b[1;33m                     self.dialect.do_execute(\n\u001b[0m\u001b[0;32m   1706\u001b[0m                         \u001b[0mcursor\u001b[0m\u001b[1;33m,\u001b[0m \u001b[0mstatement\u001b[0m\u001b[1;33m,\u001b[0m \u001b[0mparameters\u001b[0m\u001b[1;33m,\u001b[0m \u001b[0mcontext\u001b[0m\u001b[1;33m\u001b[0m\u001b[1;33m\u001b[0m\u001b[0m\n",
      "\u001b[1;32m~\\Anaconda3\\lib\\site-packages\\sqlalchemy\\engine\\default.py\u001b[0m in \u001b[0;36mdo_execute\u001b[1;34m(self, cursor, statement, parameters, context)\u001b[0m\n\u001b[0;32m    691\u001b[0m     \u001b[1;32mdef\u001b[0m \u001b[0mdo_execute\u001b[0m\u001b[1;33m(\u001b[0m\u001b[0mself\u001b[0m\u001b[1;33m,\u001b[0m \u001b[0mcursor\u001b[0m\u001b[1;33m,\u001b[0m \u001b[0mstatement\u001b[0m\u001b[1;33m,\u001b[0m \u001b[0mparameters\u001b[0m\u001b[1;33m,\u001b[0m \u001b[0mcontext\u001b[0m\u001b[1;33m=\u001b[0m\u001b[1;32mNone\u001b[0m\u001b[1;33m)\u001b[0m\u001b[1;33m:\u001b[0m\u001b[1;33m\u001b[0m\u001b[1;33m\u001b[0m\u001b[0m\n\u001b[1;32m--> 692\u001b[1;33m         \u001b[0mcursor\u001b[0m\u001b[1;33m.\u001b[0m\u001b[0mexecute\u001b[0m\u001b[1;33m(\u001b[0m\u001b[0mstatement\u001b[0m\u001b[1;33m,\u001b[0m \u001b[0mparameters\u001b[0m\u001b[1;33m)\u001b[0m\u001b[1;33m\u001b[0m\u001b[1;33m\u001b[0m\u001b[0m\n\u001b[0m\u001b[0;32m    693\u001b[0m \u001b[1;33m\u001b[0m\u001b[0m\n",
      "\u001b[1;31mProgrammingError\u001b[0m: ('42S02', \"[42S02] [Microsoft][ODBC SQL Server Driver][SQL Server]Invalid object name 'HP_WORKER_DATA'. (208) (SQLExecDirectW)\")",
      "\nThe above exception was the direct cause of the following exception:\n",
      "\u001b[1;31mProgrammingError\u001b[0m                          Traceback (most recent call last)",
      "    \u001b[1;31m[... skipping hidden 1 frame]\u001b[0m\n",
      "\u001b[1;32m<ipython-input-3-742127ffffea>\u001b[0m in \u001b[0;36m<module>\u001b[1;34m\u001b[0m\n\u001b[0;32m      1\u001b[0m \u001b[1;31m# add query result to data frame\u001b[0m\u001b[1;33m\u001b[0m\u001b[1;33m\u001b[0m\u001b[1;33m\u001b[0m\u001b[0m\n\u001b[1;32m----> 2\u001b[1;33m \u001b[0minterns\u001b[0m \u001b[1;33m=\u001b[0m \u001b[0mhr\u001b[0m\u001b[1;33m.\u001b[0m\u001b[0mexternalQuery\u001b[0m\u001b[1;33m(\u001b[0m\u001b[1;34m'intern co-op us tech'\u001b[0m\u001b[1;33m,\u001b[0m\u001b[0mengine\u001b[0m\u001b[1;33m)\u001b[0m\u001b[1;33m\u001b[0m\u001b[1;33m\u001b[0m\u001b[0m\n\u001b[0m\u001b[0;32m      3\u001b[0m \u001b[1;33m\u001b[0m\u001b[0m\n",
      "\u001b[1;32mc:\\Users\\garciand\\OneDrive - HP Inc\\Desktop\\Python Analytics\\Custom Library\\HR_Analytics.py\u001b[0m in \u001b[0;36mexternalQuery\u001b[1;34m(queryName, engine, path)\u001b[0m\n\u001b[0;32m     26\u001b[0m         \u001b[0mquery\u001b[0m \u001b[1;33m=\u001b[0m \u001b[0mget\u001b[0m\u001b[1;33m.\u001b[0m\u001b[0mread\u001b[0m\u001b[1;33m(\u001b[0m\u001b[1;33m)\u001b[0m\u001b[1;33m\u001b[0m\u001b[1;33m\u001b[0m\u001b[0m\n\u001b[1;32m---> 27\u001b[1;33m     \u001b[1;32mreturn\u001b[0m \u001b[0mpd\u001b[0m\u001b[1;33m.\u001b[0m\u001b[0mread_sql_query\u001b[0m\u001b[1;33m(\u001b[0m\u001b[0mquery\u001b[0m\u001b[1;33m,\u001b[0m\u001b[0mengine\u001b[0m\u001b[1;33m)\u001b[0m\u001b[1;33m\u001b[0m\u001b[1;33m\u001b[0m\u001b[0m\n\u001b[0m\u001b[0;32m     28\u001b[0m \u001b[1;33m\u001b[0m\u001b[0m\n",
      "\u001b[1;32m~\\Anaconda3\\lib\\site-packages\\pandas\\io\\sql.py\u001b[0m in \u001b[0;36mread_sql_query\u001b[1;34m(sql, con, index_col, coerce_float, params, parse_dates, chunksize)\u001b[0m\n\u001b[0;32m    376\u001b[0m     \u001b[0mpandas_sql\u001b[0m \u001b[1;33m=\u001b[0m \u001b[0mpandasSQL_builder\u001b[0m\u001b[1;33m(\u001b[0m\u001b[0mcon\u001b[0m\u001b[1;33m)\u001b[0m\u001b[1;33m\u001b[0m\u001b[1;33m\u001b[0m\u001b[0m\n\u001b[1;32m--> 377\u001b[1;33m     return pandas_sql.read_query(\n\u001b[0m\u001b[0;32m    378\u001b[0m         \u001b[0msql\u001b[0m\u001b[1;33m,\u001b[0m\u001b[1;33m\u001b[0m\u001b[1;33m\u001b[0m\u001b[0m\n",
      "\u001b[1;32m~\\Anaconda3\\lib\\site-packages\\pandas\\io\\sql.py\u001b[0m in \u001b[0;36mread_query\u001b[1;34m(self, sql, index_col, coerce_float, parse_dates, params, chunksize)\u001b[0m\n\u001b[0;32m   1293\u001b[0m \u001b[1;33m\u001b[0m\u001b[0m\n\u001b[1;32m-> 1294\u001b[1;33m         \u001b[0mresult\u001b[0m \u001b[1;33m=\u001b[0m \u001b[0mself\u001b[0m\u001b[1;33m.\u001b[0m\u001b[0mexecute\u001b[0m\u001b[1;33m(\u001b[0m\u001b[1;33m*\u001b[0m\u001b[0margs\u001b[0m\u001b[1;33m)\u001b[0m\u001b[1;33m\u001b[0m\u001b[1;33m\u001b[0m\u001b[0m\n\u001b[0m\u001b[0;32m   1295\u001b[0m         \u001b[0mcolumns\u001b[0m \u001b[1;33m=\u001b[0m \u001b[0mresult\u001b[0m\u001b[1;33m.\u001b[0m\u001b[0mkeys\u001b[0m\u001b[1;33m(\u001b[0m\u001b[1;33m)\u001b[0m\u001b[1;33m\u001b[0m\u001b[1;33m\u001b[0m\u001b[0m\n",
      "\u001b[1;32m~\\Anaconda3\\lib\\site-packages\\pandas\\io\\sql.py\u001b[0m in \u001b[0;36mexecute\u001b[1;34m(self, *args, **kwargs)\u001b[0m\n\u001b[0;32m   1161\u001b[0m         \u001b[1;34m\"\"\"Simple passthrough to SQLAlchemy connectable\"\"\"\u001b[0m\u001b[1;33m\u001b[0m\u001b[1;33m\u001b[0m\u001b[0m\n\u001b[1;32m-> 1162\u001b[1;33m         \u001b[1;32mreturn\u001b[0m \u001b[0mself\u001b[0m\u001b[1;33m.\u001b[0m\u001b[0mconnectable\u001b[0m\u001b[1;33m.\u001b[0m\u001b[0mexecution_options\u001b[0m\u001b[1;33m(\u001b[0m\u001b[1;33m)\u001b[0m\u001b[1;33m.\u001b[0m\u001b[0mexecute\u001b[0m\u001b[1;33m(\u001b[0m\u001b[1;33m*\u001b[0m\u001b[0margs\u001b[0m\u001b[1;33m,\u001b[0m \u001b[1;33m**\u001b[0m\u001b[0mkwargs\u001b[0m\u001b[1;33m)\u001b[0m\u001b[1;33m\u001b[0m\u001b[1;33m\u001b[0m\u001b[0m\n\u001b[0m\u001b[0;32m   1163\u001b[0m \u001b[1;33m\u001b[0m\u001b[0m\n",
      "\u001b[1;32m<string>\u001b[0m in \u001b[0;36mexecute\u001b[1;34m(self, statement, *multiparams, **params)\u001b[0m\n",
      "\u001b[1;32m~\\Anaconda3\\lib\\site-packages\\sqlalchemy\\util\\deprecations.py\u001b[0m in \u001b[0;36mwarned\u001b[1;34m(fn, *args, **kwargs)\u001b[0m\n\u001b[0;32m    389\u001b[0m             \u001b[0m_warn_with_version\u001b[0m\u001b[1;33m(\u001b[0m\u001b[0mmessage\u001b[0m\u001b[1;33m,\u001b[0m \u001b[0mversion\u001b[0m\u001b[1;33m,\u001b[0m \u001b[0mwtype\u001b[0m\u001b[1;33m,\u001b[0m \u001b[0mstacklevel\u001b[0m\u001b[1;33m=\u001b[0m\u001b[1;36m3\u001b[0m\u001b[1;33m)\u001b[0m\u001b[1;33m\u001b[0m\u001b[1;33m\u001b[0m\u001b[0m\n\u001b[1;32m--> 390\u001b[1;33m         \u001b[1;32mreturn\u001b[0m \u001b[0mfn\u001b[0m\u001b[1;33m(\u001b[0m\u001b[1;33m*\u001b[0m\u001b[0margs\u001b[0m\u001b[1;33m,\u001b[0m \u001b[1;33m**\u001b[0m\u001b[0mkwargs\u001b[0m\u001b[1;33m)\u001b[0m\u001b[1;33m\u001b[0m\u001b[1;33m\u001b[0m\u001b[0m\n\u001b[0m\u001b[0;32m    391\u001b[0m \u001b[1;33m\u001b[0m\u001b[0m\n",
      "\u001b[1;32m~\\Anaconda3\\lib\\site-packages\\sqlalchemy\\engine\\base.py\u001b[0m in \u001b[0;36mexecute\u001b[1;34m(self, statement, *multiparams, **params)\u001b[0m\n\u001b[0;32m   3036\u001b[0m         \u001b[0mconnection\u001b[0m \u001b[1;33m=\u001b[0m \u001b[0mself\u001b[0m\u001b[1;33m.\u001b[0m\u001b[0mconnect\u001b[0m\u001b[1;33m(\u001b[0m\u001b[0mclose_with_result\u001b[0m\u001b[1;33m=\u001b[0m\u001b[1;32mTrue\u001b[0m\u001b[1;33m)\u001b[0m\u001b[1;33m\u001b[0m\u001b[1;33m\u001b[0m\u001b[0m\n\u001b[1;32m-> 3037\u001b[1;33m         \u001b[1;32mreturn\u001b[0m \u001b[0mconnection\u001b[0m\u001b[1;33m.\u001b[0m\u001b[0mexecute\u001b[0m\u001b[1;33m(\u001b[0m\u001b[0mstatement\u001b[0m\u001b[1;33m,\u001b[0m \u001b[1;33m*\u001b[0m\u001b[0mmultiparams\u001b[0m\u001b[1;33m,\u001b[0m \u001b[1;33m**\u001b[0m\u001b[0mparams\u001b[0m\u001b[1;33m)\u001b[0m\u001b[1;33m\u001b[0m\u001b[1;33m\u001b[0m\u001b[0m\n\u001b[0m\u001b[0;32m   3038\u001b[0m \u001b[1;33m\u001b[0m\u001b[0m\n",
      "\u001b[1;32m~\\Anaconda3\\lib\\site-packages\\sqlalchemy\\engine\\base.py\u001b[0m in \u001b[0;36mexecute\u001b[1;34m(self, statement, *multiparams, **params)\u001b[0m\n\u001b[0;32m   1184\u001b[0m \u001b[1;33m\u001b[0m\u001b[0m\n\u001b[1;32m-> 1185\u001b[1;33m             return self._exec_driver_sql(\n\u001b[0m\u001b[0;32m   1186\u001b[0m                 \u001b[0mstatement\u001b[0m\u001b[1;33m,\u001b[0m\u001b[1;33m\u001b[0m\u001b[1;33m\u001b[0m\u001b[0m\n",
      "\u001b[1;32m~\\Anaconda3\\lib\\site-packages\\sqlalchemy\\engine\\base.py\u001b[0m in \u001b[0;36m_exec_driver_sql\u001b[1;34m(self, statement, multiparams, params, execution_options, future)\u001b[0m\n\u001b[0;32m   1483\u001b[0m         \u001b[0mdialect\u001b[0m \u001b[1;33m=\u001b[0m \u001b[0mself\u001b[0m\u001b[1;33m.\u001b[0m\u001b[0mdialect\u001b[0m\u001b[1;33m\u001b[0m\u001b[1;33m\u001b[0m\u001b[0m\n\u001b[1;32m-> 1484\u001b[1;33m         ret = self._execute_context(\n\u001b[0m\u001b[0;32m   1485\u001b[0m             \u001b[0mdialect\u001b[0m\u001b[1;33m,\u001b[0m\u001b[1;33m\u001b[0m\u001b[1;33m\u001b[0m\u001b[0m\n",
      "\u001b[1;32m~\\Anaconda3\\lib\\site-packages\\sqlalchemy\\engine\\base.py\u001b[0m in \u001b[0;36m_execute_context\u001b[1;34m(self, dialect, constructor, statement, parameters, execution_options, *args, **kw)\u001b[0m\n\u001b[0;32m   1747\u001b[0m         \u001b[1;32mexcept\u001b[0m \u001b[0mBaseException\u001b[0m \u001b[1;32mas\u001b[0m \u001b[0me\u001b[0m\u001b[1;33m:\u001b[0m\u001b[1;33m\u001b[0m\u001b[1;33m\u001b[0m\u001b[0m\n\u001b[1;32m-> 1748\u001b[1;33m             self._handle_dbapi_exception(\n\u001b[0m\u001b[0;32m   1749\u001b[0m                 \u001b[0me\u001b[0m\u001b[1;33m,\u001b[0m \u001b[0mstatement\u001b[0m\u001b[1;33m,\u001b[0m \u001b[0mparameters\u001b[0m\u001b[1;33m,\u001b[0m \u001b[0mcursor\u001b[0m\u001b[1;33m,\u001b[0m \u001b[0mcontext\u001b[0m\u001b[1;33m\u001b[0m\u001b[1;33m\u001b[0m\u001b[0m\n",
      "\u001b[1;32m~\\Anaconda3\\lib\\site-packages\\sqlalchemy\\engine\\base.py\u001b[0m in \u001b[0;36m_handle_dbapi_exception\u001b[1;34m(self, e, statement, parameters, cursor, context)\u001b[0m\n\u001b[0;32m   1928\u001b[0m             \u001b[1;32melif\u001b[0m \u001b[0mshould_wrap\u001b[0m\u001b[1;33m:\u001b[0m\u001b[1;33m\u001b[0m\u001b[1;33m\u001b[0m\u001b[0m\n\u001b[1;32m-> 1929\u001b[1;33m                 util.raise_(\n\u001b[0m\u001b[0;32m   1930\u001b[0m                     \u001b[0msqlalchemy_exception\u001b[0m\u001b[1;33m,\u001b[0m \u001b[0mwith_traceback\u001b[0m\u001b[1;33m=\u001b[0m\u001b[0mexc_info\u001b[0m\u001b[1;33m[\u001b[0m\u001b[1;36m2\u001b[0m\u001b[1;33m]\u001b[0m\u001b[1;33m,\u001b[0m \u001b[0mfrom_\u001b[0m\u001b[1;33m=\u001b[0m\u001b[0me\u001b[0m\u001b[1;33m\u001b[0m\u001b[1;33m\u001b[0m\u001b[0m\n",
      "\u001b[1;32m~\\Anaconda3\\lib\\site-packages\\sqlalchemy\\util\\compat.py\u001b[0m in \u001b[0;36mraise_\u001b[1;34m(***failed resolving arguments***)\u001b[0m\n\u001b[0;32m    210\u001b[0m         \u001b[1;32mtry\u001b[0m\u001b[1;33m:\u001b[0m\u001b[1;33m\u001b[0m\u001b[1;33m\u001b[0m\u001b[0m\n\u001b[1;32m--> 211\u001b[1;33m             \u001b[1;32mraise\u001b[0m \u001b[0mexception\u001b[0m\u001b[1;33m\u001b[0m\u001b[1;33m\u001b[0m\u001b[0m\n\u001b[0m\u001b[0;32m    212\u001b[0m         \u001b[1;32mfinally\u001b[0m\u001b[1;33m:\u001b[0m\u001b[1;33m\u001b[0m\u001b[1;33m\u001b[0m\u001b[0m\n",
      "\u001b[1;32m~\\Anaconda3\\lib\\site-packages\\sqlalchemy\\engine\\base.py\u001b[0m in \u001b[0;36m_execute_context\u001b[1;34m(self, dialect, constructor, statement, parameters, execution_options, *args, **kw)\u001b[0m\n\u001b[0;32m   1704\u001b[0m                 \u001b[1;32mif\u001b[0m \u001b[1;32mnot\u001b[0m \u001b[0mevt_handled\u001b[0m\u001b[1;33m:\u001b[0m\u001b[1;33m\u001b[0m\u001b[1;33m\u001b[0m\u001b[0m\n\u001b[1;32m-> 1705\u001b[1;33m                     self.dialect.do_execute(\n\u001b[0m\u001b[0;32m   1706\u001b[0m                         \u001b[0mcursor\u001b[0m\u001b[1;33m,\u001b[0m \u001b[0mstatement\u001b[0m\u001b[1;33m,\u001b[0m \u001b[0mparameters\u001b[0m\u001b[1;33m,\u001b[0m \u001b[0mcontext\u001b[0m\u001b[1;33m\u001b[0m\u001b[1;33m\u001b[0m\u001b[0m\n",
      "\u001b[1;32m~\\Anaconda3\\lib\\site-packages\\sqlalchemy\\engine\\default.py\u001b[0m in \u001b[0;36mdo_execute\u001b[1;34m(self, cursor, statement, parameters, context)\u001b[0m\n\u001b[0;32m    691\u001b[0m     \u001b[1;32mdef\u001b[0m \u001b[0mdo_execute\u001b[0m\u001b[1;33m(\u001b[0m\u001b[0mself\u001b[0m\u001b[1;33m,\u001b[0m \u001b[0mcursor\u001b[0m\u001b[1;33m,\u001b[0m \u001b[0mstatement\u001b[0m\u001b[1;33m,\u001b[0m \u001b[0mparameters\u001b[0m\u001b[1;33m,\u001b[0m \u001b[0mcontext\u001b[0m\u001b[1;33m=\u001b[0m\u001b[1;32mNone\u001b[0m\u001b[1;33m)\u001b[0m\u001b[1;33m:\u001b[0m\u001b[1;33m\u001b[0m\u001b[1;33m\u001b[0m\u001b[0m\n\u001b[1;32m--> 692\u001b[1;33m         \u001b[0mcursor\u001b[0m\u001b[1;33m.\u001b[0m\u001b[0mexecute\u001b[0m\u001b[1;33m(\u001b[0m\u001b[0mstatement\u001b[0m\u001b[1;33m,\u001b[0m \u001b[0mparameters\u001b[0m\u001b[1;33m)\u001b[0m\u001b[1;33m\u001b[0m\u001b[1;33m\u001b[0m\u001b[0m\n\u001b[0m\u001b[0;32m    693\u001b[0m \u001b[1;33m\u001b[0m\u001b[0m\n",
      "\u001b[1;31mProgrammingError\u001b[0m: (pyodbc.ProgrammingError) ('42S02', \"[42S02] [Microsoft][ODBC SQL Server Driver][SQL Server]Invalid object name 'HP_WORKER_DATA'. (208) (SQLExecDirectW)\")\n[SQL: Select Distinct\n    HWD.[Worker ID],\n    Case\n    When \n        HWD.[Gender Code] Is Null Then 'U'\n    Else\n        HWD.[Gender Code]\n    End As [Gender Code]\n     \nFrom \n    HP_WORKER_DATA As HWD\nLeft Join \n    TECH_JOBS_FAM As TT on TT.[Job Family Code] = HWD.[Job Family Code]\nWhere \n    HWD.[Report Date] Between '2019-04-01' And '2020-03-31' \nAnd \n    HWD.[Job Family] Like 'College'\nAnd\n   HWD.[Job Title] Like '%Intern Tech%'\nAnd\n    HWD.[Pay Group Country Desc] Like 'United States of America']\n(Background on this error at: http://sqlalche.me/e/14/f405)",
      "\nDuring handling of the above exception, another exception occurred:\n",
      "\u001b[1;31mAttributeError\u001b[0m                            Traceback (most recent call last)",
      "\u001b[1;32m~\\Anaconda3\\lib\\site-packages\\IPython\\core\\interactiveshell.py\u001b[0m in \u001b[0;36mshowtraceback\u001b[1;34m(self, exc_tuple, filename, tb_offset, exception_only, running_compiled_code)\u001b[0m\n\u001b[0;32m   2060\u001b[0m                         \u001b[1;31m# in the engines. This should return a list of strings.\u001b[0m\u001b[1;33m\u001b[0m\u001b[1;33m\u001b[0m\u001b[1;33m\u001b[0m\u001b[0m\n\u001b[1;32m-> 2061\u001b[1;33m                         \u001b[0mstb\u001b[0m \u001b[1;33m=\u001b[0m \u001b[0mvalue\u001b[0m\u001b[1;33m.\u001b[0m\u001b[0m_render_traceback_\u001b[0m\u001b[1;33m(\u001b[0m\u001b[1;33m)\u001b[0m\u001b[1;33m\u001b[0m\u001b[1;33m\u001b[0m\u001b[0m\n\u001b[0m\u001b[0;32m   2062\u001b[0m                     \u001b[1;32mexcept\u001b[0m \u001b[0mException\u001b[0m\u001b[1;33m:\u001b[0m\u001b[1;33m\u001b[0m\u001b[1;33m\u001b[0m\u001b[0m\n",
      "\u001b[1;31mAttributeError\u001b[0m: 'ProgrammingError' object has no attribute '_render_traceback_'",
      "\nDuring handling of the above exception, another exception occurred:\n",
      "\u001b[1;31mTypeError\u001b[0m                                 Traceback (most recent call last)",
      "    \u001b[1;31m[... skipping hidden 1 frame]\u001b[0m\n",
      "\u001b[1;32m~\\Anaconda3\\lib\\site-packages\\IPython\\core\\interactiveshell.py\u001b[0m in \u001b[0;36mshowtraceback\u001b[1;34m(self, exc_tuple, filename, tb_offset, exception_only, running_compiled_code)\u001b[0m\n\u001b[0;32m   2061\u001b[0m                         \u001b[0mstb\u001b[0m \u001b[1;33m=\u001b[0m \u001b[0mvalue\u001b[0m\u001b[1;33m.\u001b[0m\u001b[0m_render_traceback_\u001b[0m\u001b[1;33m(\u001b[0m\u001b[1;33m)\u001b[0m\u001b[1;33m\u001b[0m\u001b[1;33m\u001b[0m\u001b[0m\n\u001b[0;32m   2062\u001b[0m                     \u001b[1;32mexcept\u001b[0m \u001b[0mException\u001b[0m\u001b[1;33m:\u001b[0m\u001b[1;33m\u001b[0m\u001b[1;33m\u001b[0m\u001b[0m\n\u001b[1;32m-> 2063\u001b[1;33m                         stb = self.InteractiveTB.structured_traceback(etype,\n\u001b[0m\u001b[0;32m   2064\u001b[0m                                             value, tb, tb_offset=tb_offset)\n\u001b[0;32m   2065\u001b[0m \u001b[1;33m\u001b[0m\u001b[0m\n",
      "\u001b[1;32m~\\Anaconda3\\lib\\site-packages\\IPython\\core\\ultratb.py\u001b[0m in \u001b[0;36mstructured_traceback\u001b[1;34m(self, etype, value, tb, tb_offset, number_of_lines_of_context)\u001b[0m\n\u001b[0;32m   1365\u001b[0m         \u001b[1;32melse\u001b[0m\u001b[1;33m:\u001b[0m\u001b[1;33m\u001b[0m\u001b[1;33m\u001b[0m\u001b[0m\n\u001b[0;32m   1366\u001b[0m             \u001b[0mself\u001b[0m\u001b[1;33m.\u001b[0m\u001b[0mtb\u001b[0m \u001b[1;33m=\u001b[0m \u001b[0mtb\u001b[0m\u001b[1;33m\u001b[0m\u001b[1;33m\u001b[0m\u001b[0m\n\u001b[1;32m-> 1367\u001b[1;33m         return FormattedTB.structured_traceback(\n\u001b[0m\u001b[0;32m   1368\u001b[0m             self, etype, value, tb, tb_offset, number_of_lines_of_context)\n\u001b[0;32m   1369\u001b[0m \u001b[1;33m\u001b[0m\u001b[0m\n",
      "\u001b[1;32m~\\Anaconda3\\lib\\site-packages\\IPython\\core\\ultratb.py\u001b[0m in \u001b[0;36mstructured_traceback\u001b[1;34m(self, etype, value, tb, tb_offset, number_of_lines_of_context)\u001b[0m\n\u001b[0;32m   1265\u001b[0m         \u001b[1;32mif\u001b[0m \u001b[0mmode\u001b[0m \u001b[1;32min\u001b[0m \u001b[0mself\u001b[0m\u001b[1;33m.\u001b[0m\u001b[0mverbose_modes\u001b[0m\u001b[1;33m:\u001b[0m\u001b[1;33m\u001b[0m\u001b[1;33m\u001b[0m\u001b[0m\n\u001b[0;32m   1266\u001b[0m             \u001b[1;31m# Verbose modes need a full traceback\u001b[0m\u001b[1;33m\u001b[0m\u001b[1;33m\u001b[0m\u001b[1;33m\u001b[0m\u001b[0m\n\u001b[1;32m-> 1267\u001b[1;33m             return VerboseTB.structured_traceback(\n\u001b[0m\u001b[0;32m   1268\u001b[0m                 \u001b[0mself\u001b[0m\u001b[1;33m,\u001b[0m \u001b[0metype\u001b[0m\u001b[1;33m,\u001b[0m \u001b[0mvalue\u001b[0m\u001b[1;33m,\u001b[0m \u001b[0mtb\u001b[0m\u001b[1;33m,\u001b[0m \u001b[0mtb_offset\u001b[0m\u001b[1;33m,\u001b[0m \u001b[0mnumber_of_lines_of_context\u001b[0m\u001b[1;33m\u001b[0m\u001b[1;33m\u001b[0m\u001b[0m\n\u001b[0;32m   1269\u001b[0m             )\n",
      "\u001b[1;32m~\\Anaconda3\\lib\\site-packages\\IPython\\core\\ultratb.py\u001b[0m in \u001b[0;36mstructured_traceback\u001b[1;34m(self, etype, evalue, etb, tb_offset, number_of_lines_of_context)\u001b[0m\n\u001b[0;32m   1122\u001b[0m         \u001b[1;34m\"\"\"Return a nice text document describing the traceback.\"\"\"\u001b[0m\u001b[1;33m\u001b[0m\u001b[1;33m\u001b[0m\u001b[0m\n\u001b[0;32m   1123\u001b[0m \u001b[1;33m\u001b[0m\u001b[0m\n\u001b[1;32m-> 1124\u001b[1;33m         formatted_exception = self.format_exception_as_a_whole(etype, evalue, etb, number_of_lines_of_context,\n\u001b[0m\u001b[0;32m   1125\u001b[0m                                                                tb_offset)\n\u001b[0;32m   1126\u001b[0m \u001b[1;33m\u001b[0m\u001b[0m\n",
      "\u001b[1;32m~\\Anaconda3\\lib\\site-packages\\IPython\\core\\ultratb.py\u001b[0m in \u001b[0;36mformat_exception_as_a_whole\u001b[1;34m(self, etype, evalue, etb, number_of_lines_of_context, tb_offset)\u001b[0m\n\u001b[0;32m   1080\u001b[0m \u001b[1;33m\u001b[0m\u001b[0m\n\u001b[0;32m   1081\u001b[0m \u001b[1;33m\u001b[0m\u001b[0m\n\u001b[1;32m-> 1082\u001b[1;33m         \u001b[0mlast_unique\u001b[0m\u001b[1;33m,\u001b[0m \u001b[0mrecursion_repeat\u001b[0m \u001b[1;33m=\u001b[0m \u001b[0mfind_recursion\u001b[0m\u001b[1;33m(\u001b[0m\u001b[0morig_etype\u001b[0m\u001b[1;33m,\u001b[0m \u001b[0mevalue\u001b[0m\u001b[1;33m,\u001b[0m \u001b[0mrecords\u001b[0m\u001b[1;33m)\u001b[0m\u001b[1;33m\u001b[0m\u001b[1;33m\u001b[0m\u001b[0m\n\u001b[0m\u001b[0;32m   1083\u001b[0m \u001b[1;33m\u001b[0m\u001b[0m\n\u001b[0;32m   1084\u001b[0m         \u001b[0mframes\u001b[0m \u001b[1;33m=\u001b[0m \u001b[0mself\u001b[0m\u001b[1;33m.\u001b[0m\u001b[0mformat_records\u001b[0m\u001b[1;33m(\u001b[0m\u001b[0mrecords\u001b[0m\u001b[1;33m,\u001b[0m \u001b[0mlast_unique\u001b[0m\u001b[1;33m,\u001b[0m \u001b[0mrecursion_repeat\u001b[0m\u001b[1;33m)\u001b[0m\u001b[1;33m\u001b[0m\u001b[1;33m\u001b[0m\u001b[0m\n",
      "\u001b[1;32m~\\Anaconda3\\lib\\site-packages\\IPython\\core\\ultratb.py\u001b[0m in \u001b[0;36mfind_recursion\u001b[1;34m(etype, value, records)\u001b[0m\n\u001b[0;32m    380\u001b[0m     \u001b[1;31m# first frame (from in to out) that looks different.\u001b[0m\u001b[1;33m\u001b[0m\u001b[1;33m\u001b[0m\u001b[1;33m\u001b[0m\u001b[0m\n\u001b[0;32m    381\u001b[0m     \u001b[1;32mif\u001b[0m \u001b[1;32mnot\u001b[0m \u001b[0mis_recursion_error\u001b[0m\u001b[1;33m(\u001b[0m\u001b[0metype\u001b[0m\u001b[1;33m,\u001b[0m \u001b[0mvalue\u001b[0m\u001b[1;33m,\u001b[0m \u001b[0mrecords\u001b[0m\u001b[1;33m)\u001b[0m\u001b[1;33m:\u001b[0m\u001b[1;33m\u001b[0m\u001b[1;33m\u001b[0m\u001b[0m\n\u001b[1;32m--> 382\u001b[1;33m         \u001b[1;32mreturn\u001b[0m \u001b[0mlen\u001b[0m\u001b[1;33m(\u001b[0m\u001b[0mrecords\u001b[0m\u001b[1;33m)\u001b[0m\u001b[1;33m,\u001b[0m \u001b[1;36m0\u001b[0m\u001b[1;33m\u001b[0m\u001b[1;33m\u001b[0m\u001b[0m\n\u001b[0m\u001b[0;32m    383\u001b[0m \u001b[1;33m\u001b[0m\u001b[0m\n\u001b[0;32m    384\u001b[0m     \u001b[1;31m# Select filename, lineno, func_name to track frames with\u001b[0m\u001b[1;33m\u001b[0m\u001b[1;33m\u001b[0m\u001b[1;33m\u001b[0m\u001b[0m\n",
      "\u001b[1;31mTypeError\u001b[0m: object of type 'NoneType' has no len()"
     ]
    }
   ],
   "source": [
    "# add query result to data frame\n",
    "interns = hr.externalQuery('intern co-op us tech',engine)\n",
    "\n",
    "#drop duplicates\n",
    "interns = interns.drop_duplicates(subset=['Worker ID'])\n",
    "\n",
    "# count and group by gender\n",
    "interns.groupby(\"Gender Code\").count()\n"
   ]
  },
  {
   "source": [
    "## Data Period: As of March 31, 2020\n",
    "### Q2. Total number of entry level U.S. technical employees (each employee should be measured in one and only one category)"
   ],
   "cell_type": "markdown",
   "metadata": {}
  },
  {
   "cell_type": "code",
   "execution_count": 4,
   "metadata": {},
   "outputs": [
    {
     "output_type": "execute_result",
     "data": {
      "text/plain": [
       "             Worker ID\n",
       "Gender Code           \n",
       "F                   65\n",
       "M                  129"
      ],
      "text/html": "<div>\n<style scoped>\n    .dataframe tbody tr th:only-of-type {\n        vertical-align: middle;\n    }\n\n    .dataframe tbody tr th {\n        vertical-align: top;\n    }\n\n    .dataframe thead th {\n        text-align: right;\n    }\n</style>\n<table border=\"1\" class=\"dataframe\">\n  <thead>\n    <tr style=\"text-align: right;\">\n      <th></th>\n      <th>Worker ID</th>\n    </tr>\n    <tr>\n      <th>Gender Code</th>\n      <th></th>\n    </tr>\n  </thead>\n  <tbody>\n    <tr>\n      <th>F</th>\n      <td>65</td>\n    </tr>\n    <tr>\n      <th>M</th>\n      <td>129</td>\n    </tr>\n  </tbody>\n</table>\n</div>"
     },
     "metadata": {},
     "execution_count": 4
    }
   ],
   "source": [
    "# add query result to data frame\n",
    "entry = hr.externalQuery('entry level us tech',engine)\n",
    "\n",
    "hr.exportData(entry,'test', 'data')\n",
    "\n",
    "# count and group by gender\n",
    "entry.groupby(\"Gender Code\").count()\n"
   ]
  },
  {
   "source": [
    "### Q3. Total number of mid-level U.S. technical employees (each employee should be measured in one and only one category)"
   ],
   "cell_type": "markdown",
   "metadata": {}
  },
  {
   "cell_type": "code",
   "execution_count": 5,
   "metadata": {},
   "outputs": [
    {
     "output_type": "execute_result",
     "data": {
      "text/plain": [
       "             Worker ID\n",
       "Gender Code           \n",
       "F                  121\n",
       "M                  282"
      ],
      "text/html": "<div>\n<style scoped>\n    .dataframe tbody tr th:only-of-type {\n        vertical-align: middle;\n    }\n\n    .dataframe tbody tr th {\n        vertical-align: top;\n    }\n\n    .dataframe thead th {\n        text-align: right;\n    }\n</style>\n<table border=\"1\" class=\"dataframe\">\n  <thead>\n    <tr style=\"text-align: right;\">\n      <th></th>\n      <th>Worker ID</th>\n    </tr>\n    <tr>\n      <th>Gender Code</th>\n      <th></th>\n    </tr>\n  </thead>\n  <tbody>\n    <tr>\n      <th>F</th>\n      <td>121</td>\n    </tr>\n    <tr>\n      <th>M</th>\n      <td>282</td>\n    </tr>\n  </tbody>\n</table>\n</div>"
     },
     "metadata": {},
     "execution_count": 5
    }
   ],
   "source": [
    "# add query result to data frame\n",
    "mid = hr.externalQuery('mid level us tech',engine)\n",
    "\n",
    "# count and group by gender\n",
    "mid.groupby(\"Gender Code\").count()"
   ]
  },
  {
   "source": [
    "### Q4. Total number of senior level U.S. technical employees (each employee should be measured in one and only one category)"
   ],
   "cell_type": "markdown",
   "metadata": {}
  },
  {
   "cell_type": "code",
   "execution_count": 6,
   "metadata": {},
   "outputs": [
    {
     "output_type": "execute_result",
     "data": {
      "text/plain": [
       "             Worker ID\n",
       "Gender Code           \n",
       "F                   25\n",
       "M                  120"
      ],
      "text/html": "<div>\n<style scoped>\n    .dataframe tbody tr th:only-of-type {\n        vertical-align: middle;\n    }\n\n    .dataframe tbody tr th {\n        vertical-align: top;\n    }\n\n    .dataframe thead th {\n        text-align: right;\n    }\n</style>\n<table border=\"1\" class=\"dataframe\">\n  <thead>\n    <tr style=\"text-align: right;\">\n      <th></th>\n      <th>Worker ID</th>\n    </tr>\n    <tr>\n      <th>Gender Code</th>\n      <th></th>\n    </tr>\n  </thead>\n  <tbody>\n    <tr>\n      <th>F</th>\n      <td>25</td>\n    </tr>\n    <tr>\n      <th>M</th>\n      <td>120</td>\n    </tr>\n  </tbody>\n</table>\n</div>"
     },
     "metadata": {},
     "execution_count": 6
    }
   ],
   "source": [
    "# add query result to data frame\n",
    "senior = hr.externalQuery('senior level us tech',engine)\n",
    "\n",
    "# count and group by gender\n",
    "senior.groupby(\"Gender Code\").count()"
   ]
  },
  {
   "source": [
    "### Q5. Total number of executive level U.S. technical employees (each employee should be measured in one and only one category)"
   ],
   "cell_type": "markdown",
   "metadata": {}
  },
  {
   "cell_type": "code",
   "execution_count": 7,
   "metadata": {},
   "outputs": [
    {
     "output_type": "execute_result",
     "data": {
      "text/plain": [
       "             Worker ID\n",
       "Gender Code           \n",
       "F                    6\n",
       "M                   13"
      ],
      "text/html": "<div>\n<style scoped>\n    .dataframe tbody tr th:only-of-type {\n        vertical-align: middle;\n    }\n\n    .dataframe tbody tr th {\n        vertical-align: top;\n    }\n\n    .dataframe thead th {\n        text-align: right;\n    }\n</style>\n<table border=\"1\" class=\"dataframe\">\n  <thead>\n    <tr style=\"text-align: right;\">\n      <th></th>\n      <th>Worker ID</th>\n    </tr>\n    <tr>\n      <th>Gender Code</th>\n      <th></th>\n    </tr>\n  </thead>\n  <tbody>\n    <tr>\n      <th>F</th>\n      <td>6</td>\n    </tr>\n    <tr>\n      <th>M</th>\n      <td>13</td>\n    </tr>\n  </tbody>\n</table>\n</div>"
     },
     "metadata": {},
     "execution_count": 7
    }
   ],
   "source": [
    "# add query result to data frame\n",
    "exe = hr.externalQuery('exe level us tech',engine)\n",
    "\n",
    "# count and group by gender\n",
    "exe.groupby(\"Gender Code\").count()"
   ]
  },
  {
   "source": [
    "## Hiring\n",
    "## Data Period: Between April 1, 2019, and March 31, 2020 "
   ],
   "cell_type": "markdown",
   "metadata": {}
  },
  {
   "source": [
    "### Q6. Total number (excluding interns) of new U.S. technical employees hired (each employee should be measured in one and only one category):"
   ],
   "cell_type": "markdown",
   "metadata": {}
  },
  {
   "cell_type": "code",
   "execution_count": 8,
   "metadata": {},
   "outputs": [
    {
     "output_type": "execute_result",
     "data": {
      "text/plain": [
       "             Worker ID\n",
       "Gender Code           \n",
       "F                  106\n",
       "M                  391"
      ],
      "text/html": "<div>\n<style scoped>\n    .dataframe tbody tr th:only-of-type {\n        vertical-align: middle;\n    }\n\n    .dataframe tbody tr th {\n        vertical-align: top;\n    }\n\n    .dataframe thead th {\n        text-align: right;\n    }\n</style>\n<table border=\"1\" class=\"dataframe\">\n  <thead>\n    <tr style=\"text-align: right;\">\n      <th></th>\n      <th>Worker ID</th>\n    </tr>\n    <tr>\n      <th>Gender Code</th>\n      <th></th>\n    </tr>\n  </thead>\n  <tbody>\n    <tr>\n      <th>F</th>\n      <td>106</td>\n    </tr>\n    <tr>\n      <th>M</th>\n      <td>391</td>\n    </tr>\n  </tbody>\n</table>\n</div>"
     },
     "metadata": {},
     "execution_count": 8
    }
   ],
   "source": [
    "# add query result to data frame\n",
    "hire = hr.externalQuery('hiring us tech',engine)\n",
    "\n",
    "# count and group by gender\n",
    "hire.groupby(\"Gender Code\").count()"
   ]
  },
  {
   "source": [
    "## Retention\n",
    "## Data Period: Between April 1, 2019, and March 31, 2020 "
   ],
   "cell_type": "markdown",
   "metadata": {}
  },
  {
   "source": [
    "### Q7. Total Attrition - Total number (excluding interns) of U.S. technical employees who left the company (each employee should be measured in one and only one category):"
   ],
   "cell_type": "markdown",
   "metadata": {}
  },
  {
   "cell_type": "code",
   "execution_count": 9,
   "metadata": {},
   "outputs": [
    {
     "output_type": "execute_result",
     "data": {
      "text/plain": [
       "             Worker ID\n",
       "Gender Code           \n",
       "F                   56\n",
       "M                  254\n",
       "U                    1"
      ],
      "text/html": "<div>\n<style scoped>\n    .dataframe tbody tr th:only-of-type {\n        vertical-align: middle;\n    }\n\n    .dataframe tbody tr th {\n        vertical-align: top;\n    }\n\n    .dataframe thead th {\n        text-align: right;\n    }\n</style>\n<table border=\"1\" class=\"dataframe\">\n  <thead>\n    <tr style=\"text-align: right;\">\n      <th></th>\n      <th>Worker ID</th>\n    </tr>\n    <tr>\n      <th>Gender Code</th>\n      <th></th>\n    </tr>\n  </thead>\n  <tbody>\n    <tr>\n      <th>F</th>\n      <td>56</td>\n    </tr>\n    <tr>\n      <th>M</th>\n      <td>254</td>\n    </tr>\n    <tr>\n      <th>U</th>\n      <td>1</td>\n    </tr>\n  </tbody>\n</table>\n</div>"
     },
     "metadata": {},
     "execution_count": 9
    }
   ],
   "source": [
    "# add query result to data frame\n",
    "attrit = hr.externalQuery('attrition us tech',engine)\n",
    "\n",
    "# count and group by gender\n",
    "attrit.groupby(\"Gender Code\").count()"
   ]
  },
  {
   "source": [
    "## Advancement\n",
    "## Data Period: Between April 1, 2019, and March 31, 2020 "
   ],
   "cell_type": "markdown",
   "metadata": {}
  },
  {
   "source": [
    "### Q8. (+*) Total Promotion - Total number (excluding interns) of U.S. technical employees who were promoted (each employee should be measured in one and only one category):\t\t\t\t\t\t\n"
   ],
   "cell_type": "markdown",
   "metadata": {}
  },
  {
   "cell_type": "code",
   "execution_count": 10,
   "metadata": {},
   "outputs": [
    {
     "output_type": "execute_result",
     "data": {
      "text/plain": [
       "             Worker ID\n",
       "Gender Code           \n",
       "F                  136\n",
       "M                  333"
      ],
      "text/html": "<div>\n<style scoped>\n    .dataframe tbody tr th:only-of-type {\n        vertical-align: middle;\n    }\n\n    .dataframe tbody tr th {\n        vertical-align: top;\n    }\n\n    .dataframe thead th {\n        text-align: right;\n    }\n</style>\n<table border=\"1\" class=\"dataframe\">\n  <thead>\n    <tr style=\"text-align: right;\">\n      <th></th>\n      <th>Worker ID</th>\n    </tr>\n    <tr>\n      <th>Gender Code</th>\n      <th></th>\n    </tr>\n  </thead>\n  <tbody>\n    <tr>\n      <th>F</th>\n      <td>136</td>\n    </tr>\n    <tr>\n      <th>M</th>\n      <td>333</td>\n    </tr>\n  </tbody>\n</table>\n</div>"
     },
     "metadata": {},
     "execution_count": 10
    }
   ],
   "source": [
    "# add query result to data frame\n",
    "mov = hr.externalQuery('promotion us tech',engine)\n",
    "\n",
    "# count and group by gender\n",
    "mov.groupby(\"Gender Code\").count()"
   ]
  },
  {
   "source": [
    "## Additional Metrics\t\t\t\t\t\t\n",
    "## Data Period: Between April 1, 2019, and March 31, 2020 "
   ],
   "cell_type": "markdown",
   "metadata": {}
  },
  {
   "source": [
    "### Q9. Average number (excluding interns) of U.S. technical employees across all levels who are men\t\t"
   ],
   "cell_type": "markdown",
   "metadata": {}
  },
  {
   "cell_type": "code",
   "execution_count": 11,
   "metadata": {},
   "outputs": [
    {
     "output_type": "execute_result",
     "data": {
      "text/plain": [
       "5301"
      ]
     },
     "metadata": {},
     "execution_count": 11
    }
   ],
   "source": [
    "# add query result to data frame\n",
    "avgM = hr.externalQuery('avg male us tech',engine)\n",
    "\n",
    "round(avgM[\"Male Count\"].mean())"
   ]
  },
  {
   "source": [
    "### Q10. Average number (excluding interns) of U.S. technical employees across all levels who are women"
   ],
   "cell_type": "markdown",
   "metadata": {}
  },
  {
   "cell_type": "code",
   "execution_count": 12,
   "metadata": {},
   "outputs": [
    {
     "output_type": "execute_result",
     "data": {
      "text/plain": [
       "1125"
      ]
     },
     "metadata": {},
     "execution_count": 12
    }
   ],
   "source": [
    "# add query result to data frame\n",
    "avgF = hr.externalQuery('avg female us tech',engine)\n",
    "\n",
    "round(avgF[\"Female Count\"].mean())"
   ]
  },
  {
   "source": [
    "## Step 1\n",
    "## REPRESENTATION METRICS  "
   ],
   "cell_type": "markdown",
   "metadata": {}
  },
  {
   "source": [
    "## Data Period: Between January 1, 2020 - December 31, 2020  \n",
    "### Q1. <em>Internship/co-op</em> Total number of intern/co-op U.S. technical employees (each employee should be measured in one and only one category): \n"
   ],
   "cell_type": "markdown",
   "metadata": {}
  },
  {
   "cell_type": "code",
   "execution_count": 3,
   "metadata": {},
   "outputs": [
    {
     "output_type": "execute_result",
     "data": {
      "text/plain": [
       "Gender Code                                            F      M    U\n",
       "Ethnicity                                                           \n",
       "American Indian/Alaska Native (United States of...   2.0    3.0  0.0\n",
       "Asian (United States of America)                    28.0   53.0  0.0\n",
       "Black/African American (United States of America)    4.0    8.0  0.0\n",
       "Hispanic/Latino (United States of America)          12.0   11.0  0.0\n",
       "I choose not to disclose (United States of Amer...   2.0    5.0  1.0\n",
       "Two or More Races (United States of America)         7.0    9.0  0.0\n",
       "Unknown                                              0.0    2.0  0.0\n",
       "White (United States of America)                    71.0  103.0  0.0"
      ],
      "text/html": "<div>\n<style scoped>\n    .dataframe tbody tr th:only-of-type {\n        vertical-align: middle;\n    }\n\n    .dataframe tbody tr th {\n        vertical-align: top;\n    }\n\n    .dataframe thead th {\n        text-align: right;\n    }\n</style>\n<table border=\"1\" class=\"dataframe\">\n  <thead>\n    <tr style=\"text-align: right;\">\n      <th>Gender Code</th>\n      <th>F</th>\n      <th>M</th>\n      <th>U</th>\n    </tr>\n    <tr>\n      <th>Ethnicity</th>\n      <th></th>\n      <th></th>\n      <th></th>\n    </tr>\n  </thead>\n  <tbody>\n    <tr>\n      <th>American Indian/Alaska Native (United States of America)</th>\n      <td>2.0</td>\n      <td>3.0</td>\n      <td>0.0</td>\n    </tr>\n    <tr>\n      <th>Asian (United States of America)</th>\n      <td>28.0</td>\n      <td>53.0</td>\n      <td>0.0</td>\n    </tr>\n    <tr>\n      <th>Black/African American (United States of America)</th>\n      <td>4.0</td>\n      <td>8.0</td>\n      <td>0.0</td>\n    </tr>\n    <tr>\n      <th>Hispanic/Latino (United States of America)</th>\n      <td>12.0</td>\n      <td>11.0</td>\n      <td>0.0</td>\n    </tr>\n    <tr>\n      <th>I choose not to disclose (United States of America)</th>\n      <td>2.0</td>\n      <td>5.0</td>\n      <td>1.0</td>\n    </tr>\n    <tr>\n      <th>Two or More Races (United States of America)</th>\n      <td>7.0</td>\n      <td>9.0</td>\n      <td>0.0</td>\n    </tr>\n    <tr>\n      <th>Unknown</th>\n      <td>0.0</td>\n      <td>2.0</td>\n      <td>0.0</td>\n    </tr>\n    <tr>\n      <th>White (United States of America)</th>\n      <td>71.0</td>\n      <td>103.0</td>\n      <td>0.0</td>\n    </tr>\n  </tbody>\n</table>\n</div>"
     },
     "metadata": {},
     "execution_count": 3
    }
   ],
   "source": [
    "# add query result to data frame\n",
    "ethInt = hr.externalQuery('ethnicity intern co-op us tech',engine)\n",
    "\n",
    "# Pivot Data and Fill NA with 0\n",
    "pivethInt = ethInt.pivot_table(index='Ethnicity', columns='Gender Code', values='Worker ID', aggfunc=pd.Series.nunique).fillna(0)\n",
    "\n",
    "# output\n",
    "pivethInt"
   ]
  },
  {
   "cell_type": "code",
   "execution_count": 6,
   "metadata": {},
   "outputs": [],
   "source": [
    "hr.exportData(ethInt,\"Test\",\"Data\")"
   ]
  },
  {
   "source": [
    "## Data Period: As of December 31, 2020 \n",
    "### Q2. <em>Entry Level</em> Total number of entry level U.S. technical employees (each employee should be measured in one and only one category): "
   ],
   "cell_type": "markdown",
   "metadata": {}
  },
  {
   "cell_type": "code",
   "execution_count": 32,
   "metadata": {},
   "outputs": [
    {
     "output_type": "execute_result",
     "data": {
      "text/plain": [
       "Gender Code                                            F     M  Total\n",
       "Ethnicity                                                            \n",
       "Asian (United States of America)                    15.0  15.0   30.0\n",
       "Black/African American (United States of America)    3.0   4.0    7.0\n",
       "Hispanic/Latino (United States of America)           4.0  15.0   19.0\n",
       "I choose not to disclose (United States of Amer...   0.0   1.0    1.0\n",
       "Two or More Races (United States of America)         2.0   8.0   10.0\n",
       "White (United States of America)                    28.0  53.0   81.0"
      ],
      "text/html": "<div>\n<style scoped>\n    .dataframe tbody tr th:only-of-type {\n        vertical-align: middle;\n    }\n\n    .dataframe tbody tr th {\n        vertical-align: top;\n    }\n\n    .dataframe thead th {\n        text-align: right;\n    }\n</style>\n<table border=\"1\" class=\"dataframe\">\n  <thead>\n    <tr style=\"text-align: right;\">\n      <th>Gender Code</th>\n      <th>F</th>\n      <th>M</th>\n      <th>Total</th>\n    </tr>\n    <tr>\n      <th>Ethnicity</th>\n      <th></th>\n      <th></th>\n      <th></th>\n    </tr>\n  </thead>\n  <tbody>\n    <tr>\n      <th>Asian (United States of America)</th>\n      <td>15.0</td>\n      <td>15.0</td>\n      <td>30.0</td>\n    </tr>\n    <tr>\n      <th>Black/African American (United States of America)</th>\n      <td>3.0</td>\n      <td>4.0</td>\n      <td>7.0</td>\n    </tr>\n    <tr>\n      <th>Hispanic/Latino (United States of America)</th>\n      <td>4.0</td>\n      <td>15.0</td>\n      <td>19.0</td>\n    </tr>\n    <tr>\n      <th>I choose not to disclose (United States of America)</th>\n      <td>0.0</td>\n      <td>1.0</td>\n      <td>1.0</td>\n    </tr>\n    <tr>\n      <th>Two or More Races (United States of America)</th>\n      <td>2.0</td>\n      <td>8.0</td>\n      <td>10.0</td>\n    </tr>\n    <tr>\n      <th>White (United States of America)</th>\n      <td>28.0</td>\n      <td>53.0</td>\n      <td>81.0</td>\n    </tr>\n  </tbody>\n</table>\n</div>"
     },
     "metadata": {},
     "execution_count": 32
    }
   ],
   "source": [
    "# add query result to data frame\n",
    "ethEnt = hr.externalQuery('ethnicity entry co-op us tech',engine)\n",
    "\n",
    "# Pivot Data and Fill NA with 0\n",
    "pivethEnt = ethEnt.pivot_table(index='Ethnicity', columns='Gender Code', values='Worker ID', aggfunc=pd.Series.nunique).fillna(0)\n",
    "\n",
    "#Add Total for validation\n",
    "pivethEnt['Total'] = pivethEnt['F'] + pivethEnt['M'] \n",
    "\n",
    "# output\n",
    "pivethEnt"
   ]
  },
  {
   "source": [
    "## Data Period: As of December 31, 2020 \n",
    "### Q3. <em>Mid-Level</em> Total number of mid-level U.S. technical employees (each employee should be measured in one and only one category):"
   ],
   "cell_type": "markdown",
   "metadata": {}
  },
  {
   "cell_type": "code",
   "execution_count": 34,
   "metadata": {},
   "outputs": [
    {
     "output_type": "execute_result",
     "data": {
      "text/plain": [
       "Gender Code                                            F      M  Total\n",
       "Ethnicity                                                             \n",
       "American Indian/Alaska Native (United States of...   0.0    1.0    1.0\n",
       "Asian (United States of America)                    33.0   43.0   76.0\n",
       "Black/African American (United States of America)    2.0   10.0   12.0\n",
       "Hispanic/Latino (United States of America)           7.0   24.0   31.0\n",
       "I choose not to disclose (United States of Amer...   5.0    7.0   12.0\n",
       "Native Hawaiian/Oth Pac Island (United States o...   1.0    0.0    1.0\n",
       "Two or More Races (United States of America)         7.0   12.0   19.0\n",
       "Unknown                                              5.0   16.0   21.0\n",
       "White (United States of America)                    67.0  161.0  228.0"
      ],
      "text/html": "<div>\n<style scoped>\n    .dataframe tbody tr th:only-of-type {\n        vertical-align: middle;\n    }\n\n    .dataframe tbody tr th {\n        vertical-align: top;\n    }\n\n    .dataframe thead th {\n        text-align: right;\n    }\n</style>\n<table border=\"1\" class=\"dataframe\">\n  <thead>\n    <tr style=\"text-align: right;\">\n      <th>Gender Code</th>\n      <th>F</th>\n      <th>M</th>\n      <th>Total</th>\n    </tr>\n    <tr>\n      <th>Ethnicity</th>\n      <th></th>\n      <th></th>\n      <th></th>\n    </tr>\n  </thead>\n  <tbody>\n    <tr>\n      <th>American Indian/Alaska Native (United States of America)</th>\n      <td>0.0</td>\n      <td>1.0</td>\n      <td>1.0</td>\n    </tr>\n    <tr>\n      <th>Asian (United States of America)</th>\n      <td>33.0</td>\n      <td>43.0</td>\n      <td>76.0</td>\n    </tr>\n    <tr>\n      <th>Black/African American (United States of America)</th>\n      <td>2.0</td>\n      <td>10.0</td>\n      <td>12.0</td>\n    </tr>\n    <tr>\n      <th>Hispanic/Latino (United States of America)</th>\n      <td>7.0</td>\n      <td>24.0</td>\n      <td>31.0</td>\n    </tr>\n    <tr>\n      <th>I choose not to disclose (United States of America)</th>\n      <td>5.0</td>\n      <td>7.0</td>\n      <td>12.0</td>\n    </tr>\n    <tr>\n      <th>Native Hawaiian/Oth Pac Island (United States of America)</th>\n      <td>1.0</td>\n      <td>0.0</td>\n      <td>1.0</td>\n    </tr>\n    <tr>\n      <th>Two or More Races (United States of America)</th>\n      <td>7.0</td>\n      <td>12.0</td>\n      <td>19.0</td>\n    </tr>\n    <tr>\n      <th>Unknown</th>\n      <td>5.0</td>\n      <td>16.0</td>\n      <td>21.0</td>\n    </tr>\n    <tr>\n      <th>White (United States of America)</th>\n      <td>67.0</td>\n      <td>161.0</td>\n      <td>228.0</td>\n    </tr>\n  </tbody>\n</table>\n</div>"
     },
     "metadata": {},
     "execution_count": 34
    }
   ],
   "source": [
    "# add query result to data frame\n",
    "ethMid = hr.externalQuery('ethnicity mid co-op us tech',engine)\n",
    "\n",
    "# Pivot Data and Fill NA with 0\n",
    "pivethMid = ethMid.pivot_table(index='Ethnicity', columns='Gender Code', values='Worker ID', aggfunc=pd.Series.nunique).fillna(0)\n",
    "\n",
    "#Add Total for validation\n",
    "pivethMid['Total'] = pivethMid['F'] + pivethMid['M']\n",
    "\n",
    "# output\n",
    "pivethMid"
   ]
  },
  {
   "source": [
    "## Data Period: As of December 31, 2020 \n",
    "### Q4. <em>Senior Level</em> Total number of senior level U.S. technical employees (each employee should be measured in one and only one category): "
   ],
   "cell_type": "markdown",
   "metadata": {}
  },
  {
   "cell_type": "code",
   "execution_count": 35,
   "metadata": {},
   "outputs": [
    {
     "output_type": "execute_result",
     "data": {
      "text/plain": [
       "Gender Code                                           F     M    U  Total\n",
       "Ethnicity                                                                \n",
       "American Indian/Alaska Native (United States of...  0.0   4.0  0.0    4.0\n",
       "Asian (United States of America)                    1.0   5.0  0.0    6.0\n",
       "Black/African American (United States of America)   0.0   5.0  1.0    6.0\n",
       "Hispanic/Latino (United States of America)          8.0  22.0  0.0   30.0\n",
       "I choose not to disclose (United States of Amer...  0.0   5.0  0.0    5.0\n",
       "Native Hawaiian/Oth Pac Island (United States o...  0.0   1.0  0.0    1.0\n",
       "Two or More Races (United States of America)        0.0   2.0  0.0    2.0\n",
       "Unknown                                             3.0   7.0  0.0   10.0\n",
       "White (United States of America)                    9.0  68.0  0.0   77.0"
      ],
      "text/html": "<div>\n<style scoped>\n    .dataframe tbody tr th:only-of-type {\n        vertical-align: middle;\n    }\n\n    .dataframe tbody tr th {\n        vertical-align: top;\n    }\n\n    .dataframe thead th {\n        text-align: right;\n    }\n</style>\n<table border=\"1\" class=\"dataframe\">\n  <thead>\n    <tr style=\"text-align: right;\">\n      <th>Gender Code</th>\n      <th>F</th>\n      <th>M</th>\n      <th>U</th>\n      <th>Total</th>\n    </tr>\n    <tr>\n      <th>Ethnicity</th>\n      <th></th>\n      <th></th>\n      <th></th>\n      <th></th>\n    </tr>\n  </thead>\n  <tbody>\n    <tr>\n      <th>American Indian/Alaska Native (United States of America)</th>\n      <td>0.0</td>\n      <td>4.0</td>\n      <td>0.0</td>\n      <td>4.0</td>\n    </tr>\n    <tr>\n      <th>Asian (United States of America)</th>\n      <td>1.0</td>\n      <td>5.0</td>\n      <td>0.0</td>\n      <td>6.0</td>\n    </tr>\n    <tr>\n      <th>Black/African American (United States of America)</th>\n      <td>0.0</td>\n      <td>5.0</td>\n      <td>1.0</td>\n      <td>6.0</td>\n    </tr>\n    <tr>\n      <th>Hispanic/Latino (United States of America)</th>\n      <td>8.0</td>\n      <td>22.0</td>\n      <td>0.0</td>\n      <td>30.0</td>\n    </tr>\n    <tr>\n      <th>I choose not to disclose (United States of America)</th>\n      <td>0.0</td>\n      <td>5.0</td>\n      <td>0.0</td>\n      <td>5.0</td>\n    </tr>\n    <tr>\n      <th>Native Hawaiian/Oth Pac Island (United States of America)</th>\n      <td>0.0</td>\n      <td>1.0</td>\n      <td>0.0</td>\n      <td>1.0</td>\n    </tr>\n    <tr>\n      <th>Two or More Races (United States of America)</th>\n      <td>0.0</td>\n      <td>2.0</td>\n      <td>0.0</td>\n      <td>2.0</td>\n    </tr>\n    <tr>\n      <th>Unknown</th>\n      <td>3.0</td>\n      <td>7.0</td>\n      <td>0.0</td>\n      <td>10.0</td>\n    </tr>\n    <tr>\n      <th>White (United States of America)</th>\n      <td>9.0</td>\n      <td>68.0</td>\n      <td>0.0</td>\n      <td>77.0</td>\n    </tr>\n  </tbody>\n</table>\n</div>"
     },
     "metadata": {},
     "execution_count": 35
    }
   ],
   "source": [
    "# add query result to data frame\n",
    "ethSen = hr.externalQuery('ethnicity senior us tech',engine)\n",
    "\n",
    "# Pivot Data and Fill NA with 0\n",
    "pivethSen = ethSen.pivot_table(index='Ethnicity', columns='Gender Code', values='Worker ID', aggfunc=pd.Series.nunique).fillna(0)\n",
    "\n",
    "#Add Total for validation\n",
    "pivethSen['Total'] = pivethSen['F'] + pivethSen['M'] + pivethSen['U']\n",
    "\n",
    "# output\n",
    "pivethSen"
   ]
  },
  {
   "source": [
    "## Data Period: As of December 31, 2020 \n",
    "### Q5. <em>Executive Level</em> Total number of executive level U.S. technical employees (each employee should be measured in one and only one category): "
   ],
   "cell_type": "markdown",
   "metadata": {}
  },
  {
   "cell_type": "code",
   "execution_count": 37,
   "metadata": {},
   "outputs": [
    {
     "output_type": "execute_result",
     "data": {
      "text/plain": [
       "Gender Code                                           F     M  Total\n",
       "Ethnicity                                                           \n",
       "American Indian/Alaska Native (United States of...  1.0   0.0    1.0\n",
       "Asian (United States of America)                    1.0   1.0    2.0\n",
       "I choose not to disclose (United States of Amer...  0.0   1.0    1.0\n",
       "White (United States of America)                    3.0  13.0   16.0"
      ],
      "text/html": "<div>\n<style scoped>\n    .dataframe tbody tr th:only-of-type {\n        vertical-align: middle;\n    }\n\n    .dataframe tbody tr th {\n        vertical-align: top;\n    }\n\n    .dataframe thead th {\n        text-align: right;\n    }\n</style>\n<table border=\"1\" class=\"dataframe\">\n  <thead>\n    <tr style=\"text-align: right;\">\n      <th>Gender Code</th>\n      <th>F</th>\n      <th>M</th>\n      <th>Total</th>\n    </tr>\n    <tr>\n      <th>Ethnicity</th>\n      <th></th>\n      <th></th>\n      <th></th>\n    </tr>\n  </thead>\n  <tbody>\n    <tr>\n      <th>American Indian/Alaska Native (United States of America)</th>\n      <td>1.0</td>\n      <td>0.0</td>\n      <td>1.0</td>\n    </tr>\n    <tr>\n      <th>Asian (United States of America)</th>\n      <td>1.0</td>\n      <td>1.0</td>\n      <td>2.0</td>\n    </tr>\n    <tr>\n      <th>I choose not to disclose (United States of America)</th>\n      <td>0.0</td>\n      <td>1.0</td>\n      <td>1.0</td>\n    </tr>\n    <tr>\n      <th>White (United States of America)</th>\n      <td>3.0</td>\n      <td>13.0</td>\n      <td>16.0</td>\n    </tr>\n  </tbody>\n</table>\n</div>"
     },
     "metadata": {},
     "execution_count": 37
    }
   ],
   "source": [
    "# add query result to data frame\n",
    "ethExe = hr.externalQuery('ethnicity exe co-op us tech',engine)\n",
    "\n",
    "# Pivot Data and Fill NA with 0\n",
    "pivethExe = ethExe.pivot_table(index='Ethnicity', columns='Gender Code', values='Worker ID', aggfunc=pd.Series.nunique).fillna(0)\n",
    "\n",
    "#Add Total for validation\n",
    "pivethExe['Total'] = pivethExe['F'] + pivethExe['M'] \n",
    "\n",
    "# output\n",
    "pivethExe"
   ]
  },
  {
   "source": [
    "## STEP 2. CURRENT YEAR REPRESENTATION CONTINUED"
   ],
   "cell_type": "markdown",
   "metadata": {}
  },
  {
   "source": [
    "## HIRING\n",
    "## Data Period: Between January 1, 2020 - December 31, 2020  \n",
    "### Q.1 Total number (excluding interns) of new U.S. technical employees hired"
   ],
   "cell_type": "markdown",
   "metadata": {}
  },
  {
   "cell_type": "code",
   "execution_count": 43,
   "metadata": {},
   "outputs": [
    {
     "output_type": "execute_result",
     "data": {
      "text/plain": [
       "Gender Code                                            F      M    U  Total\n",
       "Ethnicity                                                                  \n",
       "American Indian/Alaska Native (United States of...   1.0    0.0  0.0    1.0\n",
       "Asian (United States of America)                    25.0   49.0  0.0   74.0\n",
       "Black/African American (United States of America)    0.0   13.0  1.0   14.0\n",
       "Hispanic/Latino (United States of America)           2.0   20.0  0.0   22.0\n",
       "I choose not to disclose (United States of Amer...   3.0    4.0  1.0    8.0\n",
       "Two or More Races (United States of America)         0.0   10.0  0.0   10.0\n",
       "Unknown                                              0.0    1.0  1.0    2.0\n",
       "White (United States of America)                    20.0  115.0  0.0  135.0"
      ],
      "text/html": "<div>\n<style scoped>\n    .dataframe tbody tr th:only-of-type {\n        vertical-align: middle;\n    }\n\n    .dataframe tbody tr th {\n        vertical-align: top;\n    }\n\n    .dataframe thead th {\n        text-align: right;\n    }\n</style>\n<table border=\"1\" class=\"dataframe\">\n  <thead>\n    <tr style=\"text-align: right;\">\n      <th>Gender Code</th>\n      <th>F</th>\n      <th>M</th>\n      <th>U</th>\n      <th>Total</th>\n    </tr>\n    <tr>\n      <th>Ethnicity</th>\n      <th></th>\n      <th></th>\n      <th></th>\n      <th></th>\n    </tr>\n  </thead>\n  <tbody>\n    <tr>\n      <th>American Indian/Alaska Native (United States of America)</th>\n      <td>1.0</td>\n      <td>0.0</td>\n      <td>0.0</td>\n      <td>1.0</td>\n    </tr>\n    <tr>\n      <th>Asian (United States of America)</th>\n      <td>25.0</td>\n      <td>49.0</td>\n      <td>0.0</td>\n      <td>74.0</td>\n    </tr>\n    <tr>\n      <th>Black/African American (United States of America)</th>\n      <td>0.0</td>\n      <td>13.0</td>\n      <td>1.0</td>\n      <td>14.0</td>\n    </tr>\n    <tr>\n      <th>Hispanic/Latino (United States of America)</th>\n      <td>2.0</td>\n      <td>20.0</td>\n      <td>0.0</td>\n      <td>22.0</td>\n    </tr>\n    <tr>\n      <th>I choose not to disclose (United States of America)</th>\n      <td>3.0</td>\n      <td>4.0</td>\n      <td>1.0</td>\n      <td>8.0</td>\n    </tr>\n    <tr>\n      <th>Two or More Races (United States of America)</th>\n      <td>0.0</td>\n      <td>10.0</td>\n      <td>0.0</td>\n      <td>10.0</td>\n    </tr>\n    <tr>\n      <th>Unknown</th>\n      <td>0.0</td>\n      <td>1.0</td>\n      <td>1.0</td>\n      <td>2.0</td>\n    </tr>\n    <tr>\n      <th>White (United States of America)</th>\n      <td>20.0</td>\n      <td>115.0</td>\n      <td>0.0</td>\n      <td>135.0</td>\n    </tr>\n  </tbody>\n</table>\n</div>"
     },
     "metadata": {},
     "execution_count": 43
    }
   ],
   "source": [
    "queryHire = \"\"\"\n",
    "declare @FYStart date = '2019-10-31'\n",
    "\n",
    "Select Distinct\n",
    "    HWD.[Worker ID],\n",
    "    Case\n",
    "    When \n",
    "        HWD.[Gender Code] Is Null Then 'U'\n",
    "    Else\n",
    "        HWD.[Gender Code]\n",
    "    End As [Gender Code],\n",
    "    HWD.[Ethnicity]\n",
    "From \n",
    "\tHP_WORKER_DATA As HWD\n",
    "Left Join \n",
    "    TECH_JOBS_FAM As TT on TT.[Job Family Code] = HWD.[Job Family Code]\n",
    "Where \n",
    "\tHWD.[Report Date] Between '2020-01-01' And '2020-12-31' \n",
    "And \n",
    "    HWD.[Job Family] Not Like 'College'\n",
    "And\n",
    "    Case\n",
    "\tWhen \n",
    "        TT.[Job Family Code] \n",
    "    Is Null Then\n",
    "        'No'\n",
    "\tElse \n",
    "        'Yes'\n",
    "\tEnd Like 'Yes'\n",
    "And\n",
    "    HWD.[Pay Group Country Desc] Like 'United States of America'\n",
    "And \n",
    "\tCase\n",
    "\t\tWhen HWD.[Original Hire Date] > @FYStart or HWD.[Hire Date] > @FYStart then 'Yes'\n",
    "\t\tElse 'No'\n",
    "\tEnd Like 'Yes' \n",
    "\"\"\"\n",
    "\n",
    "techHire = hr.internalQuery(queryHire,engine)\n",
    "\n",
    "# Pivot Data and Fill NA with 0\n",
    "pivTechHire = techHire.pivot_table(index='Ethnicity', columns='Gender Code', values='Worker ID', aggfunc=pd.Series.nunique).fillna(0)\n",
    "\n",
    "#Add Total for validation\n",
    "pivTechHire['Total'] = pivTechHire['F'] + pivTechHire['M'] + pivTechHire['U']\n",
    "\n",
    "# output\n",
    "pivTechHire\n"
   ]
  },
  {
   "source": [
    "## RETENTION\n",
    "## Data Period: Between January 1, 2020 - December 31, 2020  \n",
    "Q2. Total number (excluding interns) of U.S. technical employees who left the company"
   ],
   "cell_type": "markdown",
   "metadata": {}
  },
  {
   "cell_type": "code",
   "execution_count": 44,
   "metadata": {},
   "outputs": [
    {
     "output_type": "execute_result",
     "data": {
      "text/plain": [
       "Gender Code                                            F      M    U  Total\n",
       "Ethnicity                                                                  \n",
       "American Indian/Alaska Native (United States of...   1.0    0.0  0.0    1.0\n",
       "Asian (United States of America)                    25.0   49.0  0.0   74.0\n",
       "Black/African American (United States of America)    0.0   13.0  1.0   14.0\n",
       "Hispanic/Latino (United States of America)           2.0   20.0  0.0   22.0\n",
       "I choose not to disclose (United States of Amer...   3.0    4.0  1.0    8.0\n",
       "Two or More Races (United States of America)         0.0   10.0  0.0   10.0\n",
       "Unknown                                              0.0    1.0  1.0    2.0\n",
       "White (United States of America)                    20.0  115.0  0.0  135.0"
      ],
      "text/html": "<div>\n<style scoped>\n    .dataframe tbody tr th:only-of-type {\n        vertical-align: middle;\n    }\n\n    .dataframe tbody tr th {\n        vertical-align: top;\n    }\n\n    .dataframe thead th {\n        text-align: right;\n    }\n</style>\n<table border=\"1\" class=\"dataframe\">\n  <thead>\n    <tr style=\"text-align: right;\">\n      <th>Gender Code</th>\n      <th>F</th>\n      <th>M</th>\n      <th>U</th>\n      <th>Total</th>\n    </tr>\n    <tr>\n      <th>Ethnicity</th>\n      <th></th>\n      <th></th>\n      <th></th>\n      <th></th>\n    </tr>\n  </thead>\n  <tbody>\n    <tr>\n      <th>American Indian/Alaska Native (United States of America)</th>\n      <td>1.0</td>\n      <td>0.0</td>\n      <td>0.0</td>\n      <td>1.0</td>\n    </tr>\n    <tr>\n      <th>Asian (United States of America)</th>\n      <td>25.0</td>\n      <td>49.0</td>\n      <td>0.0</td>\n      <td>74.0</td>\n    </tr>\n    <tr>\n      <th>Black/African American (United States of America)</th>\n      <td>0.0</td>\n      <td>13.0</td>\n      <td>1.0</td>\n      <td>14.0</td>\n    </tr>\n    <tr>\n      <th>Hispanic/Latino (United States of America)</th>\n      <td>2.0</td>\n      <td>20.0</td>\n      <td>0.0</td>\n      <td>22.0</td>\n    </tr>\n    <tr>\n      <th>I choose not to disclose (United States of America)</th>\n      <td>3.0</td>\n      <td>4.0</td>\n      <td>1.0</td>\n      <td>8.0</td>\n    </tr>\n    <tr>\n      <th>Two or More Races (United States of America)</th>\n      <td>0.0</td>\n      <td>10.0</td>\n      <td>0.0</td>\n      <td>10.0</td>\n    </tr>\n    <tr>\n      <th>Unknown</th>\n      <td>0.0</td>\n      <td>1.0</td>\n      <td>1.0</td>\n      <td>2.0</td>\n    </tr>\n    <tr>\n      <th>White (United States of America)</th>\n      <td>20.0</td>\n      <td>115.0</td>\n      <td>0.0</td>\n      <td>135.0</td>\n    </tr>\n  </tbody>\n</table>\n</div>"
     },
     "metadata": {},
     "execution_count": 44
    }
   ],
   "source": [
    "queryAtt = \"\"\"\n",
    "Select Distinct\n",
    "\tHWD.[Worker ID],\n",
    "    Case\n",
    "    When \n",
    "        HWD.[Gender Code] Is Null Then 'U'\n",
    "    Else\n",
    "        HWD.[Gender Code]\n",
    "    End As [Gender Code],\n",
    "    HWD.[Ethnicity]\n",
    "From \n",
    "\tHP_WORKER_DATA As HWD\n",
    "Inner Join \n",
    "    HP_ATTRITION AS TD On TD.[Report Date] = HWD.[Report Date] \n",
    "And \n",
    "    HWD.[Worker ID] = TD.[Worker ID]\n",
    "And \n",
    "    HWD.[Attrition Type] = 'Voluntary'\n",
    "Left Join \n",
    "    TECH_JOBS_FAM As TT on TT.[Job Family Code] = HWD.[Job Family Code]\n",
    "Where \n",
    "\tHWD.[Termination Date] Between '2020-01-01' And '2020-12-31'\n",
    "And \n",
    "    HWD.[Job Family] Not Like 'College'\n",
    "And\n",
    "    Case\n",
    "\tWhen \n",
    "        TT.[Job Family Code] \n",
    "    Is Null Then\n",
    "        'No'\n",
    "\tElse \n",
    "        'Yes'\n",
    "\tEnd Like 'Yes'\n",
    "And\n",
    "    HWD.[Pay Group Country Desc] Like 'United States of America'     \n",
    "\"\"\"\n",
    "\n",
    "techAtt = hr.internalQuery(queryHire,engine)\n",
    "\n",
    "# Pivot Data and Fill NA with 0\n",
    "pivtechAtt = techAtt.pivot_table(index='Ethnicity', columns='Gender Code', values='Worker ID', aggfunc=pd.Series.nunique).fillna(0)\n",
    "\n",
    "#Add Total for validation\n",
    "pivtechAtt['Total'] = pivtechAtt['F'] + pivtechAtt['M'] + pivtechAtt['U']\n",
    "\n",
    "# output\n",
    "pivtechAtt\n"
   ]
  },
  {
   "source": [
    "## ADVANCEMENT\n",
    "## Data Period: Between January 1, 2020 - December 31, 2020 \n",
    "### Q3. Data Period: Between January 1, 2020 - December 31, 2020  "
   ],
   "cell_type": "markdown",
   "metadata": {}
  },
  {
   "cell_type": "code",
   "execution_count": 5,
   "metadata": {},
   "outputs": [
    {
     "output_type": "execute_result",
     "data": {
      "text/plain": [
       "Gender Code                                            F      M  Total\n",
       "Ethnicity                                                             \n",
       "American Indian/Alaska Native (United States of...   0.0    4.0    4.0\n",
       "Asian (United States of America)                    25.0   37.0   62.0\n",
       "Black/African American (United States of America)    3.0    9.0   12.0\n",
       "Hispanic/Latino (United States of America)          11.0   18.0   29.0\n",
       "I choose not to disclose (United States of Amer...   2.0    5.0    7.0\n",
       "Native Hawaiian/Oth Pac Island (United States o...   0.0    1.0    1.0\n",
       "Two or More Races (United States of America)         2.0    9.0   11.0\n",
       "Unknown                                              6.0   12.0   18.0\n",
       "White (United States of America)                    50.0  187.0  237.0"
      ],
      "text/html": "<div>\n<style scoped>\n    .dataframe tbody tr th:only-of-type {\n        vertical-align: middle;\n    }\n\n    .dataframe tbody tr th {\n        vertical-align: top;\n    }\n\n    .dataframe thead th {\n        text-align: right;\n    }\n</style>\n<table border=\"1\" class=\"dataframe\">\n  <thead>\n    <tr style=\"text-align: right;\">\n      <th>Gender Code</th>\n      <th>F</th>\n      <th>M</th>\n      <th>Total</th>\n    </tr>\n    <tr>\n      <th>Ethnicity</th>\n      <th></th>\n      <th></th>\n      <th></th>\n    </tr>\n  </thead>\n  <tbody>\n    <tr>\n      <th>American Indian/Alaska Native (United States of America)</th>\n      <td>0.0</td>\n      <td>4.0</td>\n      <td>4.0</td>\n    </tr>\n    <tr>\n      <th>Asian (United States of America)</th>\n      <td>25.0</td>\n      <td>37.0</td>\n      <td>62.0</td>\n    </tr>\n    <tr>\n      <th>Black/African American (United States of America)</th>\n      <td>3.0</td>\n      <td>9.0</td>\n      <td>12.0</td>\n    </tr>\n    <tr>\n      <th>Hispanic/Latino (United States of America)</th>\n      <td>11.0</td>\n      <td>18.0</td>\n      <td>29.0</td>\n    </tr>\n    <tr>\n      <th>I choose not to disclose (United States of America)</th>\n      <td>2.0</td>\n      <td>5.0</td>\n      <td>7.0</td>\n    </tr>\n    <tr>\n      <th>Native Hawaiian/Oth Pac Island (United States of America)</th>\n      <td>0.0</td>\n      <td>1.0</td>\n      <td>1.0</td>\n    </tr>\n    <tr>\n      <th>Two or More Races (United States of America)</th>\n      <td>2.0</td>\n      <td>9.0</td>\n      <td>11.0</td>\n    </tr>\n    <tr>\n      <th>Unknown</th>\n      <td>6.0</td>\n      <td>12.0</td>\n      <td>18.0</td>\n    </tr>\n    <tr>\n      <th>White (United States of America)</th>\n      <td>50.0</td>\n      <td>187.0</td>\n      <td>237.0</td>\n    </tr>\n  </tbody>\n</table>\n</div>"
     },
     "metadata": {},
     "execution_count": 5
    }
   ],
   "source": [
    "queryPromo = \"\"\"\n",
    "Select  Distinct   \n",
    "\tHWD1.[Worker ID],\n",
    "    Case\n",
    "    When \n",
    "        HWD1.[Gender Code] Is Null Then 'U'\n",
    "    Else\n",
    "        HWD1.[Gender Code]\n",
    "    End As [Gender Code],\n",
    "    HWD1.[Ethnicity]\n",
    "From \n",
    "\tHC_TRACK_CHANGES As HTC\n",
    "\tInner Join JOB_MOVES As JM On JM.[Move Type] = HTC.[ChangeSubCategory]\n",
    "\tLeft Join HP_WORKER_DATA As HWD1 On HWD1.[Report Date] = HTC.[ReportDate] And HWD1.[Worker ID] = HTC.EmployeeID\n",
    "\tLeft Join HP_WORKER_DATA As HWD2 On HWD2.[Report Date] = HTC.[PreviousReportDate] And HWD2.[Worker ID] = HTC.EmployeeID\n",
    "\tLeft Join TECH_JOBS_FAM AS TJ1 On TJ1.[Job Family] = HWD1.[Job Family]\n",
    "\tLeft Join TECH_JOBS_FAM As TJ2 On TJ2.[Job Family] = HWD2.[Job Family]\n",
    "Where \n",
    "\tHTC.ReportDate Between '2020-01-01' And '2020-12-31'\n",
    "And \n",
    "    HWD1.[Job Family] Not Like 'College'\n",
    "And     \n",
    "\tHTC.[ChangeDescription] Like '%Promotion%'\n",
    "And\n",
    "    Case\n",
    "\tWhen \n",
    "        TJ1.[Job Family Code] \n",
    "    Is Null Then\n",
    "        'No'\n",
    "\tElse \n",
    "        'Yes'\n",
    "\tEnd Like 'Yes'\n",
    "And\n",
    "    HWD1.[Pay Group Country Desc] Like 'United States of America'    \n",
    "\"\"\"\n",
    "\n",
    "techPromo = hr.internalQuery(queryPromo,engine)\n",
    "\n",
    "# Pivot Data and Fill NA with 0\n",
    "pivtechAtt = techPromo.pivot_table(index='Ethnicity', columns='Gender Code', values='Worker ID', aggfunc=pd.Series.nunique).fillna(0)\n",
    "\n",
    "#Add Total for validation\n",
    "pivtechAtt['Total'] = pivtechAtt['F'] + pivtechAtt['M'] \n",
    "\n",
    "# output\n",
    "pivtechAtt\n"
   ]
  },
  {
   "source": [
    "## BOARD DIVERSITY\t\t\t\t\t\n",
    "## Data Period: As of December 31, 2020  \n",
    "### Q4. Total number of individuals on your company’s Board of Directors"
   ],
   "cell_type": "markdown",
   "metadata": {}
  },
  {
   "cell_type": "code",
   "execution_count": null,
   "metadata": {},
   "outputs": [],
   "source": []
  },
  {
   "source": [
    "## ADDITIONAL METRICS\t\t\t\t\t\n",
    "## Data Period: As of December 31, 2020  \n",
    "### Q5. Total number (excluding interns) of technical and non-technical U.S. employees\n"
   ],
   "cell_type": "markdown",
   "metadata": {}
  },
  {
   "cell_type": "code",
   "execution_count": 8,
   "metadata": {},
   "outputs": [
    {
     "output_type": "execute_result",
     "data": {
      "text/plain": [
       "Gender Code                                              F       M    U  \\\n",
       "Ethnicity                                                                 \n",
       "American Indian/Alaska Native (United States of...    15.0    45.0  0.0   \n",
       "Asian (United States of America)                     555.0   956.0  0.0   \n",
       "Black/African American (United States of America)    156.0   303.0  1.0   \n",
       "Hispanic/Latino (United States of America)           388.0   689.0  1.0   \n",
       "I choose not to disclose (United States of Amer...    77.0   251.0  3.0   \n",
       "Native Hawaiian/Oth Pac Island (United States o...     7.0     9.0  0.0   \n",
       "Two or More Races (United States of America)          72.0   169.0  2.0   \n",
       "Unknown                                              188.0   372.0  0.0   \n",
       "White (United States of America)                    2252.0  5062.0  3.0   \n",
       "\n",
       "Gender Code                                          Total  \n",
       "Ethnicity                                                   \n",
       "American Indian/Alaska Native (United States of...    60.0  \n",
       "Asian (United States of America)                    1511.0  \n",
       "Black/African American (United States of America)    460.0  \n",
       "Hispanic/Latino (United States of America)          1078.0  \n",
       "I choose not to disclose (United States of Amer...   331.0  \n",
       "Native Hawaiian/Oth Pac Island (United States o...    16.0  \n",
       "Two or More Races (United States of America)         243.0  \n",
       "Unknown                                              560.0  \n",
       "White (United States of America)                    7317.0  "
      ],
      "text/html": "<div>\n<style scoped>\n    .dataframe tbody tr th:only-of-type {\n        vertical-align: middle;\n    }\n\n    .dataframe tbody tr th {\n        vertical-align: top;\n    }\n\n    .dataframe thead th {\n        text-align: right;\n    }\n</style>\n<table border=\"1\" class=\"dataframe\">\n  <thead>\n    <tr style=\"text-align: right;\">\n      <th>Gender Code</th>\n      <th>F</th>\n      <th>M</th>\n      <th>U</th>\n      <th>Total</th>\n    </tr>\n    <tr>\n      <th>Ethnicity</th>\n      <th></th>\n      <th></th>\n      <th></th>\n      <th></th>\n    </tr>\n  </thead>\n  <tbody>\n    <tr>\n      <th>American Indian/Alaska Native (United States of America)</th>\n      <td>15.0</td>\n      <td>45.0</td>\n      <td>0.0</td>\n      <td>60.0</td>\n    </tr>\n    <tr>\n      <th>Asian (United States of America)</th>\n      <td>555.0</td>\n      <td>956.0</td>\n      <td>0.0</td>\n      <td>1511.0</td>\n    </tr>\n    <tr>\n      <th>Black/African American (United States of America)</th>\n      <td>156.0</td>\n      <td>303.0</td>\n      <td>1.0</td>\n      <td>460.0</td>\n    </tr>\n    <tr>\n      <th>Hispanic/Latino (United States of America)</th>\n      <td>388.0</td>\n      <td>689.0</td>\n      <td>1.0</td>\n      <td>1078.0</td>\n    </tr>\n    <tr>\n      <th>I choose not to disclose (United States of America)</th>\n      <td>77.0</td>\n      <td>251.0</td>\n      <td>3.0</td>\n      <td>331.0</td>\n    </tr>\n    <tr>\n      <th>Native Hawaiian/Oth Pac Island (United States of America)</th>\n      <td>7.0</td>\n      <td>9.0</td>\n      <td>0.0</td>\n      <td>16.0</td>\n    </tr>\n    <tr>\n      <th>Two or More Races (United States of America)</th>\n      <td>72.0</td>\n      <td>169.0</td>\n      <td>2.0</td>\n      <td>243.0</td>\n    </tr>\n    <tr>\n      <th>Unknown</th>\n      <td>188.0</td>\n      <td>372.0</td>\n      <td>0.0</td>\n      <td>560.0</td>\n    </tr>\n    <tr>\n      <th>White (United States of America)</th>\n      <td>2252.0</td>\n      <td>5062.0</td>\n      <td>3.0</td>\n      <td>7317.0</td>\n    </tr>\n  </tbody>\n</table>\n</div>"
     },
     "metadata": {},
     "execution_count": 8
    }
   ],
   "source": [
    "queryHire = \"\"\"\n",
    "Select Distinct\n",
    "    HWD.[Worker ID],\n",
    "    Case\n",
    "    When \n",
    "        HWD.[Gender Code] Is Null Then 'U'\n",
    "    Else\n",
    "        HWD.[Gender Code]\n",
    "    End As [Gender Code],\n",
    "    HWD.[Ethnicity]\n",
    "From \n",
    "\tHP_WORKER_DATA As HWD\n",
    "Where \n",
    "\tHWD.[Report Date] Like '2020-12-31' \n",
    "And\n",
    "    [Worker Reg / Temp Code] = N'R' \n",
    "And \n",
    "\t[Worker Status Category Code] = N'A' \n",
    "And\n",
    "    HWD.[Job Family] Not Like 'College'\n",
    "And\n",
    "    HWD.[Pay Group Country Desc] Like 'United States of America' \n",
    "\"\"\"\n",
    "\n",
    "techHire = hr.internalQuery(queryHire,engine)\n",
    "\n",
    "# Pivot Data and Fill NA with 0\n",
    "pivTechHire = techHire.pivot_table(index='Ethnicity', columns='Gender Code', values='Worker ID', aggfunc=pd.Series.nunique).fillna(0)\n",
    "\n",
    "#Add Total for validation\n",
    "pivTechHire['Total'] = pivTechHire['F'] + pivTechHire['M'] + pivTechHire['U']\n",
    "\n",
    "# output\n",
    "pivTechHire\n"
   ]
  },
  {
   "source": [
    "## Data Period: As of December 31, 2020  \n",
    "### Q.6 Total number (excluding interns) of global technical employees:\t\t\t\t\t"
   ],
   "cell_type": "markdown",
   "metadata": {}
  },
  {
   "cell_type": "code",
   "execution_count": 15,
   "metadata": {},
   "outputs": [
    {
     "output_type": "execute_result",
     "data": {
      "text/plain": [
       "             Worker ID  Ethnicity\n",
       "Gender Code                      \n",
       "F                 4034       4034\n",
       "M                14022      14022\n",
       "U                   47         47"
      ],
      "text/html": "<div>\n<style scoped>\n    .dataframe tbody tr th:only-of-type {\n        vertical-align: middle;\n    }\n\n    .dataframe tbody tr th {\n        vertical-align: top;\n    }\n\n    .dataframe thead th {\n        text-align: right;\n    }\n</style>\n<table border=\"1\" class=\"dataframe\">\n  <thead>\n    <tr style=\"text-align: right;\">\n      <th></th>\n      <th>Worker ID</th>\n      <th>Ethnicity</th>\n    </tr>\n    <tr>\n      <th>Gender Code</th>\n      <th></th>\n      <th></th>\n    </tr>\n  </thead>\n  <tbody>\n    <tr>\n      <th>F</th>\n      <td>4034</td>\n      <td>4034</td>\n    </tr>\n    <tr>\n      <th>M</th>\n      <td>14022</td>\n      <td>14022</td>\n    </tr>\n    <tr>\n      <th>U</th>\n      <td>47</td>\n      <td>47</td>\n    </tr>\n  </tbody>\n</table>\n</div>"
     },
     "metadata": {},
     "execution_count": 15
    }
   ],
   "source": [
    "queryHire = \"\"\"\n",
    "Select Distinct\n",
    "    HWD.[Worker ID],\n",
    "    Case\n",
    "    When \n",
    "        HWD.[Gender Code] Is Null Then 'U'\n",
    "    Else\n",
    "        HWD.[Gender Code]\n",
    "    End As [Gender Code],\n",
    "    HWD.[Ethnicity]\n",
    "From \n",
    "\tHP_WORKER_DATA As HWD\n",
    "Left Join \n",
    "    TECH_JOBS_FAM As TT on TT.[Job Family Code] = HWD.[Job Family Code]\n",
    "Where \n",
    "\tHWD.[Report Date] Like '2020-12-31' \n",
    "And\n",
    "    [Worker Reg / Temp Code] = N'R' \n",
    "And \n",
    "\t[Worker Status Category Code] = N'A' \n",
    "And\n",
    "    HWD.[Job Family] Not Like 'College'\n",
    "And\n",
    "    Case\n",
    "\tWhen \n",
    "        TT.[Job Family Code] \n",
    "    Is Null Then\n",
    "        'No'\n",
    "\tElse \n",
    "        'Yes'\n",
    "\tEnd Like 'Yes' \n",
    "\"\"\"\n",
    "\n",
    "techHire = hr.internalQuery(queryHire,engine)\n",
    "\n",
    "# Pivot Data and Fill NA with 0\n",
    "techHire.groupby(\"Gender Code\").count()\n",
    "\n"
   ]
  },
  {
   "source": [
    "## Data Period: Between January 1, 2020 - December 31, 2020  \n",
    "### Q7. Average  number (excluding interns) of U.S. technical employees across all levels who are men"
   ],
   "cell_type": "markdown",
   "metadata": {}
  },
  {
   "cell_type": "code",
   "execution_count": 16,
   "metadata": {},
   "outputs": [
    {
     "output_type": "execute_result",
     "data": {
      "text/plain": [
       "4308"
      ]
     },
     "metadata": {},
     "execution_count": 16
    }
   ],
   "source": [
    "queryHire = \"\"\"\n",
    "Select Distinct\n",
    "    Count(HWD.[Worker ID]) As [Male Count]\n",
    "     \n",
    "From \n",
    "    HP_WORKER_DATA As HWD\n",
    "Left Join \n",
    "    TECH_JOBS_FAM As TT on TT.[Job Family Code] = HWD.[Job Family Code]\n",
    "Where \n",
    "    HWD.[Report Date] Between '2020-01-01' And '2020-12-31' \n",
    "And \n",
    "    HWD.[Job Family] Not Like 'College'\n",
    "And\n",
    "    Case\n",
    "\tWhen \n",
    "        TT.[Job Family Code] \n",
    "    Is Null Then\n",
    "        'No'\n",
    "\tElse \n",
    "        'Yes'\n",
    "\tEnd Like 'Yes'\n",
    "And\n",
    "    [Worker Reg / Temp Code] = N'R' \n",
    "And \n",
    "\t[Worker Status Category Code] = N'A' \n",
    "And \n",
    "     HWD.[Gender Code] Like 'M'\n",
    "And\n",
    "    HWD.[Pay Group Country Desc] Like 'United States of America'\n",
    "Group By \n",
    "    HWD.[Report Date]\n",
    "\"\"\"\n",
    "\n",
    "avgM =  hr.internalQuery(queryHire,engine)\n",
    "\n",
    "round(avgM[\"Male Count\"].mean())"
   ]
  },
  {
   "source": [
    "## Data Period: Between January 1, 2020 - December 31, 2020  \n",
    "### Q8. Average number (excluding interns) of U.S. technical employees across all levels who are women"
   ],
   "cell_type": "markdown",
   "metadata": {}
  },
  {
   "cell_type": "code",
   "execution_count": 17,
   "metadata": {},
   "outputs": [
    {
     "output_type": "execute_result",
     "data": {
      "text/plain": [
       "943"
      ]
     },
     "metadata": {},
     "execution_count": 17
    }
   ],
   "source": [
    "queryHire = \"\"\"\n",
    "Select Distinct\n",
    "    Count(HWD.[Worker ID]) As [Male Count]\n",
    "     \n",
    "From \n",
    "    HP_WORKER_DATA As HWD\n",
    "Left Join \n",
    "    TECH_JOBS_FAM As TT on TT.[Job Family Code] = HWD.[Job Family Code]\n",
    "Where \n",
    "    HWD.[Report Date] Between '2020-01-01' And '2020-12-31' \n",
    "And \n",
    "    HWD.[Job Family] Not Like 'College'\n",
    "And\n",
    "    Case\n",
    "\tWhen \n",
    "        TT.[Job Family Code] \n",
    "    Is Null Then\n",
    "        'No'\n",
    "\tElse \n",
    "        'Yes'\n",
    "\tEnd Like 'Yes'\n",
    "And\n",
    "    [Worker Reg / Temp Code] = N'R' \n",
    "And \n",
    "\t[Worker Status Category Code] = N'A' \n",
    "And \n",
    "     HWD.[Gender Code] Like 'F'\n",
    "And\n",
    "    HWD.[Pay Group Country Desc] Like 'United States of America'\n",
    "Group By \n",
    "    HWD.[Report Date]\n",
    "\"\"\"\n",
    "\n",
    "avgM =  hr.internalQuery(queryHire,engine)\n",
    "\n",
    "round(avgM[\"Male Count\"].mean())"
   ]
  },
  {
   "source": [
    "## Data Period: Between January 1, 2020 - December 31, 2020  \n",
    "### Q9. Average number (excluding interns) of U.S. technical employees across all levels who are non-binary"
   ],
   "cell_type": "markdown",
   "metadata": {}
  },
  {
   "cell_type": "code",
   "execution_count": 8,
   "metadata": {},
   "outputs": [
    {
     "output_type": "stream",
     "name": "stderr",
     "text": [
      "ETL Extraction Progress: 100%|██████████| 6/6 [01:29<00:00, 14.92s/it]\n"
     ]
    },
    {
     "output_type": "execute_result",
     "data": {
      "text/plain": [
       "             0     1     2     3     4     5\n",
       "0         2304   361   900  1024  7396   144\n",
       "1         6400  9604  3249  7056  3721   400\n",
       "2         1764  1936  7225    36  5929  2500\n",
       "3         3025  6724  5329  2025  5625   900\n",
       "4         6241   361  6084  1225  4900  5329\n",
       "...        ...   ...   ...   ...   ...   ...\n",
       "99999995  4356   324  2809  1764   256    81\n",
       "99999996  1024   729  1764  5776  9604   256\n",
       "99999997  7225  6889  3844  3364   400  1600\n",
       "99999998  1849  9604   625  4624     9  1600\n",
       "99999999   625  7225  4225  6400  1369  3721\n",
       "\n",
       "[100000000 rows x 6 columns]"
      ],
      "text/html": "<div>\n<style scoped>\n    .dataframe tbody tr th:only-of-type {\n        vertical-align: middle;\n    }\n\n    .dataframe tbody tr th {\n        vertical-align: top;\n    }\n\n    .dataframe thead th {\n        text-align: right;\n    }\n</style>\n<table border=\"1\" class=\"dataframe\">\n  <thead>\n    <tr style=\"text-align: right;\">\n      <th></th>\n      <th>0</th>\n      <th>1</th>\n      <th>2</th>\n      <th>3</th>\n      <th>4</th>\n      <th>5</th>\n    </tr>\n  </thead>\n  <tbody>\n    <tr>\n      <th>0</th>\n      <td>2304</td>\n      <td>361</td>\n      <td>900</td>\n      <td>1024</td>\n      <td>7396</td>\n      <td>144</td>\n    </tr>\n    <tr>\n      <th>1</th>\n      <td>6400</td>\n      <td>9604</td>\n      <td>3249</td>\n      <td>7056</td>\n      <td>3721</td>\n      <td>400</td>\n    </tr>\n    <tr>\n      <th>2</th>\n      <td>1764</td>\n      <td>1936</td>\n      <td>7225</td>\n      <td>36</td>\n      <td>5929</td>\n      <td>2500</td>\n    </tr>\n    <tr>\n      <th>3</th>\n      <td>3025</td>\n      <td>6724</td>\n      <td>5329</td>\n      <td>2025</td>\n      <td>5625</td>\n      <td>900</td>\n    </tr>\n    <tr>\n      <th>4</th>\n      <td>6241</td>\n      <td>361</td>\n      <td>6084</td>\n      <td>1225</td>\n      <td>4900</td>\n      <td>5329</td>\n    </tr>\n    <tr>\n      <th>...</th>\n      <td>...</td>\n      <td>...</td>\n      <td>...</td>\n      <td>...</td>\n      <td>...</td>\n      <td>...</td>\n    </tr>\n    <tr>\n      <th>99999995</th>\n      <td>4356</td>\n      <td>324</td>\n      <td>2809</td>\n      <td>1764</td>\n      <td>256</td>\n      <td>81</td>\n    </tr>\n    <tr>\n      <th>99999996</th>\n      <td>1024</td>\n      <td>729</td>\n      <td>1764</td>\n      <td>5776</td>\n      <td>9604</td>\n      <td>256</td>\n    </tr>\n    <tr>\n      <th>99999997</th>\n      <td>7225</td>\n      <td>6889</td>\n      <td>3844</td>\n      <td>3364</td>\n      <td>400</td>\n      <td>1600</td>\n    </tr>\n    <tr>\n      <th>99999998</th>\n      <td>1849</td>\n      <td>9604</td>\n      <td>625</td>\n      <td>4624</td>\n      <td>9</td>\n      <td>1600</td>\n    </tr>\n    <tr>\n      <th>99999999</th>\n      <td>625</td>\n      <td>7225</td>\n      <td>4225</td>\n      <td>6400</td>\n      <td>1369</td>\n      <td>3721</td>\n    </tr>\n  </tbody>\n</table>\n<p>100000000 rows × 6 columns</p>\n</div>"
     },
     "metadata": {},
     "execution_count": 8
    }
   ],
   "source": [
    "import pandas as pd\n",
    "import numpy as np\n",
    "from tqdm import tqdm\n",
    "\n",
    "df = pd.concat([pd.DataFrame(np.random.randint(0, 100, (10000000, 6))) for i in range(10)], ignore_index=True) \n",
    "\n",
    "# Register `pandas.progress_apply` and `pandas.Series.map_apply` with `tqdm`\n",
    "# (can use `tqdm.gui.tqdm`, `tqdm.notebook.tqdm`, optional kwargs, etc.)\n",
    "tqdm.pandas(desc=\"ETL Extraction Progress\")\n",
    "\n",
    "# Now you can use `progress_apply` instead of `apply`\n",
    "# and `progress_map` instead of `map`\n",
    "df.progress_apply(lambda x: x**2)\n",
    "# can also groupby:\n",
    "# df.groupby(0).progress_apply(lambda x: x**2)"
   ]
  },
  {
   "cell_type": "code",
   "execution_count": null,
   "metadata": {},
   "outputs": [],
   "source": []
  }
 ]
}