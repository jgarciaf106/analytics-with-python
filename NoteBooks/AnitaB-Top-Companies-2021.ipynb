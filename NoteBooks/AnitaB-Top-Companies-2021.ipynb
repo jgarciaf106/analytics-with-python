{
 "metadata": {
  "language_info": {
   "codemirror_mode": {
    "name": "ipython",
    "version": 3
   },
   "file_extension": ".py",
   "mimetype": "text/x-python",
   "name": "python",
   "nbconvert_exporter": "python",
   "pygments_lexer": "ipython3",
   "version": "3.8.8"
  },
  "orig_nbformat": 2,
  "kernelspec": {
   "name": "python388jvsc74a57bd04a29cd43a4810d6a942ce6e84a00941e922630dc546f381ebde2ea5a8fbeadeb",
   "display_name": "Python 3.8.8 64-bit ('base': conda)"
  }
 },
 "nbformat": 4,
 "nbformat_minor": 2,
 "cells": [
  {
   "source": [
    "## Back-end settings"
   ],
   "cell_type": "markdown",
   "metadata": {}
  },
  {
   "cell_type": "code",
   "execution_count": 2,
   "metadata": {},
   "outputs": [],
   "source": [
    "import HR_Analytics as hr\n",
    "import pandas as pd"
   ]
  },
  {
   "cell_type": "code",
   "execution_count": 3,
   "metadata": {},
   "outputs": [],
   "source": [
    "engine = hr.setEngine('credentials','BIHRDW')"
   ]
  },
  {
   "source": [
    "## Step 0\t\t\n",
    "## Representation by Career Level\t\t"
   ],
   "cell_type": "markdown",
   "metadata": {}
  },
  {
   "source": [
    "## Data Period: Between April 1, 2019, and March 31, 2020 \n",
    "### Q1. Total number of intern/co-op U.S. technical employees (each employee should be measured in one and only one category):\t\n"
   ],
   "cell_type": "markdown",
   "metadata": {}
  },
  {
   "cell_type": "code",
   "execution_count": 3,
   "metadata": {},
   "outputs": [
    {
     "output_type": "execute_result",
     "data": {
      "text/plain": [
       "Empty DataFrame\n",
       "Columns: [Worker ID]\n",
       "Index: []"
      ],
      "text/html": "<div>\n<style scoped>\n    .dataframe tbody tr th:only-of-type {\n        vertical-align: middle;\n    }\n\n    .dataframe tbody tr th {\n        vertical-align: top;\n    }\n\n    .dataframe thead th {\n        text-align: right;\n    }\n</style>\n<table border=\"1\" class=\"dataframe\">\n  <thead>\n    <tr style=\"text-align: right;\">\n      <th></th>\n      <th>Worker ID</th>\n    </tr>\n    <tr>\n      <th>Gender Code</th>\n      <th></th>\n    </tr>\n  </thead>\n  <tbody>\n  </tbody>\n</table>\n</div>"
     },
     "metadata": {},
     "execution_count": 3
    }
   ],
   "source": [
    "# add query result to data frame\n",
    "interns = hr.externalQuery('intern co-op us tech',engine)\n",
    "\n",
    "#drop duplicates\n",
    "interns = interns.drop_duplicates(subset=['Worker ID'])\n",
    "\n",
    "# count and group by gender\n",
    "interns.groupby(\"Gender Code\").count()\n"
   ]
  },
  {
   "source": [
    "## Data Period: As of March 31, 2020\n",
    "### Q2. Total number of entry level U.S. technical employees (each employee should be measured in one and only one category)"
   ],
   "cell_type": "markdown",
   "metadata": {}
  },
  {
   "cell_type": "code",
   "execution_count": 4,
   "metadata": {},
   "outputs": [
    {
     "output_type": "execute_result",
     "data": {
      "text/plain": [
       "             Worker ID\n",
       "Gender Code           \n",
       "F                   65\n",
       "M                  129"
      ],
      "text/html": "<div>\n<style scoped>\n    .dataframe tbody tr th:only-of-type {\n        vertical-align: middle;\n    }\n\n    .dataframe tbody tr th {\n        vertical-align: top;\n    }\n\n    .dataframe thead th {\n        text-align: right;\n    }\n</style>\n<table border=\"1\" class=\"dataframe\">\n  <thead>\n    <tr style=\"text-align: right;\">\n      <th></th>\n      <th>Worker ID</th>\n    </tr>\n    <tr>\n      <th>Gender Code</th>\n      <th></th>\n    </tr>\n  </thead>\n  <tbody>\n    <tr>\n      <th>F</th>\n      <td>65</td>\n    </tr>\n    <tr>\n      <th>M</th>\n      <td>129</td>\n    </tr>\n  </tbody>\n</table>\n</div>"
     },
     "metadata": {},
     "execution_count": 4
    }
   ],
   "source": [
    "# add query result to data frame\n",
    "entry = hr.externalQuery('entry level us tech',engine)\n",
    "\n",
    "hr.exportData(entry,'test', 'data')\n",
    "\n",
    "# count and group by gender\n",
    "entry.groupby(\"Gender Code\").count()\n"
   ]
  },
  {
   "source": [
    "### Q3. Total number of mid-level U.S. technical employees (each employee should be measured in one and only one category)"
   ],
   "cell_type": "markdown",
   "metadata": {}
  },
  {
   "cell_type": "code",
   "execution_count": 5,
   "metadata": {},
   "outputs": [
    {
     "output_type": "execute_result",
     "data": {
      "text/plain": [
       "             Worker ID\n",
       "Gender Code           \n",
       "F                  121\n",
       "M                  282"
      ],
      "text/html": "<div>\n<style scoped>\n    .dataframe tbody tr th:only-of-type {\n        vertical-align: middle;\n    }\n\n    .dataframe tbody tr th {\n        vertical-align: top;\n    }\n\n    .dataframe thead th {\n        text-align: right;\n    }\n</style>\n<table border=\"1\" class=\"dataframe\">\n  <thead>\n    <tr style=\"text-align: right;\">\n      <th></th>\n      <th>Worker ID</th>\n    </tr>\n    <tr>\n      <th>Gender Code</th>\n      <th></th>\n    </tr>\n  </thead>\n  <tbody>\n    <tr>\n      <th>F</th>\n      <td>121</td>\n    </tr>\n    <tr>\n      <th>M</th>\n      <td>282</td>\n    </tr>\n  </tbody>\n</table>\n</div>"
     },
     "metadata": {},
     "execution_count": 5
    }
   ],
   "source": [
    "# add query result to data frame\n",
    "mid = hr.externalQuery('mid level us tech',engine)\n",
    "\n",
    "# count and group by gender\n",
    "mid.groupby(\"Gender Code\").count()"
   ]
  },
  {
   "source": [
    "### Q4. Total number of senior level U.S. technical employees (each employee should be measured in one and only one category)"
   ],
   "cell_type": "markdown",
   "metadata": {}
  },
  {
   "cell_type": "code",
   "execution_count": 6,
   "metadata": {},
   "outputs": [
    {
     "output_type": "execute_result",
     "data": {
      "text/plain": [
       "             Worker ID\n",
       "Gender Code           \n",
       "F                   25\n",
       "M                  120"
      ],
      "text/html": "<div>\n<style scoped>\n    .dataframe tbody tr th:only-of-type {\n        vertical-align: middle;\n    }\n\n    .dataframe tbody tr th {\n        vertical-align: top;\n    }\n\n    .dataframe thead th {\n        text-align: right;\n    }\n</style>\n<table border=\"1\" class=\"dataframe\">\n  <thead>\n    <tr style=\"text-align: right;\">\n      <th></th>\n      <th>Worker ID</th>\n    </tr>\n    <tr>\n      <th>Gender Code</th>\n      <th></th>\n    </tr>\n  </thead>\n  <tbody>\n    <tr>\n      <th>F</th>\n      <td>25</td>\n    </tr>\n    <tr>\n      <th>M</th>\n      <td>120</td>\n    </tr>\n  </tbody>\n</table>\n</div>"
     },
     "metadata": {},
     "execution_count": 6
    }
   ],
   "source": [
    "# add query result to data frame\n",
    "senior = hr.externalQuery('senior level us tech',engine)\n",
    "\n",
    "# count and group by gender\n",
    "senior.groupby(\"Gender Code\").count()"
   ]
  },
  {
   "source": [
    "### Q5. Total number of executive level U.S. technical employees (each employee should be measured in one and only one category)"
   ],
   "cell_type": "markdown",
   "metadata": {}
  },
  {
   "cell_type": "code",
   "execution_count": 7,
   "metadata": {},
   "outputs": [
    {
     "output_type": "execute_result",
     "data": {
      "text/plain": [
       "             Worker ID\n",
       "Gender Code           \n",
       "F                    6\n",
       "M                   13"
      ],
      "text/html": "<div>\n<style scoped>\n    .dataframe tbody tr th:only-of-type {\n        vertical-align: middle;\n    }\n\n    .dataframe tbody tr th {\n        vertical-align: top;\n    }\n\n    .dataframe thead th {\n        text-align: right;\n    }\n</style>\n<table border=\"1\" class=\"dataframe\">\n  <thead>\n    <tr style=\"text-align: right;\">\n      <th></th>\n      <th>Worker ID</th>\n    </tr>\n    <tr>\n      <th>Gender Code</th>\n      <th></th>\n    </tr>\n  </thead>\n  <tbody>\n    <tr>\n      <th>F</th>\n      <td>6</td>\n    </tr>\n    <tr>\n      <th>M</th>\n      <td>13</td>\n    </tr>\n  </tbody>\n</table>\n</div>"
     },
     "metadata": {},
     "execution_count": 7
    }
   ],
   "source": [
    "# add query result to data frame\n",
    "exe = hr.externalQuery('exe level us tech',engine)\n",
    "\n",
    "# count and group by gender\n",
    "exe.groupby(\"Gender Code\").count()"
   ]
  },
  {
   "source": [
    "## Hiring\n",
    "## Data Period: Between April 1, 2019, and March 31, 2020 "
   ],
   "cell_type": "markdown",
   "metadata": {}
  },
  {
   "source": [
    "### Q6. Total number (excluding interns) of new U.S. technical employees hired (each employee should be measured in one and only one category):"
   ],
   "cell_type": "markdown",
   "metadata": {}
  },
  {
   "cell_type": "code",
   "execution_count": 8,
   "metadata": {},
   "outputs": [
    {
     "output_type": "execute_result",
     "data": {
      "text/plain": [
       "             Worker ID\n",
       "Gender Code           \n",
       "F                  106\n",
       "M                  391"
      ],
      "text/html": "<div>\n<style scoped>\n    .dataframe tbody tr th:only-of-type {\n        vertical-align: middle;\n    }\n\n    .dataframe tbody tr th {\n        vertical-align: top;\n    }\n\n    .dataframe thead th {\n        text-align: right;\n    }\n</style>\n<table border=\"1\" class=\"dataframe\">\n  <thead>\n    <tr style=\"text-align: right;\">\n      <th></th>\n      <th>Worker ID</th>\n    </tr>\n    <tr>\n      <th>Gender Code</th>\n      <th></th>\n    </tr>\n  </thead>\n  <tbody>\n    <tr>\n      <th>F</th>\n      <td>106</td>\n    </tr>\n    <tr>\n      <th>M</th>\n      <td>391</td>\n    </tr>\n  </tbody>\n</table>\n</div>"
     },
     "metadata": {},
     "execution_count": 8
    }
   ],
   "source": [
    "# add query result to data frame\n",
    "hire = hr.externalQuery('hiring us tech',engine)\n",
    "\n",
    "# count and group by gender\n",
    "hire.groupby(\"Gender Code\").count()"
   ]
  },
  {
   "source": [
    "## Retention\n",
    "## Data Period: Between April 1, 2019, and March 31, 2020 "
   ],
   "cell_type": "markdown",
   "metadata": {}
  },
  {
   "source": [
    "### Q7. Total Attrition - Total number (excluding interns) of U.S. technical employees who left the company (each employee should be measured in one and only one category):"
   ],
   "cell_type": "markdown",
   "metadata": {}
  },
  {
   "cell_type": "code",
   "execution_count": 9,
   "metadata": {},
   "outputs": [
    {
     "output_type": "execute_result",
     "data": {
      "text/plain": [
       "             Worker ID\n",
       "Gender Code           \n",
       "F                   56\n",
       "M                  254\n",
       "U                    1"
      ],
      "text/html": "<div>\n<style scoped>\n    .dataframe tbody tr th:only-of-type {\n        vertical-align: middle;\n    }\n\n    .dataframe tbody tr th {\n        vertical-align: top;\n    }\n\n    .dataframe thead th {\n        text-align: right;\n    }\n</style>\n<table border=\"1\" class=\"dataframe\">\n  <thead>\n    <tr style=\"text-align: right;\">\n      <th></th>\n      <th>Worker ID</th>\n    </tr>\n    <tr>\n      <th>Gender Code</th>\n      <th></th>\n    </tr>\n  </thead>\n  <tbody>\n    <tr>\n      <th>F</th>\n      <td>56</td>\n    </tr>\n    <tr>\n      <th>M</th>\n      <td>254</td>\n    </tr>\n    <tr>\n      <th>U</th>\n      <td>1</td>\n    </tr>\n  </tbody>\n</table>\n</div>"
     },
     "metadata": {},
     "execution_count": 9
    }
   ],
   "source": [
    "# add query result to data frame\n",
    "attrit = hr.externalQuery('attrition us tech',engine)\n",
    "\n",
    "# count and group by gender\n",
    "attrit.groupby(\"Gender Code\").count()"
   ]
  },
  {
   "source": [
    "## Advancement\n",
    "## Data Period: Between April 1, 2019, and March 31, 2020 "
   ],
   "cell_type": "markdown",
   "metadata": {}
  },
  {
   "source": [
    "### Q8. (+*) Total Promotion - Total number (excluding interns) of U.S. technical employees who were promoted (each employee should be measured in one and only one category):\t\t\t\t\t\t\n"
   ],
   "cell_type": "markdown",
   "metadata": {}
  },
  {
   "cell_type": "code",
   "execution_count": 10,
   "metadata": {},
   "outputs": [
    {
     "output_type": "execute_result",
     "data": {
      "text/plain": [
       "             Worker ID\n",
       "Gender Code           \n",
       "F                  136\n",
       "M                  333"
      ],
      "text/html": "<div>\n<style scoped>\n    .dataframe tbody tr th:only-of-type {\n        vertical-align: middle;\n    }\n\n    .dataframe tbody tr th {\n        vertical-align: top;\n    }\n\n    .dataframe thead th {\n        text-align: right;\n    }\n</style>\n<table border=\"1\" class=\"dataframe\">\n  <thead>\n    <tr style=\"text-align: right;\">\n      <th></th>\n      <th>Worker ID</th>\n    </tr>\n    <tr>\n      <th>Gender Code</th>\n      <th></th>\n    </tr>\n  </thead>\n  <tbody>\n    <tr>\n      <th>F</th>\n      <td>136</td>\n    </tr>\n    <tr>\n      <th>M</th>\n      <td>333</td>\n    </tr>\n  </tbody>\n</table>\n</div>"
     },
     "metadata": {},
     "execution_count": 10
    }
   ],
   "source": [
    "# add query result to data frame\n",
    "mov = hr.externalQuery('promotion us tech',engine)\n",
    "\n",
    "# count and group by gender\n",
    "mov.groupby(\"Gender Code\").count()"
   ]
  },
  {
   "source": [
    "## Additional Metrics\t\t\t\t\t\t\n",
    "## Data Period: Between April 1, 2019, and March 31, 2020 "
   ],
   "cell_type": "markdown",
   "metadata": {}
  },
  {
   "source": [
    "### Q9. Average number (excluding interns) of U.S. technical employees across all levels who are men\t\t"
   ],
   "cell_type": "markdown",
   "metadata": {}
  },
  {
   "cell_type": "code",
   "execution_count": 11,
   "metadata": {},
   "outputs": [
    {
     "output_type": "execute_result",
     "data": {
      "text/plain": [
       "5301"
      ]
     },
     "metadata": {},
     "execution_count": 11
    }
   ],
   "source": [
    "# add query result to data frame\n",
    "avgM = hr.externalQuery('avg male us tech',engine)\n",
    "\n",
    "round(avgM[\"Male Count\"].mean())"
   ]
  },
  {
   "source": [
    "### Q10. Average number (excluding interns) of U.S. technical employees across all levels who are women"
   ],
   "cell_type": "markdown",
   "metadata": {}
  },
  {
   "cell_type": "code",
   "execution_count": 12,
   "metadata": {},
   "outputs": [
    {
     "output_type": "execute_result",
     "data": {
      "text/plain": [
       "1125"
      ]
     },
     "metadata": {},
     "execution_count": 12
    }
   ],
   "source": [
    "# add query result to data frame\n",
    "avgF = hr.externalQuery('avg female us tech',engine)\n",
    "\n",
    "round(avgF[\"Female Count\"].mean())"
   ]
  },
  {
   "source": [
    "## Step 1\n",
    "## REPRESENTATION METRICS  "
   ],
   "cell_type": "markdown",
   "metadata": {}
  },
  {
   "source": [
    "## Data Period: Between January 1, 2020 - December 31, 2020  \n",
    "### Q1. <em>Internship/co-op</em> Total number of intern/co-op U.S. technical employees (each employee should be measured in one and only one category): \n"
   ],
   "cell_type": "markdown",
   "metadata": {}
  },
  {
   "cell_type": "code",
   "execution_count": 31,
   "metadata": {},
   "outputs": [
    {
     "output_type": "execute_result",
     "data": {
      "text/plain": [
       "Empty DataFrame\n",
       "Columns: []\n",
       "Index: []"
      ],
      "text/html": "<div>\n<style scoped>\n    .dataframe tbody tr th:only-of-type {\n        vertical-align: middle;\n    }\n\n    .dataframe tbody tr th {\n        vertical-align: top;\n    }\n\n    .dataframe thead th {\n        text-align: right;\n    }\n</style>\n<table border=\"1\" class=\"dataframe\">\n  <thead>\n    <tr style=\"text-align: right;\">\n      <th></th>\n    </tr>\n  </thead>\n  <tbody>\n  </tbody>\n</table>\n</div>"
     },
     "metadata": {},
     "execution_count": 31
    }
   ],
   "source": [
    "# add query result to data frame\n",
    "ethInt = hr.externalQuery('ethnicity intern co-op us tech',engine)\n",
    "\n",
    "# Pivot Data and Fill NA with 0\n",
    "pivethInt = ethInt.pivot_table(index='Ethnicity', columns='Gender Code', values='Worker ID', aggfunc=pd.Series.nunique).fillna(0)\n",
    "\n",
    "# output\n",
    "pivethInt"
   ]
  },
  {
   "source": [
    "## Data Period: As of December 31, 2020 \n",
    "### Q2. <em>Entry Level</em> Total number of entry level U.S. technical employees (each employee should be measured in one and only one category): "
   ],
   "cell_type": "markdown",
   "metadata": {}
  },
  {
   "cell_type": "code",
   "execution_count": 32,
   "metadata": {},
   "outputs": [
    {
     "output_type": "execute_result",
     "data": {
      "text/plain": [
       "Gender Code                                            F     M  Total\n",
       "Ethnicity                                                            \n",
       "Asian (United States of America)                    15.0  15.0   30.0\n",
       "Black/African American (United States of America)    3.0   4.0    7.0\n",
       "Hispanic/Latino (United States of America)           4.0  15.0   19.0\n",
       "I choose not to disclose (United States of Amer...   0.0   1.0    1.0\n",
       "Two or More Races (United States of America)         2.0   8.0   10.0\n",
       "White (United States of America)                    28.0  53.0   81.0"
      ],
      "text/html": "<div>\n<style scoped>\n    .dataframe tbody tr th:only-of-type {\n        vertical-align: middle;\n    }\n\n    .dataframe tbody tr th {\n        vertical-align: top;\n    }\n\n    .dataframe thead th {\n        text-align: right;\n    }\n</style>\n<table border=\"1\" class=\"dataframe\">\n  <thead>\n    <tr style=\"text-align: right;\">\n      <th>Gender Code</th>\n      <th>F</th>\n      <th>M</th>\n      <th>Total</th>\n    </tr>\n    <tr>\n      <th>Ethnicity</th>\n      <th></th>\n      <th></th>\n      <th></th>\n    </tr>\n  </thead>\n  <tbody>\n    <tr>\n      <th>Asian (United States of America)</th>\n      <td>15.0</td>\n      <td>15.0</td>\n      <td>30.0</td>\n    </tr>\n    <tr>\n      <th>Black/African American (United States of America)</th>\n      <td>3.0</td>\n      <td>4.0</td>\n      <td>7.0</td>\n    </tr>\n    <tr>\n      <th>Hispanic/Latino (United States of America)</th>\n      <td>4.0</td>\n      <td>15.0</td>\n      <td>19.0</td>\n    </tr>\n    <tr>\n      <th>I choose not to disclose (United States of America)</th>\n      <td>0.0</td>\n      <td>1.0</td>\n      <td>1.0</td>\n    </tr>\n    <tr>\n      <th>Two or More Races (United States of America)</th>\n      <td>2.0</td>\n      <td>8.0</td>\n      <td>10.0</td>\n    </tr>\n    <tr>\n      <th>White (United States of America)</th>\n      <td>28.0</td>\n      <td>53.0</td>\n      <td>81.0</td>\n    </tr>\n  </tbody>\n</table>\n</div>"
     },
     "metadata": {},
     "execution_count": 32
    }
   ],
   "source": [
    "# add query result to data frame\n",
    "ethEnt = hr.externalQuery('ethnicity entry co-op us tech',engine)\n",
    "\n",
    "# Pivot Data and Fill NA with 0\n",
    "pivethEnt = ethEnt.pivot_table(index='Ethnicity', columns='Gender Code', values='Worker ID', aggfunc=pd.Series.nunique).fillna(0)\n",
    "\n",
    "#Add Total for validation\n",
    "pivethEnt['Total'] = pivethEnt['F'] + pivethEnt['M'] \n",
    "\n",
    "# output\n",
    "pivethEnt"
   ]
  },
  {
   "source": [
    "## Data Period: As of December 31, 2020 \n",
    "### Q3. <em>Mid-Level</em> Total number of mid-level U.S. technical employees (each employee should be measured in one and only one category):"
   ],
   "cell_type": "markdown",
   "metadata": {}
  },
  {
   "cell_type": "code",
   "execution_count": 34,
   "metadata": {},
   "outputs": [
    {
     "output_type": "execute_result",
     "data": {
      "text/plain": [
       "Gender Code                                            F      M  Total\n",
       "Ethnicity                                                             \n",
       "American Indian/Alaska Native (United States of...   0.0    1.0    1.0\n",
       "Asian (United States of America)                    33.0   43.0   76.0\n",
       "Black/African American (United States of America)    2.0   10.0   12.0\n",
       "Hispanic/Latino (United States of America)           7.0   24.0   31.0\n",
       "I choose not to disclose (United States of Amer...   5.0    7.0   12.0\n",
       "Native Hawaiian/Oth Pac Island (United States o...   1.0    0.0    1.0\n",
       "Two or More Races (United States of America)         7.0   12.0   19.0\n",
       "Unknown                                              5.0   16.0   21.0\n",
       "White (United States of America)                    67.0  161.0  228.0"
      ],
      "text/html": "<div>\n<style scoped>\n    .dataframe tbody tr th:only-of-type {\n        vertical-align: middle;\n    }\n\n    .dataframe tbody tr th {\n        vertical-align: top;\n    }\n\n    .dataframe thead th {\n        text-align: right;\n    }\n</style>\n<table border=\"1\" class=\"dataframe\">\n  <thead>\n    <tr style=\"text-align: right;\">\n      <th>Gender Code</th>\n      <th>F</th>\n      <th>M</th>\n      <th>Total</th>\n    </tr>\n    <tr>\n      <th>Ethnicity</th>\n      <th></th>\n      <th></th>\n      <th></th>\n    </tr>\n  </thead>\n  <tbody>\n    <tr>\n      <th>American Indian/Alaska Native (United States of America)</th>\n      <td>0.0</td>\n      <td>1.0</td>\n      <td>1.0</td>\n    </tr>\n    <tr>\n      <th>Asian (United States of America)</th>\n      <td>33.0</td>\n      <td>43.0</td>\n      <td>76.0</td>\n    </tr>\n    <tr>\n      <th>Black/African American (United States of America)</th>\n      <td>2.0</td>\n      <td>10.0</td>\n      <td>12.0</td>\n    </tr>\n    <tr>\n      <th>Hispanic/Latino (United States of America)</th>\n      <td>7.0</td>\n      <td>24.0</td>\n      <td>31.0</td>\n    </tr>\n    <tr>\n      <th>I choose not to disclose (United States of America)</th>\n      <td>5.0</td>\n      <td>7.0</td>\n      <td>12.0</td>\n    </tr>\n    <tr>\n      <th>Native Hawaiian/Oth Pac Island (United States of America)</th>\n      <td>1.0</td>\n      <td>0.0</td>\n      <td>1.0</td>\n    </tr>\n    <tr>\n      <th>Two or More Races (United States of America)</th>\n      <td>7.0</td>\n      <td>12.0</td>\n      <td>19.0</td>\n    </tr>\n    <tr>\n      <th>Unknown</th>\n      <td>5.0</td>\n      <td>16.0</td>\n      <td>21.0</td>\n    </tr>\n    <tr>\n      <th>White (United States of America)</th>\n      <td>67.0</td>\n      <td>161.0</td>\n      <td>228.0</td>\n    </tr>\n  </tbody>\n</table>\n</div>"
     },
     "metadata": {},
     "execution_count": 34
    }
   ],
   "source": [
    "# add query result to data frame\n",
    "ethMid = hr.externalQuery('ethnicity mid co-op us tech',engine)\n",
    "\n",
    "# Pivot Data and Fill NA with 0\n",
    "pivethMid = ethMid.pivot_table(index='Ethnicity', columns='Gender Code', values='Worker ID', aggfunc=pd.Series.nunique).fillna(0)\n",
    "\n",
    "#Add Total for validation\n",
    "pivethMid['Total'] = pivethMid['F'] + pivethMid['M']\n",
    "\n",
    "# output\n",
    "pivethMid"
   ]
  },
  {
   "source": [
    "## Data Period: As of December 31, 2020 \n",
    "### Q4. <em>Senior Level</em> Total number of senior level U.S. technical employees (each employee should be measured in one and only one category): "
   ],
   "cell_type": "markdown",
   "metadata": {}
  },
  {
   "cell_type": "code",
   "execution_count": 35,
   "metadata": {},
   "outputs": [
    {
     "output_type": "execute_result",
     "data": {
      "text/plain": [
       "Gender Code                                           F     M    U  Total\n",
       "Ethnicity                                                                \n",
       "American Indian/Alaska Native (United States of...  0.0   4.0  0.0    4.0\n",
       "Asian (United States of America)                    1.0   5.0  0.0    6.0\n",
       "Black/African American (United States of America)   0.0   5.0  1.0    6.0\n",
       "Hispanic/Latino (United States of America)          8.0  22.0  0.0   30.0\n",
       "I choose not to disclose (United States of Amer...  0.0   5.0  0.0    5.0\n",
       "Native Hawaiian/Oth Pac Island (United States o...  0.0   1.0  0.0    1.0\n",
       "Two or More Races (United States of America)        0.0   2.0  0.0    2.0\n",
       "Unknown                                             3.0   7.0  0.0   10.0\n",
       "White (United States of America)                    9.0  68.0  0.0   77.0"
      ],
      "text/html": "<div>\n<style scoped>\n    .dataframe tbody tr th:only-of-type {\n        vertical-align: middle;\n    }\n\n    .dataframe tbody tr th {\n        vertical-align: top;\n    }\n\n    .dataframe thead th {\n        text-align: right;\n    }\n</style>\n<table border=\"1\" class=\"dataframe\">\n  <thead>\n    <tr style=\"text-align: right;\">\n      <th>Gender Code</th>\n      <th>F</th>\n      <th>M</th>\n      <th>U</th>\n      <th>Total</th>\n    </tr>\n    <tr>\n      <th>Ethnicity</th>\n      <th></th>\n      <th></th>\n      <th></th>\n      <th></th>\n    </tr>\n  </thead>\n  <tbody>\n    <tr>\n      <th>American Indian/Alaska Native (United States of America)</th>\n      <td>0.0</td>\n      <td>4.0</td>\n      <td>0.0</td>\n      <td>4.0</td>\n    </tr>\n    <tr>\n      <th>Asian (United States of America)</th>\n      <td>1.0</td>\n      <td>5.0</td>\n      <td>0.0</td>\n      <td>6.0</td>\n    </tr>\n    <tr>\n      <th>Black/African American (United States of America)</th>\n      <td>0.0</td>\n      <td>5.0</td>\n      <td>1.0</td>\n      <td>6.0</td>\n    </tr>\n    <tr>\n      <th>Hispanic/Latino (United States of America)</th>\n      <td>8.0</td>\n      <td>22.0</td>\n      <td>0.0</td>\n      <td>30.0</td>\n    </tr>\n    <tr>\n      <th>I choose not to disclose (United States of America)</th>\n      <td>0.0</td>\n      <td>5.0</td>\n      <td>0.0</td>\n      <td>5.0</td>\n    </tr>\n    <tr>\n      <th>Native Hawaiian/Oth Pac Island (United States of America)</th>\n      <td>0.0</td>\n      <td>1.0</td>\n      <td>0.0</td>\n      <td>1.0</td>\n    </tr>\n    <tr>\n      <th>Two or More Races (United States of America)</th>\n      <td>0.0</td>\n      <td>2.0</td>\n      <td>0.0</td>\n      <td>2.0</td>\n    </tr>\n    <tr>\n      <th>Unknown</th>\n      <td>3.0</td>\n      <td>7.0</td>\n      <td>0.0</td>\n      <td>10.0</td>\n    </tr>\n    <tr>\n      <th>White (United States of America)</th>\n      <td>9.0</td>\n      <td>68.0</td>\n      <td>0.0</td>\n      <td>77.0</td>\n    </tr>\n  </tbody>\n</table>\n</div>"
     },
     "metadata": {},
     "execution_count": 35
    }
   ],
   "source": [
    "# add query result to data frame\n",
    "ethSen = hr.externalQuery('ethnicity senior us tech',engine)\n",
    "\n",
    "# Pivot Data and Fill NA with 0\n",
    "pivethSen = ethSen.pivot_table(index='Ethnicity', columns='Gender Code', values='Worker ID', aggfunc=pd.Series.nunique).fillna(0)\n",
    "\n",
    "#Add Total for validation\n",
    "pivethSen['Total'] = pivethSen['F'] + pivethSen['M'] + pivethSen['U']\n",
    "\n",
    "# output\n",
    "pivethSen"
   ]
  },
  {
   "source": [
    "## Data Period: As of December 31, 2020 \n",
    "### Q5. <em>Executive Level</em> Total number of executive level U.S. technical employees (each employee should be measured in one and only one category): "
   ],
   "cell_type": "markdown",
   "metadata": {}
  },
  {
   "cell_type": "code",
   "execution_count": 37,
   "metadata": {},
   "outputs": [
    {
     "output_type": "execute_result",
     "data": {
      "text/plain": [
       "Gender Code                                           F     M  Total\n",
       "Ethnicity                                                           \n",
       "American Indian/Alaska Native (United States of...  1.0   0.0    1.0\n",
       "Asian (United States of America)                    1.0   1.0    2.0\n",
       "I choose not to disclose (United States of Amer...  0.0   1.0    1.0\n",
       "White (United States of America)                    3.0  13.0   16.0"
      ],
      "text/html": "<div>\n<style scoped>\n    .dataframe tbody tr th:only-of-type {\n        vertical-align: middle;\n    }\n\n    .dataframe tbody tr th {\n        vertical-align: top;\n    }\n\n    .dataframe thead th {\n        text-align: right;\n    }\n</style>\n<table border=\"1\" class=\"dataframe\">\n  <thead>\n    <tr style=\"text-align: right;\">\n      <th>Gender Code</th>\n      <th>F</th>\n      <th>M</th>\n      <th>Total</th>\n    </tr>\n    <tr>\n      <th>Ethnicity</th>\n      <th></th>\n      <th></th>\n      <th></th>\n    </tr>\n  </thead>\n  <tbody>\n    <tr>\n      <th>American Indian/Alaska Native (United States of America)</th>\n      <td>1.0</td>\n      <td>0.0</td>\n      <td>1.0</td>\n    </tr>\n    <tr>\n      <th>Asian (United States of America)</th>\n      <td>1.0</td>\n      <td>1.0</td>\n      <td>2.0</td>\n    </tr>\n    <tr>\n      <th>I choose not to disclose (United States of America)</th>\n      <td>0.0</td>\n      <td>1.0</td>\n      <td>1.0</td>\n    </tr>\n    <tr>\n      <th>White (United States of America)</th>\n      <td>3.0</td>\n      <td>13.0</td>\n      <td>16.0</td>\n    </tr>\n  </tbody>\n</table>\n</div>"
     },
     "metadata": {},
     "execution_count": 37
    }
   ],
   "source": [
    "# add query result to data frame\n",
    "ethExe = hr.externalQuery('ethnicity exe co-op us tech',engine)\n",
    "\n",
    "# Pivot Data and Fill NA with 0\n",
    "pivethExe = ethExe.pivot_table(index='Ethnicity', columns='Gender Code', values='Worker ID', aggfunc=pd.Series.nunique).fillna(0)\n",
    "\n",
    "#Add Total for validation\n",
    "pivethExe['Total'] = pivethExe['F'] + pivethExe['M'] \n",
    "\n",
    "# output\n",
    "pivethExe"
   ]
  },
  {
   "source": [
    "## STEP 2. CURRENT YEAR REPRESENTATION CONTINUED"
   ],
   "cell_type": "markdown",
   "metadata": {}
  },
  {
   "source": [
    "## HIRING\n",
    "## Data Period: Between January 1, 2020 - December 31, 2020  \n",
    "### Q.1 Total number (excluding interns) of new U.S. technical employees hired"
   ],
   "cell_type": "markdown",
   "metadata": {}
  },
  {
   "cell_type": "code",
   "execution_count": 43,
   "metadata": {},
   "outputs": [
    {
     "output_type": "execute_result",
     "data": {
      "text/plain": [
       "Gender Code                                            F      M    U  Total\n",
       "Ethnicity                                                                  \n",
       "American Indian/Alaska Native (United States of...   1.0    0.0  0.0    1.0\n",
       "Asian (United States of America)                    25.0   49.0  0.0   74.0\n",
       "Black/African American (United States of America)    0.0   13.0  1.0   14.0\n",
       "Hispanic/Latino (United States of America)           2.0   20.0  0.0   22.0\n",
       "I choose not to disclose (United States of Amer...   3.0    4.0  1.0    8.0\n",
       "Two or More Races (United States of America)         0.0   10.0  0.0   10.0\n",
       "Unknown                                              0.0    1.0  1.0    2.0\n",
       "White (United States of America)                    20.0  115.0  0.0  135.0"
      ],
      "text/html": "<div>\n<style scoped>\n    .dataframe tbody tr th:only-of-type {\n        vertical-align: middle;\n    }\n\n    .dataframe tbody tr th {\n        vertical-align: top;\n    }\n\n    .dataframe thead th {\n        text-align: right;\n    }\n</style>\n<table border=\"1\" class=\"dataframe\">\n  <thead>\n    <tr style=\"text-align: right;\">\n      <th>Gender Code</th>\n      <th>F</th>\n      <th>M</th>\n      <th>U</th>\n      <th>Total</th>\n    </tr>\n    <tr>\n      <th>Ethnicity</th>\n      <th></th>\n      <th></th>\n      <th></th>\n      <th></th>\n    </tr>\n  </thead>\n  <tbody>\n    <tr>\n      <th>American Indian/Alaska Native (United States of America)</th>\n      <td>1.0</td>\n      <td>0.0</td>\n      <td>0.0</td>\n      <td>1.0</td>\n    </tr>\n    <tr>\n      <th>Asian (United States of America)</th>\n      <td>25.0</td>\n      <td>49.0</td>\n      <td>0.0</td>\n      <td>74.0</td>\n    </tr>\n    <tr>\n      <th>Black/African American (United States of America)</th>\n      <td>0.0</td>\n      <td>13.0</td>\n      <td>1.0</td>\n      <td>14.0</td>\n    </tr>\n    <tr>\n      <th>Hispanic/Latino (United States of America)</th>\n      <td>2.0</td>\n      <td>20.0</td>\n      <td>0.0</td>\n      <td>22.0</td>\n    </tr>\n    <tr>\n      <th>I choose not to disclose (United States of America)</th>\n      <td>3.0</td>\n      <td>4.0</td>\n      <td>1.0</td>\n      <td>8.0</td>\n    </tr>\n    <tr>\n      <th>Two or More Races (United States of America)</th>\n      <td>0.0</td>\n      <td>10.0</td>\n      <td>0.0</td>\n      <td>10.0</td>\n    </tr>\n    <tr>\n      <th>Unknown</th>\n      <td>0.0</td>\n      <td>1.0</td>\n      <td>1.0</td>\n      <td>2.0</td>\n    </tr>\n    <tr>\n      <th>White (United States of America)</th>\n      <td>20.0</td>\n      <td>115.0</td>\n      <td>0.0</td>\n      <td>135.0</td>\n    </tr>\n  </tbody>\n</table>\n</div>"
     },
     "metadata": {},
     "execution_count": 43
    }
   ],
   "source": [
    "queryHire = \"\"\"\n",
    "declare @FYStart date = '2019-10-31'\n",
    "\n",
    "Select Distinct\n",
    "    HWD.[Worker ID],\n",
    "    Case\n",
    "    When \n",
    "        HWD.[Gender Code] Is Null Then 'U'\n",
    "    Else\n",
    "        HWD.[Gender Code]\n",
    "    End As [Gender Code],\n",
    "    HWD.[Ethnicity]\n",
    "From \n",
    "\tHP_WORKER_DATA As HWD\n",
    "Left Join \n",
    "    TECH_JOBS_FAM As TT on TT.[Job Family Code] = HWD.[Job Family Code]\n",
    "Where \n",
    "\tHWD.[Report Date] Between '2020-01-01' And '2020-12-31' \n",
    "And \n",
    "    HWD.[Job Family] Not Like 'College'\n",
    "And\n",
    "    Case\n",
    "\tWhen \n",
    "        TT.[Job Family Code] \n",
    "    Is Null Then\n",
    "        'No'\n",
    "\tElse \n",
    "        'Yes'\n",
    "\tEnd Like 'Yes'\n",
    "And\n",
    "    HWD.[Pay Group Country Desc] Like 'United States of America'\n",
    "And \n",
    "\tCase\n",
    "\t\tWhen HWD.[Original Hire Date] > @FYStart or HWD.[Hire Date] > @FYStart then 'Yes'\n",
    "\t\tElse 'No'\n",
    "\tEnd Like 'Yes' \n",
    "\"\"\"\n",
    "\n",
    "techHire = hr.internalQuery(queryHire,engine)\n",
    "\n",
    "# Pivot Data and Fill NA with 0\n",
    "pivTechHire = techHire.pivot_table(index='Ethnicity', columns='Gender Code', values='Worker ID', aggfunc=pd.Series.nunique).fillna(0)\n",
    "\n",
    "#Add Total for validation\n",
    "pivTechHire['Total'] = pivTechHire['F'] + pivTechHire['M'] + pivTechHire['U']\n",
    "\n",
    "# output\n",
    "pivTechHire\n"
   ]
  },
  {
   "source": [
    "## RETENTION\n",
    "## Data Period: Between January 1, 2020 - December 31, 2020  \n",
    "Q2. Total number (excluding interns) of U.S. technical employees who left the company"
   ],
   "cell_type": "markdown",
   "metadata": {}
  },
  {
   "cell_type": "code",
   "execution_count": 44,
   "metadata": {},
   "outputs": [
    {
     "output_type": "execute_result",
     "data": {
      "text/plain": [
       "Gender Code                                            F      M    U  Total\n",
       "Ethnicity                                                                  \n",
       "American Indian/Alaska Native (United States of...   1.0    0.0  0.0    1.0\n",
       "Asian (United States of America)                    25.0   49.0  0.0   74.0\n",
       "Black/African American (United States of America)    0.0   13.0  1.0   14.0\n",
       "Hispanic/Latino (United States of America)           2.0   20.0  0.0   22.0\n",
       "I choose not to disclose (United States of Amer...   3.0    4.0  1.0    8.0\n",
       "Two or More Races (United States of America)         0.0   10.0  0.0   10.0\n",
       "Unknown                                              0.0    1.0  1.0    2.0\n",
       "White (United States of America)                    20.0  115.0  0.0  135.0"
      ],
      "text/html": "<div>\n<style scoped>\n    .dataframe tbody tr th:only-of-type {\n        vertical-align: middle;\n    }\n\n    .dataframe tbody tr th {\n        vertical-align: top;\n    }\n\n    .dataframe thead th {\n        text-align: right;\n    }\n</style>\n<table border=\"1\" class=\"dataframe\">\n  <thead>\n    <tr style=\"text-align: right;\">\n      <th>Gender Code</th>\n      <th>F</th>\n      <th>M</th>\n      <th>U</th>\n      <th>Total</th>\n    </tr>\n    <tr>\n      <th>Ethnicity</th>\n      <th></th>\n      <th></th>\n      <th></th>\n      <th></th>\n    </tr>\n  </thead>\n  <tbody>\n    <tr>\n      <th>American Indian/Alaska Native (United States of America)</th>\n      <td>1.0</td>\n      <td>0.0</td>\n      <td>0.0</td>\n      <td>1.0</td>\n    </tr>\n    <tr>\n      <th>Asian (United States of America)</th>\n      <td>25.0</td>\n      <td>49.0</td>\n      <td>0.0</td>\n      <td>74.0</td>\n    </tr>\n    <tr>\n      <th>Black/African American (United States of America)</th>\n      <td>0.0</td>\n      <td>13.0</td>\n      <td>1.0</td>\n      <td>14.0</td>\n    </tr>\n    <tr>\n      <th>Hispanic/Latino (United States of America)</th>\n      <td>2.0</td>\n      <td>20.0</td>\n      <td>0.0</td>\n      <td>22.0</td>\n    </tr>\n    <tr>\n      <th>I choose not to disclose (United States of America)</th>\n      <td>3.0</td>\n      <td>4.0</td>\n      <td>1.0</td>\n      <td>8.0</td>\n    </tr>\n    <tr>\n      <th>Two or More Races (United States of America)</th>\n      <td>0.0</td>\n      <td>10.0</td>\n      <td>0.0</td>\n      <td>10.0</td>\n    </tr>\n    <tr>\n      <th>Unknown</th>\n      <td>0.0</td>\n      <td>1.0</td>\n      <td>1.0</td>\n      <td>2.0</td>\n    </tr>\n    <tr>\n      <th>White (United States of America)</th>\n      <td>20.0</td>\n      <td>115.0</td>\n      <td>0.0</td>\n      <td>135.0</td>\n    </tr>\n  </tbody>\n</table>\n</div>"
     },
     "metadata": {},
     "execution_count": 44
    }
   ],
   "source": [
    "queryAtt = \"\"\"\n",
    "Select Distinct\n",
    "\tHWD.[Worker ID],\n",
    "    Case\n",
    "    When \n",
    "        HWD.[Gender Code] Is Null Then 'U'\n",
    "    Else\n",
    "        HWD.[Gender Code]\n",
    "    End As [Gender Code],\n",
    "    HWD.[Ethnicity]\n",
    "From \n",
    "\tHP_WORKER_DATA As HWD\n",
    "Inner Join \n",
    "    HP_ATTRITION AS TD On TD.[Report Date] = HWD.[Report Date] \n",
    "And \n",
    "    HWD.[Worker ID] = TD.[Worker ID]\n",
    "And \n",
    "    HWD.[Attrition Type] = 'Voluntary'\n",
    "Left Join \n",
    "    TECH_JOBS_FAM As TT on TT.[Job Family Code] = HWD.[Job Family Code]\n",
    "Where \n",
    "\tHWD.[Termination Date] Between '2020-01-01' And '2020-12-31'\n",
    "And \n",
    "    HWD.[Job Family] Not Like 'College'\n",
    "And\n",
    "    Case\n",
    "\tWhen \n",
    "        TT.[Job Family Code] \n",
    "    Is Null Then\n",
    "        'No'\n",
    "\tElse \n",
    "        'Yes'\n",
    "\tEnd Like 'Yes'\n",
    "And\n",
    "    HWD.[Pay Group Country Desc] Like 'United States of America'     \n",
    "\"\"\"\n",
    "\n",
    "techAtt = hr.internalQuery(queryHire,engine)\n",
    "\n",
    "# Pivot Data and Fill NA with 0\n",
    "pivtechAtt = techAtt.pivot_table(index='Ethnicity', columns='Gender Code', values='Worker ID', aggfunc=pd.Series.nunique).fillna(0)\n",
    "\n",
    "#Add Total for validation\n",
    "pivtechAtt['Total'] = pivtechAtt['F'] + pivtechAtt['M'] + pivtechAtt['U']\n",
    "\n",
    "# output\n",
    "pivtechAtt\n"
   ]
  },
  {
   "source": [
    "## ADVANCEMENT\n",
    "## Data Period: Between January 1, 2020 - December 31, 2020 \n",
    "### Q3. Data Period: Between January 1, 2020 - December 31, 2020  "
   ],
   "cell_type": "markdown",
   "metadata": {}
  },
  {
   "cell_type": "code",
   "execution_count": 5,
   "metadata": {},
   "outputs": [
    {
     "output_type": "execute_result",
     "data": {
      "text/plain": [
       "Gender Code                                            F      M  Total\n",
       "Ethnicity                                                             \n",
       "American Indian/Alaska Native (United States of...   0.0    4.0    4.0\n",
       "Asian (United States of America)                    25.0   37.0   62.0\n",
       "Black/African American (United States of America)    3.0    9.0   12.0\n",
       "Hispanic/Latino (United States of America)          11.0   18.0   29.0\n",
       "I choose not to disclose (United States of Amer...   2.0    5.0    7.0\n",
       "Native Hawaiian/Oth Pac Island (United States o...   0.0    1.0    1.0\n",
       "Two or More Races (United States of America)         2.0    9.0   11.0\n",
       "Unknown                                              6.0   12.0   18.0\n",
       "White (United States of America)                    50.0  187.0  237.0"
      ],
      "text/html": "<div>\n<style scoped>\n    .dataframe tbody tr th:only-of-type {\n        vertical-align: middle;\n    }\n\n    .dataframe tbody tr th {\n        vertical-align: top;\n    }\n\n    .dataframe thead th {\n        text-align: right;\n    }\n</style>\n<table border=\"1\" class=\"dataframe\">\n  <thead>\n    <tr style=\"text-align: right;\">\n      <th>Gender Code</th>\n      <th>F</th>\n      <th>M</th>\n      <th>Total</th>\n    </tr>\n    <tr>\n      <th>Ethnicity</th>\n      <th></th>\n      <th></th>\n      <th></th>\n    </tr>\n  </thead>\n  <tbody>\n    <tr>\n      <th>American Indian/Alaska Native (United States of America)</th>\n      <td>0.0</td>\n      <td>4.0</td>\n      <td>4.0</td>\n    </tr>\n    <tr>\n      <th>Asian (United States of America)</th>\n      <td>25.0</td>\n      <td>37.0</td>\n      <td>62.0</td>\n    </tr>\n    <tr>\n      <th>Black/African American (United States of America)</th>\n      <td>3.0</td>\n      <td>9.0</td>\n      <td>12.0</td>\n    </tr>\n    <tr>\n      <th>Hispanic/Latino (United States of America)</th>\n      <td>11.0</td>\n      <td>18.0</td>\n      <td>29.0</td>\n    </tr>\n    <tr>\n      <th>I choose not to disclose (United States of America)</th>\n      <td>2.0</td>\n      <td>5.0</td>\n      <td>7.0</td>\n    </tr>\n    <tr>\n      <th>Native Hawaiian/Oth Pac Island (United States of America)</th>\n      <td>0.0</td>\n      <td>1.0</td>\n      <td>1.0</td>\n    </tr>\n    <tr>\n      <th>Two or More Races (United States of America)</th>\n      <td>2.0</td>\n      <td>9.0</td>\n      <td>11.0</td>\n    </tr>\n    <tr>\n      <th>Unknown</th>\n      <td>6.0</td>\n      <td>12.0</td>\n      <td>18.0</td>\n    </tr>\n    <tr>\n      <th>White (United States of America)</th>\n      <td>50.0</td>\n      <td>187.0</td>\n      <td>237.0</td>\n    </tr>\n  </tbody>\n</table>\n</div>"
     },
     "metadata": {},
     "execution_count": 5
    }
   ],
   "source": [
    "queryPromo = \"\"\"\n",
    "Select  Distinct   \n",
    "\tHWD1.[Worker ID],\n",
    "    Case\n",
    "    When \n",
    "        HWD1.[Gender Code] Is Null Then 'U'\n",
    "    Else\n",
    "        HWD1.[Gender Code]\n",
    "    End As [Gender Code],\n",
    "    HWD1.[Ethnicity]\n",
    "From \n",
    "\tHC_TRACK_CHANGES As HTC\n",
    "\tInner Join JOB_MOVES As JM On JM.[Move Type] = HTC.[ChangeSubCategory]\n",
    "\tLeft Join HP_WORKER_DATA As HWD1 On HWD1.[Report Date] = HTC.[ReportDate] And HWD1.[Worker ID] = HTC.EmployeeID\n",
    "\tLeft Join HP_WORKER_DATA As HWD2 On HWD2.[Report Date] = HTC.[PreviousReportDate] And HWD2.[Worker ID] = HTC.EmployeeID\n",
    "\tLeft Join TECH_JOBS_FAM AS TJ1 On TJ1.[Job Family] = HWD1.[Job Family]\n",
    "\tLeft Join TECH_JOBS_FAM As TJ2 On TJ2.[Job Family] = HWD2.[Job Family]\n",
    "Where \n",
    "\tHTC.ReportDate Between '2020-01-01' And '2020-12-31'\n",
    "And \n",
    "    HWD1.[Job Family] Not Like 'College'\n",
    "And     \n",
    "\tHTC.[ChangeDescription] Like '%Promotion%'\n",
    "And\n",
    "    Case\n",
    "\tWhen \n",
    "        TJ1.[Job Family Code] \n",
    "    Is Null Then\n",
    "        'No'\n",
    "\tElse \n",
    "        'Yes'\n",
    "\tEnd Like 'Yes'\n",
    "And\n",
    "    HWD1.[Pay Group Country Desc] Like 'United States of America'    \n",
    "\"\"\"\n",
    "\n",
    "techPromo = hr.internalQuery(queryPromo,engine)\n",
    "\n",
    "# Pivot Data and Fill NA with 0\n",
    "pivtechAtt = techPromo.pivot_table(index='Ethnicity', columns='Gender Code', values='Worker ID', aggfunc=pd.Series.nunique).fillna(0)\n",
    "\n",
    "#Add Total for validation\n",
    "pivtechAtt['Total'] = pivtechAtt['F'] + pivtechAtt['M'] \n",
    "\n",
    "# output\n",
    "pivtechAtt\n"
   ]
  },
  {
   "source": [
    "## BOARD DIVERSITY\t\t\t\t\t\n",
    "## Data Period: As of December 31, 2020  \n",
    "### Q4. Total number of individuals on your company’s Board of Directors"
   ],
   "cell_type": "markdown",
   "metadata": {}
  },
  {
   "cell_type": "code",
   "execution_count": null,
   "metadata": {},
   "outputs": [],
   "source": []
  },
  {
   "source": [
    "## ADDITIONAL METRICS\t\t\t\t\t\n",
    "## Data Period: As of December 31, 2020  \n",
    "### Q5. Total number (excluding interns) of technical and non-technical U.S. employees\n"
   ],
   "cell_type": "markdown",
   "metadata": {}
  },
  {
   "cell_type": "code",
   "execution_count": 8,
   "metadata": {},
   "outputs": [
    {
     "output_type": "execute_result",
     "data": {
      "text/plain": [
       "Gender Code                                              F       M    U  \\\n",
       "Ethnicity                                                                 \n",
       "American Indian/Alaska Native (United States of...    15.0    45.0  0.0   \n",
       "Asian (United States of America)                     555.0   956.0  0.0   \n",
       "Black/African American (United States of America)    156.0   303.0  1.0   \n",
       "Hispanic/Latino (United States of America)           388.0   689.0  1.0   \n",
       "I choose not to disclose (United States of Amer...    77.0   251.0  3.0   \n",
       "Native Hawaiian/Oth Pac Island (United States o...     7.0     9.0  0.0   \n",
       "Two or More Races (United States of America)          72.0   169.0  2.0   \n",
       "Unknown                                              188.0   372.0  0.0   \n",
       "White (United States of America)                    2252.0  5062.0  3.0   \n",
       "\n",
       "Gender Code                                          Total  \n",
       "Ethnicity                                                   \n",
       "American Indian/Alaska Native (United States of...    60.0  \n",
       "Asian (United States of America)                    1511.0  \n",
       "Black/African American (United States of America)    460.0  \n",
       "Hispanic/Latino (United States of America)          1078.0  \n",
       "I choose not to disclose (United States of Amer...   331.0  \n",
       "Native Hawaiian/Oth Pac Island (United States o...    16.0  \n",
       "Two or More Races (United States of America)         243.0  \n",
       "Unknown                                              560.0  \n",
       "White (United States of America)                    7317.0  "
      ],
      "text/html": "<div>\n<style scoped>\n    .dataframe tbody tr th:only-of-type {\n        vertical-align: middle;\n    }\n\n    .dataframe tbody tr th {\n        vertical-align: top;\n    }\n\n    .dataframe thead th {\n        text-align: right;\n    }\n</style>\n<table border=\"1\" class=\"dataframe\">\n  <thead>\n    <tr style=\"text-align: right;\">\n      <th>Gender Code</th>\n      <th>F</th>\n      <th>M</th>\n      <th>U</th>\n      <th>Total</th>\n    </tr>\n    <tr>\n      <th>Ethnicity</th>\n      <th></th>\n      <th></th>\n      <th></th>\n      <th></th>\n    </tr>\n  </thead>\n  <tbody>\n    <tr>\n      <th>American Indian/Alaska Native (United States of America)</th>\n      <td>15.0</td>\n      <td>45.0</td>\n      <td>0.0</td>\n      <td>60.0</td>\n    </tr>\n    <tr>\n      <th>Asian (United States of America)</th>\n      <td>555.0</td>\n      <td>956.0</td>\n      <td>0.0</td>\n      <td>1511.0</td>\n    </tr>\n    <tr>\n      <th>Black/African American (United States of America)</th>\n      <td>156.0</td>\n      <td>303.0</td>\n      <td>1.0</td>\n      <td>460.0</td>\n    </tr>\n    <tr>\n      <th>Hispanic/Latino (United States of America)</th>\n      <td>388.0</td>\n      <td>689.0</td>\n      <td>1.0</td>\n      <td>1078.0</td>\n    </tr>\n    <tr>\n      <th>I choose not to disclose (United States of America)</th>\n      <td>77.0</td>\n      <td>251.0</td>\n      <td>3.0</td>\n      <td>331.0</td>\n    </tr>\n    <tr>\n      <th>Native Hawaiian/Oth Pac Island (United States of America)</th>\n      <td>7.0</td>\n      <td>9.0</td>\n      <td>0.0</td>\n      <td>16.0</td>\n    </tr>\n    <tr>\n      <th>Two or More Races (United States of America)</th>\n      <td>72.0</td>\n      <td>169.0</td>\n      <td>2.0</td>\n      <td>243.0</td>\n    </tr>\n    <tr>\n      <th>Unknown</th>\n      <td>188.0</td>\n      <td>372.0</td>\n      <td>0.0</td>\n      <td>560.0</td>\n    </tr>\n    <tr>\n      <th>White (United States of America)</th>\n      <td>2252.0</td>\n      <td>5062.0</td>\n      <td>3.0</td>\n      <td>7317.0</td>\n    </tr>\n  </tbody>\n</table>\n</div>"
     },
     "metadata": {},
     "execution_count": 8
    }
   ],
   "source": [
    "queryHire = \"\"\"\n",
    "Select Distinct\n",
    "    HWD.[Worker ID],\n",
    "    Case\n",
    "    When \n",
    "        HWD.[Gender Code] Is Null Then 'U'\n",
    "    Else\n",
    "        HWD.[Gender Code]\n",
    "    End As [Gender Code],\n",
    "    HWD.[Ethnicity]\n",
    "From \n",
    "\tHP_WORKER_DATA As HWD\n",
    "Where \n",
    "\tHWD.[Report Date] Like '2020-12-31' \n",
    "And\n",
    "    [Worker Reg / Temp Code] = N'R' \n",
    "And \n",
    "\t[Worker Status Category Code] = N'A' \n",
    "And\n",
    "    HWD.[Job Family] Not Like 'College'\n",
    "And\n",
    "    HWD.[Pay Group Country Desc] Like 'United States of America' \n",
    "\"\"\"\n",
    "\n",
    "techHire = hr.internalQuery(queryHire,engine)\n",
    "\n",
    "# Pivot Data and Fill NA with 0\n",
    "pivTechHire = techHire.pivot_table(index='Ethnicity', columns='Gender Code', values='Worker ID', aggfunc=pd.Series.nunique).fillna(0)\n",
    "\n",
    "#Add Total for validation\n",
    "pivTechHire['Total'] = pivTechHire['F'] + pivTechHire['M'] + pivTechHire['U']\n",
    "\n",
    "# output\n",
    "pivTechHire\n"
   ]
  },
  {
   "source": [
    "## Data Period: As of December 31, 2020  \n",
    "### Q.6 Total number (excluding interns) of global technical employees:\t\t\t\t\t"
   ],
   "cell_type": "markdown",
   "metadata": {}
  },
  {
   "cell_type": "code",
   "execution_count": 15,
   "metadata": {},
   "outputs": [
    {
     "output_type": "execute_result",
     "data": {
      "text/plain": [
       "             Worker ID  Ethnicity\n",
       "Gender Code                      \n",
       "F                 4034       4034\n",
       "M                14022      14022\n",
       "U                   47         47"
      ],
      "text/html": "<div>\n<style scoped>\n    .dataframe tbody tr th:only-of-type {\n        vertical-align: middle;\n    }\n\n    .dataframe tbody tr th {\n        vertical-align: top;\n    }\n\n    .dataframe thead th {\n        text-align: right;\n    }\n</style>\n<table border=\"1\" class=\"dataframe\">\n  <thead>\n    <tr style=\"text-align: right;\">\n      <th></th>\n      <th>Worker ID</th>\n      <th>Ethnicity</th>\n    </tr>\n    <tr>\n      <th>Gender Code</th>\n      <th></th>\n      <th></th>\n    </tr>\n  </thead>\n  <tbody>\n    <tr>\n      <th>F</th>\n      <td>4034</td>\n      <td>4034</td>\n    </tr>\n    <tr>\n      <th>M</th>\n      <td>14022</td>\n      <td>14022</td>\n    </tr>\n    <tr>\n      <th>U</th>\n      <td>47</td>\n      <td>47</td>\n    </tr>\n  </tbody>\n</table>\n</div>"
     },
     "metadata": {},
     "execution_count": 15
    }
   ],
   "source": [
    "queryHire = \"\"\"\n",
    "Select Distinct\n",
    "    HWD.[Worker ID],\n",
    "    Case\n",
    "    When \n",
    "        HWD.[Gender Code] Is Null Then 'U'\n",
    "    Else\n",
    "        HWD.[Gender Code]\n",
    "    End As [Gender Code],\n",
    "    HWD.[Ethnicity]\n",
    "From \n",
    "\tHP_WORKER_DATA As HWD\n",
    "Left Join \n",
    "    TECH_JOBS_FAM As TT on TT.[Job Family Code] = HWD.[Job Family Code]\n",
    "Where \n",
    "\tHWD.[Report Date] Like '2020-12-31' \n",
    "And\n",
    "    [Worker Reg / Temp Code] = N'R' \n",
    "And \n",
    "\t[Worker Status Category Code] = N'A' \n",
    "And\n",
    "    HWD.[Job Family] Not Like 'College'\n",
    "And\n",
    "    Case\n",
    "\tWhen \n",
    "        TT.[Job Family Code] \n",
    "    Is Null Then\n",
    "        'No'\n",
    "\tElse \n",
    "        'Yes'\n",
    "\tEnd Like 'Yes' \n",
    "\"\"\"\n",
    "\n",
    "techHire = hr.internalQuery(queryHire,engine)\n",
    "\n",
    "# Pivot Data and Fill NA with 0\n",
    "techHire.groupby(\"Gender Code\").count()\n",
    "\n"
   ]
  },
  {
   "source": [
    "## Data Period: Between January 1, 2020 - December 31, 2020  \n",
    "### Q7. Average  number (excluding interns) of U.S. technical employees across all levels who are men"
   ],
   "cell_type": "markdown",
   "metadata": {}
  },
  {
   "cell_type": "code",
   "execution_count": 16,
   "metadata": {},
   "outputs": [
    {
     "output_type": "execute_result",
     "data": {
      "text/plain": [
       "4308"
      ]
     },
     "metadata": {},
     "execution_count": 16
    }
   ],
   "source": [
    "queryHire = \"\"\"\n",
    "Select Distinct\n",
    "    Count(HWD.[Worker ID]) As [Male Count]\n",
    "     \n",
    "From \n",
    "    HP_WORKER_DATA As HWD\n",
    "Left Join \n",
    "    TECH_JOBS_FAM As TT on TT.[Job Family Code] = HWD.[Job Family Code]\n",
    "Where \n",
    "    HWD.[Report Date] Between '2020-01-01' And '2020-12-31' \n",
    "And \n",
    "    HWD.[Job Family] Not Like 'College'\n",
    "And\n",
    "    Case\n",
    "\tWhen \n",
    "        TT.[Job Family Code] \n",
    "    Is Null Then\n",
    "        'No'\n",
    "\tElse \n",
    "        'Yes'\n",
    "\tEnd Like 'Yes'\n",
    "And\n",
    "    [Worker Reg / Temp Code] = N'R' \n",
    "And \n",
    "\t[Worker Status Category Code] = N'A' \n",
    "And \n",
    "     HWD.[Gender Code] Like 'M'\n",
    "And\n",
    "    HWD.[Pay Group Country Desc] Like 'United States of America'\n",
    "Group By \n",
    "    HWD.[Report Date]\n",
    "\"\"\"\n",
    "\n",
    "avgM =  hr.internalQuery(queryHire,engine)\n",
    "\n",
    "round(avgM[\"Male Count\"].mean())"
   ]
  },
  {
   "source": [
    "## Data Period: Between January 1, 2020 - December 31, 2020  \n",
    "### Q8. Average number (excluding interns) of U.S. technical employees across all levels who are women"
   ],
   "cell_type": "markdown",
   "metadata": {}
  },
  {
   "cell_type": "code",
   "execution_count": 17,
   "metadata": {},
   "outputs": [
    {
     "output_type": "execute_result",
     "data": {
      "text/plain": [
       "943"
      ]
     },
     "metadata": {},
     "execution_count": 17
    }
   ],
   "source": [
    "queryHire = \"\"\"\n",
    "Select Distinct\n",
    "    Count(HWD.[Worker ID]) As [Male Count]\n",
    "     \n",
    "From \n",
    "    HP_WORKER_DATA As HWD\n",
    "Left Join \n",
    "    TECH_JOBS_FAM As TT on TT.[Job Family Code] = HWD.[Job Family Code]\n",
    "Where \n",
    "    HWD.[Report Date] Between '2020-01-01' And '2020-12-31' \n",
    "And \n",
    "    HWD.[Job Family] Not Like 'College'\n",
    "And\n",
    "    Case\n",
    "\tWhen \n",
    "        TT.[Job Family Code] \n",
    "    Is Null Then\n",
    "        'No'\n",
    "\tElse \n",
    "        'Yes'\n",
    "\tEnd Like 'Yes'\n",
    "And\n",
    "    [Worker Reg / Temp Code] = N'R' \n",
    "And \n",
    "\t[Worker Status Category Code] = N'A' \n",
    "And \n",
    "     HWD.[Gender Code] Like 'F'\n",
    "And\n",
    "    HWD.[Pay Group Country Desc] Like 'United States of America'\n",
    "Group By \n",
    "    HWD.[Report Date]\n",
    "\"\"\"\n",
    "\n",
    "avgM =  hr.internalQuery(queryHire,engine)\n",
    "\n",
    "round(avgM[\"Male Count\"].mean())"
   ]
  },
  {
   "source": [
    "## Data Period: Between January 1, 2020 - December 31, 2020  \n",
    "### Q9. Average number (excluding interns) of U.S. technical employees across all levels who are non-binary"
   ],
   "cell_type": "markdown",
   "metadata": {}
  },
  {
   "cell_type": "code",
   "execution_count": null,
   "metadata": {},
   "outputs": [],
   "source": []
  }
 ]
}